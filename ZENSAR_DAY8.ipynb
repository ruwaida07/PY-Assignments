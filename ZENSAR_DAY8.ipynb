{
  "nbformat": 4,
  "nbformat_minor": 0,
  "metadata": {
    "kernelspec": {
      "display_name": "Python 3",
      "language": "python",
      "name": "python3"
    },
    "language_info": {
      "codemirror_mode": {
        "name": "ipython",
        "version": 3
      },
      "file_extension": ".py",
      "mimetype": "text/x-python",
      "name": "python",
      "nbconvert_exporter": "python",
      "pygments_lexer": "ipython3",
      "version": "3.8.5"
    },
    "colab": {
      "name": "ZENSAR DAY8.ipynb",
      "provenance": []
    }
  },
  "cells": [
    {
      "cell_type": "markdown",
      "metadata": {
        "id": "HvW86WTuuqvS"
      },
      "source": [
        "**WAP to for exception divide by zero**"
      ]
    },
    {
      "cell_type": "code",
      "metadata": {
        "id": "5Ufl5UzptcVd",
        "outputId": "f0d75bd9-58fa-43fa-dea1-6cad5b104f55"
      },
      "source": [
        "print(\"hello\")\n",
        "x=int(input(\"enter x value\"))\n",
        "y=int(input(\"enter y value\"))\n",
        "\n",
        "z=x/y\n",
        "print(z)\n",
        "print(\"welcome\")"
      ],
      "execution_count": null,
      "outputs": [
        {
          "output_type": "stream",
          "text": [
            "hello\n",
            "enter x value2\n",
            "enter y value0\n"
          ],
          "name": "stdout"
        },
        {
          "output_type": "error",
          "ename": "ZeroDivisionError",
          "evalue": "division by zero",
          "traceback": [
            "\u001b[1;31m---------------------------------------------------------------------------\u001b[0m",
            "\u001b[1;31mZeroDivisionError\u001b[0m                         Traceback (most recent call last)",
            "\u001b[1;32m<ipython-input-3-917300f883c9>\u001b[0m in \u001b[0;36m<module>\u001b[1;34m\u001b[0m\n\u001b[0;32m      3\u001b[0m \u001b[0my\u001b[0m\u001b[1;33m=\u001b[0m\u001b[0mint\u001b[0m\u001b[1;33m(\u001b[0m\u001b[0minput\u001b[0m\u001b[1;33m(\u001b[0m\u001b[1;34m\"enter y value\"\u001b[0m\u001b[1;33m)\u001b[0m\u001b[1;33m)\u001b[0m\u001b[1;33m\u001b[0m\u001b[1;33m\u001b[0m\u001b[0m\n\u001b[0;32m      4\u001b[0m \u001b[1;33m\u001b[0m\u001b[0m\n\u001b[1;32m----> 5\u001b[1;33m \u001b[0mz\u001b[0m\u001b[1;33m=\u001b[0m\u001b[0mx\u001b[0m\u001b[1;33m/\u001b[0m\u001b[0my\u001b[0m\u001b[1;33m\u001b[0m\u001b[1;33m\u001b[0m\u001b[0m\n\u001b[0m\u001b[0;32m      6\u001b[0m \u001b[0mprint\u001b[0m\u001b[1;33m(\u001b[0m\u001b[0mz\u001b[0m\u001b[1;33m)\u001b[0m\u001b[1;33m\u001b[0m\u001b[1;33m\u001b[0m\u001b[0m\n\u001b[0;32m      7\u001b[0m \u001b[0mprint\u001b[0m\u001b[1;33m(\u001b[0m\u001b[1;34m\"welcome\"\u001b[0m\u001b[1;33m)\u001b[0m\u001b[1;33m\u001b[0m\u001b[1;33m\u001b[0m\u001b[0m\n",
            "\u001b[1;31mZeroDivisionError\u001b[0m: division by zero"
          ]
        }
      ]
    },
    {
      "cell_type": "code",
      "metadata": {
        "id": "8wp8FwlbtcVk",
        "outputId": "c3257831-473a-4afc-b442-3ad1be2b3498"
      },
      "source": [
        "print(w)"
      ],
      "execution_count": null,
      "outputs": [
        {
          "output_type": "error",
          "ename": "NameError",
          "evalue": "name 'w' is not defined",
          "traceback": [
            "\u001b[1;31m---------------------------------------------------------------------------\u001b[0m",
            "\u001b[1;31mNameError\u001b[0m                                 Traceback (most recent call last)",
            "\u001b[1;32m<ipython-input-5-bcfe7ead5c3f>\u001b[0m in \u001b[0;36m<module>\u001b[1;34m\u001b[0m\n\u001b[1;32m----> 1\u001b[1;33m \u001b[0mprint\u001b[0m\u001b[1;33m(\u001b[0m\u001b[0mw\u001b[0m\u001b[1;33m)\u001b[0m\u001b[1;33m\u001b[0m\u001b[1;33m\u001b[0m\u001b[0m\n\u001b[0m",
            "\u001b[1;31mNameError\u001b[0m: name 'w' is not defined"
          ]
        }
      ]
    },
    {
      "cell_type": "code",
      "metadata": {
        "id": "X7hkKBkZtcVk",
        "outputId": "d12839ee-00f9-4a70-94c2-565937eaccb8"
      },
      "source": [
        "print x"
      ],
      "execution_count": null,
      "outputs": [
        {
          "output_type": "error",
          "ename": "SyntaxError",
          "evalue": "Missing parentheses in call to 'print'. Did you mean print(x)? (<ipython-input-7-0b640320f694>, line 1)",
          "traceback": [
            "\u001b[1;36m  File \u001b[1;32m\"<ipython-input-7-0b640320f694>\"\u001b[1;36m, line \u001b[1;32m1\u001b[0m\n\u001b[1;33m    print x\u001b[0m\n\u001b[1;37m          ^\u001b[0m\n\u001b[1;31mSyntaxError\u001b[0m\u001b[1;31m:\u001b[0m Missing parentheses in call to 'print'. Did you mean print(x)?\n"
          ]
        }
      ]
    },
    {
      "cell_type": "markdown",
      "metadata": {
        "id": "_OdcpHpuu7Cy"
      },
      "source": [
        "**Try block**"
      ]
    },
    {
      "cell_type": "code",
      "metadata": {
        "id": "H5FxQoIztcVl",
        "outputId": "e141ab40-e61d-4b4c-a10c-a6438af5de7a"
      },
      "source": [
        "try:\n",
        "    print (a)\n",
        "except:\n",
        "    print(\"a is not defined\")\n",
        "print(\"hello and welcome to exception handling\")"
      ],
      "execution_count": null,
      "outputs": [
        {
          "output_type": "stream",
          "text": [
            "a is not defined\n",
            "hello and welcome to exception handling\n"
          ],
          "name": "stdout"
        }
      ]
    },
    {
      "cell_type": "markdown",
      "metadata": {
        "id": "xfhZMMbFvA6Q"
      },
      "source": [
        "**Try and finally block**"
      ]
    },
    {
      "cell_type": "code",
      "metadata": {
        "id": "4_-vwLKntcVl"
      },
      "source": [
        "\n",
        "SYNTAX\n",
        "\n",
        "try:\n",
        "    <body>\n",
        "    except <exceptiontype1>:\n",
        "        <handler>\n",
        "     ...\n",
        "     except <exceptiontypen>:\n",
        "        <handlern>\n",
        "    except :\n",
        "        <hadler>\n",
        "    else:\n",
        "        <>\n",
        "    finally:\n",
        "        <>"
      ],
      "execution_count": null,
      "outputs": []
    },
    {
      "cell_type": "code",
      "metadata": {
        "id": "LbRuU9GetcVm",
        "outputId": "eb0f2760-eaeb-451d-ca8e-6bfe28c185c9"
      },
      "source": [
        "\n",
        "\n",
        "print(\"hello programmer\")\n",
        "#q=45\n",
        "try:\n",
        "    print(\"in try block\")\n",
        "    print (q)\n",
        "    print(\"exit form try block\")\n",
        "except:\n",
        "    print(\"q is not defined\")\n",
        "else:\n",
        "    print(\"in else block\")\n",
        "finally:\n",
        "    print(\"in finally\")\n",
        "print(\"hello and welcome to exception handling\")"
      ],
      "execution_count": null,
      "outputs": [
        {
          "output_type": "stream",
          "text": [
            "hello programmer\n",
            "in try block\n",
            "q is not defined\n",
            "in finally\n",
            "hello and welcome to exception handling\n"
          ],
          "name": "stdout"
        }
      ]
    },
    {
      "cell_type": "code",
      "metadata": {
        "id": "iiFiunu2tcVm",
        "outputId": "1abc8e47-0a04-4917-9771-9a8e25525ed7"
      },
      "source": [
        "def checkexcep():\n",
        "\n",
        "    print(\"hello programmer\")\n",
        "    q=45\n",
        "    try:\n",
        "        print(\"in try block\")\n",
        "        print (q)\n",
        "        #return 1\n",
        "        print(\"exit form try block\")\n",
        "    except:\n",
        "        print(\"q is not defined\")\n",
        "        return 2\n",
        "    else:\n",
        "        print(\"in else block\")\n",
        "        return 3\n",
        "    finally:\n",
        "        print(\"in finally\")\n",
        "        return 4\n",
        "    print(\"hello and welcome to exception handling\")\n",
        "ret=checkexcep()\n",
        "print(ret)"
      ],
      "execution_count": null,
      "outputs": [
        {
          "output_type": "stream",
          "text": [
            "hello programmer\n",
            "in try block\n",
            "45\n",
            "exit form try block\n",
            "in else block\n",
            "in finally\n",
            "4\n"
          ],
          "name": "stdout"
        }
      ]
    },
    {
      "cell_type": "code",
      "metadata": {
        "colab": {
          "base_uri": "https://localhost:8080/"
        },
        "id": "kZ9lTLBatcVm",
        "outputId": "22116550-d481-4686-aefa-5be2b9e1c8f1"
      },
      "source": [
        "bal=8000\n",
        "\n",
        "try:\n",
        "    amount = int(input(\"Enter amount to be withdrawn: \"))\n",
        "    rem = bal- amount\n",
        "    if rem < 500:\n",
        "        raise Exception(\"Minimum amount reached\")\n",
        "    else:\n",
        "        print(\"\\nStatement\\n\")\n",
        "        print(\"Amount withdrawn: \",amount)\n",
        "        print(\"Remaining balance: \",rem)\n",
        "except Exception as e:\n",
        "    print(\"Please increase amount: \" + str(e))"
      ],
      "execution_count": 6,
      "outputs": [
        {
          "output_type": "stream",
          "text": [
            "Enter amount to be withdrawn: 9000\n",
            "Please increase amount: Minimum amount reached\n"
          ],
          "name": "stdout"
        }
      ]
    },
    {
      "cell_type": "code",
      "metadata": {
        "colab": {
          "base_uri": "https://localhost:8080/"
        },
        "id": "OLHm7UeBujUo",
        "outputId": "4aede65f-4824-4023-8d49-66c1ef6c2b5c"
      },
      "source": [
        "bal=8000\r\n",
        "\r\n",
        "try:\r\n",
        "    amount = int(input(\"Enter amount to be withdrawn: \"))\r\n",
        "    rem = bal- amount\r\n",
        "    if rem < 500:\r\n",
        "        raise Exception(\"Minimum amount reached\")\r\n",
        "    else:\r\n",
        "        print(\"\\nStatement\\n\")\r\n",
        "        print(\"Amount withdrawn: \",amount)\r\n",
        "        print(\"Remaining balance: \",rem)\r\n",
        "except Exception as e:\r\n",
        "    print(\"Please increase amount: \" + str(e))"
      ],
      "execution_count": 7,
      "outputs": [
        {
          "output_type": "stream",
          "text": [
            "Enter amount to be withdrawn: 6000\n",
            "\n",
            "Statement\n",
            "\n",
            "Amount withdrawn:  6000\n",
            "Remaining balance:  2000\n"
          ],
          "name": "stdout"
        }
      ]
    },
    {
      "cell_type": "code",
      "metadata": {
        "colab": {
          "base_uri": "https://localhost:8080/"
        },
        "id": "p7r0xxX6tcVn",
        "outputId": "013c3275-dc49-41df-d7c4-8479bf2d7f83"
      },
      "source": [
        "fy=float(input(\"Enter first year pointer:\"))\n",
        "sy=float(input(\"Enter second year pointer:\"))\n",
        "ty=float(input(\"Enter third year pointer:\"))"
      ],
      "execution_count": 2,
      "outputs": [
        {
          "output_type": "stream",
          "text": [
            "Enter first year pointer:7.08\n",
            "Enter second year pointer:8.09\n",
            "Enter third year pointer:9.80\n"
          ],
          "name": "stdout"
        }
      ]
    },
    {
      "cell_type": "code",
      "metadata": {
        "colab": {
          "base_uri": "https://localhost:8080/"
        },
        "id": "AakOAGixtcVn",
        "outputId": "396340f9-5cb5-4855-fdf5-34fddc0c741b"
      },
      "source": [
        "while True:\n",
        "    try:\n",
        "        x=int(input(\"Enter number:\"))\n",
        "        if not type (x) is int:\n",
        "            raise TypeError(\"Only integer are allowed!!\")\n",
        "        else:\n",
        "            break\n",
        "    except TypeError as e:\n",
        "        print(\"Error\"+str(e))\n",
        "    except:\n",
        "        print(\"Please enter only integer\")"
      ],
      "execution_count": 4,
      "outputs": [
        {
          "output_type": "stream",
          "text": [
            "Enter number:m\n",
            "Please enter only integer\n",
            "Enter number:9\n"
          ],
          "name": "stdout"
        }
      ]
    }
  ]
}
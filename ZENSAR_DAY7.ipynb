{
  "nbformat": 4,
  "nbformat_minor": 0,
  "metadata": {
    "colab": {
      "name": "ZENSAR DAY7.ipynb",
      "provenance": []
    },
    "kernelspec": {
      "name": "python3",
      "display_name": "Python 3"
    }
  },
  "cells": [
    {
      "cell_type": "markdown",
      "metadata": {
        "id": "_rso24VIrVgG"
      },
      "source": [
        "**Inheritance**"
      ]
    },
    {
      "cell_type": "code",
      "metadata": {
        "colab": {
          "base_uri": "https://localhost:8080/"
        },
        "id": "ZuWdRMg2NqII",
        "outputId": "38af9893-a85e-4724-8548-66a4d7c98a02"
      },
      "source": [
        "class Parent():\r\n",
        "       def first(self):\r\n",
        "           print('first function')\r\n",
        "       def third(self):\r\n",
        "           print('third function')\r\n",
        " \r\n",
        "class Child(Parent):\r\n",
        "       def second(self):\r\n",
        "          print('second function')\r\n",
        " \r\n",
        "ob = Child()\r\n",
        "ob.first()\r\n",
        "ob.second()\r\n",
        "ob.third()\r\n"
      ],
      "execution_count": null,
      "outputs": [
        {
          "output_type": "stream",
          "text": [
            "first function\n",
            "second function\n",
            "third function\n"
          ],
          "name": "stdout"
        }
      ]
    },
    {
      "cell_type": "code",
      "metadata": {
        "colab": {
          "base_uri": "https://localhost:8080/"
        },
        "id": "4K2kkeHOW27d",
        "outputId": "3a221ebc-22d8-47e2-ebcc-57ffd22bb18e"
      },
      "source": [
        "class Parent1:\r\n",
        "    def __init__(self):\r\n",
        "        self.parent = 1\r\n",
        "        self.innerclass = self.XYZ()\r\n",
        "    def feature1(self):\r\n",
        "        print(\"This is feature 1..\")\r\n",
        "    def feature2(self):\r\n",
        "        print(\"This is feature 2..\")\r\n",
        "    def show(self):\r\n",
        "        print(self.parent)\r\n",
        "        self.innerclass.show()\r\n",
        "\r\n",
        "    class XYZ:\r\n",
        "       def __init__(self):\r\n",
        "           self.xyz = 12\r\n",
        "       def show(self):\r\n",
        "           print(\"in XYZ innerclass\")\r\n",
        "          \r\n",
        "        \r\n",
        "class Derived(Parent1):\r\n",
        "    def feature3(self):\r\n",
        "        print(\"This is feature 3..\")\r\n",
        "        \r\n",
        "        \r\n",
        "p = Parent1()\r\n",
        "p.show()\r\n"
      ],
      "execution_count": null,
      "outputs": [
        {
          "output_type": "stream",
          "text": [
            "1\n",
            "in XYZ innerclass\n"
          ],
          "name": "stdout"
        }
      ]
    },
    {
      "cell_type": "code",
      "metadata": {
        "colab": {
          "base_uri": "https://localhost:8080/"
        },
        "id": "zvoPFo02ibj4",
        "outputId": "2d24e890-e5ee-44b3-9452-027d06b9e96b"
      },
      "source": [
        "class Point():\r\n",
        "  def __init__(self,x,y,z = None):\r\n",
        "    self.x = x\r\n",
        "    self.y = y\r\n",
        "    self.z = z\r\n",
        "\r\n",
        "  def add(self,*x):\r\n",
        "    c = 0\r\n",
        "    for i in x:\r\n",
        "      c = c + i\r\n",
        "    return c\r\n",
        "  '''\r\n",
        "  (self,x,y,z):\r\n",
        "    if z == None :\r\n",
        "      return x + y\r\n",
        "    else:\r\n",
        "      return x + y + z;\r\n",
        "'''\r\n",
        "  def show(self):\r\n",
        "    print(f\"{self.x}{self.y}{self.z}\")     \r\n",
        "\r\n",
        "d1 = Point(2,3)\r\n",
        "#print(d1.add(12,23))\r\n",
        "print(d1.add(12,23,45,43,6,657,98))"
      ],
      "execution_count": null,
      "outputs": [
        {
          "output_type": "stream",
          "text": [
            "884\n"
          ],
          "name": "stdout"
        }
      ]
    },
    {
      "cell_type": "code",
      "metadata": {
        "colab": {
          "base_uri": "https://localhost:8080/"
        },
        "id": "clZpbASjlRde",
        "outputId": "4ed36749-27ab-4a57-a7f9-05df7ab4a12b"
      },
      "source": [
        "class point:\r\n",
        "  def _init_(self, x, y, z=8):\r\n",
        "    self.x=x\r\n",
        "    self.y=y\r\n",
        "    self.z=z\r\n",
        "\r\n",
        "  def add(self,**x):\r\n",
        "    for k, v in x.items():\r\n",
        "      print(k,v)\r\n",
        "\r\n",
        "  def show(self):\r\n",
        "    print(f\"{self.x} {self.y} {self.z}\")\r\n",
        "\r\n",
        "d1=point()\r\n",
        "d1.add(x=23, y=34, p=34, a=43, r=543)"
      ],
      "execution_count": null,
      "outputs": [
        {
          "output_type": "stream",
          "text": [
            "x 23\n",
            "y 34\n",
            "p 34\n",
            "a 43\n",
            "r 543\n"
          ],
          "name": "stdout"
        }
      ]
    },
    {
      "cell_type": "markdown",
      "metadata": {
        "id": "lbA3ivnirLyI"
      },
      "source": [
        "**Duct typing**"
      ]
    },
    {
      "cell_type": "code",
      "metadata": {
        "colab": {
          "base_uri": "https://localhost:8080/"
        },
        "id": "T44Xo_RDlhKK",
        "outputId": "95913651-b102-4f70-dfa1-0a1f739688c9"
      },
      "source": [
        "class Program:\r\n",
        "  def __init__(self,lang):\r\n",
        "    self.lang = lang;\r\n",
        "\r\n",
        "  def code(self):\r\n",
        "    print('program coding')\r\n",
        "    self.lang.execute();\r\n",
        "\r\n",
        "class Cprog:\r\n",
        "  def execute(self):\r\n",
        "    print('c Program')\r\n",
        "\r\n",
        "class PythonProg:\r\n",
        "  def execute(self):\r\n",
        "    print(\"python prog\")\r\n",
        "#cp = Cprog()\r\n",
        "#program = Program(cp)\r\n",
        "py = PythonProg()\r\n",
        "program = Program(py)\r\n",
        "program.code()"
      ],
      "execution_count": null,
      "outputs": [
        {
          "output_type": "stream",
          "text": [
            "program coding\n",
            "python prog\n"
          ],
          "name": "stdout"
        }
      ]
    },
    {
      "cell_type": "markdown",
      "metadata": {
        "id": "Vu8GVHxCrlYN"
      },
      "source": [
        "**WAP to create class student and display marks total of marks with add method**"
      ]
    },
    {
      "cell_type": "code",
      "metadata": {
        "colab": {
          "base_uri": "https://localhost:8080/"
        },
        "id": "kl2iwYMzsRrF",
        "outputId": "9d2dc389-a07a-4c3b-99ec-a4bb1a3f17c1"
      },
      "source": [
        "class student:\r\n",
        "  def __init__(self,m1,m2,m3):\r\n",
        "    self.m1 = m1\r\n",
        "    self.m2 = m2\r\n",
        "    self.m3 = m3\r\n",
        "\r\n",
        "  def show(self):\r\n",
        "    print(f\"m1 = {self.m1}m2 = {self.m2}m3 = {self.m3}\")\r\n",
        "\r\n",
        "  def __add__(self,other):\r\n",
        "    if type(other)==int:\r\n",
        "      return student (self.m1+other ,self.m2+other ,self.m3+other)\r\n",
        "    else:\r\n",
        "      return student(self.m1+other ,self.m2+other ,self.m3+other)\r\n",
        "s1 = student(80,79,66)\r\n",
        "s2 = student(60,70,80)\r\n",
        "\r\n",
        "s1.show()\r\n",
        "s2.show()\r\n",
        "\r\n",
        "s3 = s1 + 5;\r\n",
        "#s3 == 5 + s1\r\n",
        "s3.show()"
      ],
      "execution_count": null,
      "outputs": [
        {
          "output_type": "stream",
          "text": [
            "m1 = 80m2 = 79m3 = 66\n",
            "m1 = 60m2 = 70m3 = 80\n",
            "m1 = 85m2 = 84m3 = 71\n"
          ],
          "name": "stdout"
        }
      ]
    },
    {
      "cell_type": "code",
      "metadata": {
        "colab": {
          "base_uri": "https://localhost:8080/",
          "height": 88
        },
        "id": "bacazFy0wtFv",
        "outputId": "3df03279-b667-41c1-c1a4-b0379524090b"
      },
      "source": [
        "class student:\r\n",
        "  def __init__(self,m1,m2,m3):\r\n",
        "    self.m1 = m1\r\n",
        "    self.m2 = m2\r\n",
        "    self.m3 = m3\r\n",
        "\r\n",
        "  def show(self):\r\n",
        "    print(f\"m1 = {self.m1}m2 = {self.m2}m3 = {self.m3}\")\r\n",
        "\r\n",
        "  def __add__(self,other):\r\n",
        "    if type(other)==int:\r\n",
        "      return student (self.m1+other ,self.m2+other ,self.m3+other)\r\n",
        "    else:\r\n",
        "      return student(self.m1+other ,self.m2+other ,self.m3+other)\r\n",
        "\r\n",
        "  def __gt__(self,other):\r\n",
        "    c1 = self.m1 + self.m2 + self.m3;\r\n",
        "    c1 = other.m1 + other.m2 + other.m3;\r\n",
        "    if (c1>c2):\r\n",
        "      return True \r\n",
        "    else:\r\n",
        "      return False\r\n",
        "    \r\n",
        "s1 = student(80,79,66)\r\n",
        "s2 = student(60,70,80)\r\n",
        "\r\n",
        "s1.show()\r\n",
        "s2.show()\r\n",
        "\r\n",
        "s3 = s1 + 5;\r\n",
        "\r\n",
        "s3.show()\r\n",
        "\r\n",
        "\"\"\"\r\n",
        "if s1 > s2 :\r\n",
        "  print(\"s1 wins\")\r\n",
        "\r\n",
        "else :\r\n",
        "  print(\"s2 wins\")\r\n",
        "  \"\"\""
      ],
      "execution_count": null,
      "outputs": [
        {
          "output_type": "stream",
          "text": [
            "m1 = 80m2 = 79m3 = 66\n",
            "m1 = 60m2 = 70m3 = 80\n",
            "m1 = 85m2 = 84m3 = 71\n"
          ],
          "name": "stdout"
        },
        {
          "output_type": "execute_result",
          "data": {
            "application/vnd.google.colaboratory.intrinsic+json": {
              "type": "string"
            },
            "text/plain": [
              "'\\nif s1 > s2 :\\n  print(\"s1 wins\")\\n\\nelse :\\n  print(\"s2 wins\")\\n  '"
            ]
          },
          "metadata": {
            "tags": []
          },
          "execution_count": 11
        }
      ]
    },
    {
      "cell_type": "markdown",
      "metadata": {
        "id": "KHZdT1CEqcd4"
      },
      "source": [
        "**Abstract Method and Abstract Class**"
      ]
    },
    {
      "cell_type": "code",
      "metadata": {
        "colab": {
          "base_uri": "https://localhost:8080/"
        },
        "id": "YYVzVnk2yjKs",
        "outputId": "77c46e0b-131a-4960-ee70-73297b3c566e"
      },
      "source": [
        "from abc import ABC, abstractmethod\r\n",
        "\r\n",
        "class CollectionBase(ABC):\r\n",
        "    @abstractmethod\r\n",
        "    def show(self):\r\n",
        "        pass\r\n",
        "    def hello(self):\r\n",
        "        print(\"Abstract Class\")\r\n",
        "    \r\n",
        "class Colder(CollectionBase):\r\n",
        "    def show(self):\r\n",
        "        print(\"Derived\")\r\n",
        "\r\n",
        "c1 = Colder()\r\n",
        "c1.hello()\r\n",
        "c1.show()\r\n",
        "\r\n"
      ],
      "execution_count": null,
      "outputs": [
        {
          "output_type": "stream",
          "text": [
            "Abstract Class\n",
            "Derived\n"
          ],
          "name": "stdout"
        }
      ]
    },
    {
      "cell_type": "code",
      "metadata": {
        "colab": {
          "base_uri": "https://localhost:8080/"
        },
        "id": "gsQQ0mTP3WUu",
        "outputId": "865931af-c7b6-458c-b4b0-8e89da8a3dec"
      },
      "source": [
        "from abc import ABC, abstractmethod\r\n",
        "\r\n",
        "class CollectionBase(ABC):\r\n",
        "    @abstractmethod\r\n",
        "    def show(self):\r\n",
        "        pass\r\n",
        "    def hello(self):\r\n",
        "        print(\"Abstract Class\")\r\n",
        "    \r\n",
        "class Colder(CollectionBase):\r\n",
        "    def show(self):\r\n",
        "        print(\"Derived from base class\")\r\n",
        "\r\n",
        "c1 = Colder()\r\n",
        "c1.hello()\r\n",
        "c1.show()\r\n",
        "\r\n"
      ],
      "execution_count": 1,
      "outputs": [
        {
          "output_type": "stream",
          "text": [
            "Abstract Class\n",
            "Derived from base class\n"
          ],
          "name": "stdout"
        }
      ]
    },
    {
      "cell_type": "markdown",
      "metadata": {
        "id": "tced-IQJ4RXi"
      },
      "source": [
        ""
      ]
    }
  ]
}
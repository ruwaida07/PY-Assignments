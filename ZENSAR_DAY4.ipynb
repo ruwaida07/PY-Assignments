{
  "nbformat": 4,
  "nbformat_minor": 0,
  "metadata": {
    "colab": {
      "name": "ZENSAR DAY4.ipynb",
      "provenance": [],
      "collapsed_sections": []
    },
    "kernelspec": {
      "name": "python3",
      "display_name": "Python 3"
    }
  },
  "cells": [
    {
      "cell_type": "code",
      "metadata": {
        "id": "6rlBp9lAKKFv"
      },
      "source": [
        "s = 'hello'"
      ],
      "execution_count": 25,
      "outputs": []
    },
    {
      "cell_type": "code",
      "metadata": {
        "colab": {
          "base_uri": "https://localhost:8080/",
          "height": 35
        },
        "id": "GnQOa6hLKN72",
        "outputId": "c9711cf8-0be1-4d8a-e4ee-abe612f8d04f"
      },
      "source": [
        "s[::-1]"
      ],
      "execution_count": 26,
      "outputs": [
        {
          "output_type": "execute_result",
          "data": {
            "application/vnd.google.colaboratory.intrinsic+json": {
              "type": "string"
            },
            "text/plain": [
              "'olleh'"
            ]
          },
          "metadata": {
            "tags": []
          },
          "execution_count": 26
        }
      ]
    },
    {
      "cell_type": "code",
      "metadata": {
        "colab": {
          "base_uri": "https://localhost:8080/",
          "height": 35
        },
        "id": "NhdKJZW8KSVu",
        "outputId": "54762f06-9b1f-4bb4-cd9a-606276c39059"
      },
      "source": [
        "#method 1 to print o \r\n",
        "s[4]"
      ],
      "execution_count": 27,
      "outputs": [
        {
          "output_type": "execute_result",
          "data": {
            "application/vnd.google.colaboratory.intrinsic+json": {
              "type": "string"
            },
            "text/plain": [
              "'o'"
            ]
          },
          "metadata": {
            "tags": []
          },
          "execution_count": 27
        }
      ]
    },
    {
      "cell_type": "code",
      "metadata": {
        "colab": {
          "base_uri": "https://localhost:8080/",
          "height": 35
        },
        "id": "4TDeYC1AKTy6",
        "outputId": "f9991be8-703a-4776-c507-98770af0bff1"
      },
      "source": [
        "#method 2 \r\n",
        "s[-1]"
      ],
      "execution_count": 28,
      "outputs": [
        {
          "output_type": "execute_result",
          "data": {
            "application/vnd.google.colaboratory.intrinsic+json": {
              "type": "string"
            },
            "text/plain": [
              "'o'"
            ]
          },
          "metadata": {
            "tags": []
          },
          "execution_count": 28
        }
      ]
    },
    {
      "cell_type": "code",
      "metadata": {
        "id": "u-I_CN3dKWv4"
      },
      "source": [
        "#build list in 2 seperate ways\r\n",
        "\r\n",
        "lst = [0,0,0]"
      ],
      "execution_count": 29,
      "outputs": []
    },
    {
      "cell_type": "code",
      "metadata": {
        "colab": {
          "base_uri": "https://localhost:8080/"
        },
        "id": "KPe8ZMmJKcM8",
        "outputId": "4dea303a-8626-42b3-91c2-7797c062a46c"
      },
      "source": [
        "lst=[]\r\n",
        "lst.append(0)\r\n",
        "print(lst)"
      ],
      "execution_count": 30,
      "outputs": [
        {
          "output_type": "stream",
          "text": [
            "[0]\n"
          ],
          "name": "stdout"
        }
      ]
    },
    {
      "cell_type": "code",
      "metadata": {
        "colab": {
          "base_uri": "https://localhost:8080/"
        },
        "id": "_Q1UbP-BKd_7",
        "outputId": "df14593b-4cc9-4b0e-8fdb-1a7178537214"
      },
      "source": [
        "list3 = [1,2,[3,4,'hello']]\r\n",
        "\r\n",
        "list3[2][2] = 'goodbye'\r\n",
        "list3"
      ],
      "execution_count": 31,
      "outputs": [
        {
          "output_type": "execute_result",
          "data": {
            "text/plain": [
              "[1, 2, [3, 4, 'goodbye']]"
            ]
          },
          "metadata": {
            "tags": []
          },
          "execution_count": 31
        }
      ]
    },
    {
      "cell_type": "code",
      "metadata": {
        "colab": {
          "base_uri": "https://localhost:8080/"
        },
        "id": "2hJpP5xGKhE-",
        "outputId": "222c99b0-4573-4048-a156-477856411bed"
      },
      "source": [
        "list3"
      ],
      "execution_count": 32,
      "outputs": [
        {
          "output_type": "execute_result",
          "data": {
            "text/plain": [
              "[1, 2, [3, 4, 'goodbye']]"
            ]
          },
          "metadata": {
            "tags": []
          },
          "execution_count": 32
        }
      ]
    },
    {
      "cell_type": "code",
      "metadata": {
        "id": "n7roRHSTKjeX"
      },
      "source": [
        "list4 = [5,3,4,6,1]"
      ],
      "execution_count": 33,
      "outputs": []
    },
    {
      "cell_type": "code",
      "metadata": {
        "colab": {
          "base_uri": "https://localhost:8080/"
        },
        "id": "_ccfaludKnf_",
        "outputId": "ad71c4e5-fe5f-42c1-d783-5e7d57514a94"
      },
      "source": [
        "list4.sort(reverse=True)\r\n",
        "list4\r\n"
      ],
      "execution_count": 34,
      "outputs": [
        {
          "output_type": "execute_result",
          "data": {
            "text/plain": [
              "[6, 5, 4, 3, 1]"
            ]
          },
          "metadata": {
            "tags": []
          },
          "execution_count": 34
        }
      ]
    },
    {
      "cell_type": "code",
      "metadata": {
        "colab": {
          "base_uri": "https://localhost:8080/",
          "height": 35
        },
        "id": "L_XCnLDVKxuH",
        "outputId": "27f95386-a6c5-4edd-c8f7-be77ad346a08"
      },
      "source": [
        "#dictionaries key indexing\r\n",
        "d = {'simple_key':'hello'}\r\n",
        "d['simple_key']"
      ],
      "execution_count": 37,
      "outputs": [
        {
          "output_type": "execute_result",
          "data": {
            "application/vnd.google.colaboratory.intrinsic+json": {
              "type": "string"
            },
            "text/plain": [
              "'hello'"
            ]
          },
          "metadata": {
            "tags": []
          },
          "execution_count": 37
        }
      ]
    },
    {
      "cell_type": "code",
      "metadata": {
        "colab": {
          "base_uri": "https://localhost:8080/"
        },
        "id": "SUBzDJqeK1z7",
        "outputId": "54e9336f-d150-4972-9719-e1bdcb07f37a"
      },
      "source": [
        "d = {'k1':{'k2':'hello'}}\r\n",
        "d['k1']"
      ],
      "execution_count": 38,
      "outputs": [
        {
          "output_type": "execute_result",
          "data": {
            "text/plain": [
              "{'k2': 'hello'}"
            ]
          },
          "metadata": {
            "tags": []
          },
          "execution_count": 38
        }
      ]
    },
    {
      "cell_type": "code",
      "metadata": {
        "colab": {
          "base_uri": "https://localhost:8080/",
          "height": 35
        },
        "id": "A5cuh30uK5Eh",
        "outputId": "c9245263-65e6-4993-a04d-5b555d88d294"
      },
      "source": [
        "d = {'k1':{'k2':'hello'}}\r\n",
        "d['k1']['k2']"
      ],
      "execution_count": 39,
      "outputs": [
        {
          "output_type": "execute_result",
          "data": {
            "application/vnd.google.colaboratory.intrinsic+json": {
              "type": "string"
            },
            "text/plain": [
              "'hello'"
            ]
          },
          "metadata": {
            "tags": []
          },
          "execution_count": 39
        }
      ]
    },
    {
      "cell_type": "code",
      "metadata": {
        "colab": {
          "base_uri": "https://localhost:8080/"
        },
        "id": "8MFiCCf1K8VM",
        "outputId": "d286054e-0462-4fc2-af06-caae82ec5a4c"
      },
      "source": [
        "#to print hello\r\n",
        "\r\n",
        "d = {'k1':[{'nest_key':['this is deep',['hello']]}]}\r\n",
        "#d = ['k1']['nest_key'][1]\r\n",
        "d['k1']"
      ],
      "execution_count": 40,
      "outputs": [
        {
          "output_type": "execute_result",
          "data": {
            "text/plain": [
              "[{'nest_key': ['this is deep', ['hello']]}]"
            ]
          },
          "metadata": {
            "tags": []
          },
          "execution_count": 40
        }
      ]
    },
    {
      "cell_type": "code",
      "metadata": {
        "colab": {
          "base_uri": "https://localhost:8080/"
        },
        "id": "o6sFPek7LAO6",
        "outputId": "a312e70d-3f6c-4d38-c277-f6a1b9dbb3f4"
      },
      "source": [
        "d['k1'][0]"
      ],
      "execution_count": 41,
      "outputs": [
        {
          "output_type": "execute_result",
          "data": {
            "text/plain": [
              "{'nest_key': ['this is deep', ['hello']]}"
            ]
          },
          "metadata": {
            "tags": []
          },
          "execution_count": 41
        }
      ]
    },
    {
      "cell_type": "code",
      "metadata": {
        "colab": {
          "base_uri": "https://localhost:8080/"
        },
        "id": "qvyhw72fLEH6",
        "outputId": "a5a5f2a6-4ae4-43ff-970c-443992d23fc9"
      },
      "source": [
        "d['k1'][0]['nest_key']"
      ],
      "execution_count": 42,
      "outputs": [
        {
          "output_type": "execute_result",
          "data": {
            "text/plain": [
              "['this is deep', ['hello']]"
            ]
          },
          "metadata": {
            "tags": []
          },
          "execution_count": 42
        }
      ]
    },
    {
      "cell_type": "code",
      "metadata": {
        "colab": {
          "base_uri": "https://localhost:8080/",
          "height": 35
        },
        "id": "aO4Se7gALGY0",
        "outputId": "7c658f9c-7b64-495c-d057-0e8e62d1b8ef"
      },
      "source": [
        "d['k1'][0]['nest_key'][1][0]"
      ],
      "execution_count": 43,
      "outputs": [
        {
          "output_type": "execute_result",
          "data": {
            "application/vnd.google.colaboratory.intrinsic+json": {
              "type": "string"
            },
            "text/plain": [
              "'hello'"
            ]
          },
          "metadata": {
            "tags": []
          },
          "execution_count": 43
        }
      ]
    },
    {
      "cell_type": "code",
      "metadata": {
        "colab": {
          "base_uri": "https://localhost:8080/"
        },
        "id": "TBa_i061LI1q",
        "outputId": "4cb2a66e-1b45-4f97-a8a3-bbbe8a631871"
      },
      "source": [
        "d = {'k1':[1,2,{'k2':['this is tricky',{'tough':[1,2,['hello']]}]}]}\r\n",
        "d['k1']"
      ],
      "execution_count": 44,
      "outputs": [
        {
          "output_type": "execute_result",
          "data": {
            "text/plain": [
              "[1, 2, {'k2': ['this is tricky', {'tough': [1, 2, ['hello']]}]}]"
            ]
          },
          "metadata": {
            "tags": []
          },
          "execution_count": 44
        }
      ]
    },
    {
      "cell_type": "code",
      "metadata": {
        "colab": {
          "base_uri": "https://localhost:8080/",
          "height": 35
        },
        "id": "hibB7oo9LMLo",
        "outputId": "b5ed3508-9cfd-470b-cfc3-28dbbe9d5a90"
      },
      "source": [
        "d['k1'][2]['k2'][1]['tough'][2][0]"
      ],
      "execution_count": 45,
      "outputs": [
        {
          "output_type": "execute_result",
          "data": {
            "application/vnd.google.colaboratory.intrinsic+json": {
              "type": "string"
            },
            "text/plain": [
              "'hello'"
            ]
          },
          "metadata": {
            "tags": []
          },
          "execution_count": 45
        }
      ]
    },
    {
      "cell_type": "markdown",
      "metadata": {
        "id": "H28dl4ShLSiL"
      },
      "source": [
        "**Operators**"
      ]
    },
    {
      "cell_type": "code",
      "metadata": {
        "colab": {
          "base_uri": "https://localhost:8080/"
        },
        "id": "jS2R8GFsLQrD",
        "outputId": "b0a1a99d-c178-4290-94c1-60e66df0839b"
      },
      "source": [
        "#operators\r\n",
        "\r\n",
        "2**3**2"
      ],
      "execution_count": 46,
      "outputs": [
        {
          "output_type": "execute_result",
          "data": {
            "text/plain": [
              "512"
            ]
          },
          "metadata": {
            "tags": []
          },
          "execution_count": 46
        }
      ]
    },
    {
      "cell_type": "code",
      "metadata": {
        "colab": {
          "base_uri": "https://localhost:8080/"
        },
        "id": "j0t0VR3lLaUt",
        "outputId": "8f0a73cb-23dd-4269-cd3e-886dc88dd61e"
      },
      "source": [
        "100/10*10"
      ],
      "execution_count": 47,
      "outputs": [
        {
          "output_type": "execute_result",
          "data": {
            "text/plain": [
              "100.0"
            ]
          },
          "metadata": {
            "tags": []
          },
          "execution_count": 47
        }
      ]
    },
    {
      "cell_type": "code",
      "metadata": {
        "colab": {
          "base_uri": "https://localhost:8080/"
        },
        "id": "vzipkedELdMX",
        "outputId": "ebfe4fc8-050d-40ca-f1f6-74568944ae7b"
      },
      "source": [
        "x=2\r\n",
        "x<<2  #bitwise operator (left shift) "
      ],
      "execution_count": 48,
      "outputs": [
        {
          "output_type": "execute_result",
          "data": {
            "text/plain": [
              "8"
            ]
          },
          "metadata": {
            "tags": []
          },
          "execution_count": 48
        }
      ]
    },
    {
      "cell_type": "code",
      "metadata": {
        "colab": {
          "base_uri": "https://localhost:8080/"
        },
        "id": "3VFQcf1ELgS-",
        "outputId": "d251e9bc-9daa-41d1-ec57-f9805e535505"
      },
      "source": [
        "101 & 110      # & bitwise and && logical and"
      ],
      "execution_count": 49,
      "outputs": [
        {
          "output_type": "execute_result",
          "data": {
            "text/plain": [
              "100"
            ]
          },
          "metadata": {
            "tags": []
          },
          "execution_count": 49
        }
      ]
    },
    {
      "cell_type": "code",
      "metadata": {
        "colab": {
          "base_uri": "https://localhost:8080/"
        },
        "id": "I3KLcr6ILjav",
        "outputId": "eeec97aa-979a-4747-baf4-c854f5628384"
      },
      "source": [
        "x=8\r\n",
        "x>>1"
      ],
      "execution_count": 50,
      "outputs": [
        {
          "output_type": "execute_result",
          "data": {
            "text/plain": [
              "4"
            ]
          },
          "metadata": {
            "tags": []
          },
          "execution_count": 50
        }
      ]
    },
    {
      "cell_type": "code",
      "metadata": {
        "colab": {
          "base_uri": "https://localhost:8080/"
        },
        "id": "gFkSzyUeLn9-",
        "outputId": "854c5880-3750-435b-b636-36320d781d18"
      },
      "source": [
        "x>>2"
      ],
      "execution_count": 51,
      "outputs": [
        {
          "output_type": "execute_result",
          "data": {
            "text/plain": [
              "2"
            ]
          },
          "metadata": {
            "tags": []
          },
          "execution_count": 51
        }
      ]
    },
    {
      "cell_type": "code",
      "metadata": {
        "colab": {
          "base_uri": "https://localhost:8080/"
        },
        "id": "9gtl4yxTLpfc",
        "outputId": "92f46600-c01d-4a82-c17f-ad54aef03a76"
      },
      "source": [
        "x = 8\r\n",
        "y = x\r\n",
        "x is y "
      ],
      "execution_count": 52,
      "outputs": [
        {
          "output_type": "execute_result",
          "data": {
            "text/plain": [
              "True"
            ]
          },
          "metadata": {
            "tags": []
          },
          "execution_count": 52
        }
      ]
    },
    {
      "cell_type": "code",
      "metadata": {
        "colab": {
          "base_uri": "https://localhost:8080/"
        },
        "id": "8gKRLooNLs0K",
        "outputId": "5e5b40e7-75b5-4bec-a179-c544e41a2252"
      },
      "source": [
        "9//2"
      ],
      "execution_count": 53,
      "outputs": [
        {
          "output_type": "execute_result",
          "data": {
            "text/plain": [
              "4"
            ]
          },
          "metadata": {
            "tags": []
          },
          "execution_count": 53
        }
      ]
    },
    {
      "cell_type": "code",
      "metadata": {
        "colab": {
          "base_uri": "https://localhost:8080/"
        },
        "id": "mp9Hza5CLvx1",
        "outputId": "962eb55d-6678-4edd-eb9b-53bf0b33dba4"
      },
      "source": [
        "4/(3*(2-1))"
      ],
      "execution_count": 54,
      "outputs": [
        {
          "output_type": "execute_result",
          "data": {
            "text/plain": [
              "1.3333333333333333"
            ]
          },
          "metadata": {
            "tags": []
          },
          "execution_count": 54
        }
      ]
    },
    {
      "cell_type": "code",
      "metadata": {
        "colab": {
          "base_uri": "https://localhost:8080/"
        },
        "id": "f0XNbJCdLzMh",
        "outputId": "783a6bb2-015a-4178-d76a-7a5b81e6ed79"
      },
      "source": [
        "4/3*(2-1)"
      ],
      "execution_count": 55,
      "outputs": [
        {
          "output_type": "execute_result",
          "data": {
            "text/plain": [
              "1.3333333333333333"
            ]
          },
          "metadata": {
            "tags": []
          },
          "execution_count": 55
        }
      ]
    },
    {
      "cell_type": "code",
      "metadata": {
        "colab": {
          "base_uri": "https://localhost:8080/"
        },
        "id": "f6DtrgZfL2aB",
        "outputId": "f11b4e0e-a62d-4766-be24-9ad714d364fb"
      },
      "source": [
        "4 + 3 % 5"
      ],
      "execution_count": 56,
      "outputs": [
        {
          "output_type": "execute_result",
          "data": {
            "text/plain": [
              "7"
            ]
          },
          "metadata": {
            "tags": []
          },
          "execution_count": 56
        }
      ]
    },
    {
      "cell_type": "code",
      "metadata": {
        "colab": {
          "base_uri": "https://localhost:8080/"
        },
        "id": "Zh8IPP_kL6B7",
        "outputId": "e8b02ae6-7e8f-4cda-b1c0-94dde9990305"
      },
      "source": [
        "16%15//16"
      ],
      "execution_count": 57,
      "outputs": [
        {
          "output_type": "execute_result",
          "data": {
            "text/plain": [
              "0"
            ]
          },
          "metadata": {
            "tags": []
          },
          "execution_count": 57
        }
      ]
    },
    {
      "cell_type": "code",
      "metadata": {
        "colab": {
          "base_uri": "https://localhost:8080/"
        },
        "id": "9JwP_81nL95i",
        "outputId": "0a9da9f2-9f13-4e82-cff5-ca0784c9796e"
      },
      "source": [
        "a = 2\r\n",
        "b = 3\r\n",
        "\r\n",
        "print(a or b)\r\n",
        "print(a and b)"
      ],
      "execution_count": 58,
      "outputs": [
        {
          "output_type": "stream",
          "text": [
            "2\n",
            "3\n"
          ],
          "name": "stdout"
        }
      ]
    },
    {
      "cell_type": "code",
      "metadata": {
        "colab": {
          "base_uri": "https://localhost:8080/"
        },
        "id": "IjY3jIrWMCNq",
        "outputId": "413507e1-21c7-42ae-835c-355c8ac6ed9f"
      },
      "source": [
        "a = 1\r\n",
        "b = 4 \r\n",
        "if a or b:\r\n",
        "  print(\"true\")\r\n",
        "else:\r\n",
        "  print('false')"
      ],
      "execution_count": 59,
      "outputs": [
        {
          "output_type": "stream",
          "text": [
            "true\n"
          ],
          "name": "stdout"
        }
      ]
    },
    {
      "cell_type": "code",
      "metadata": {
        "colab": {
          "base_uri": "https://localhost:8080/"
        },
        "id": "Ksx9pcK9MFUg",
        "outputId": "cc024d66-c6e4-4361-e647-618d5572ddfd"
      },
      "source": [
        "a = 1\r\n",
        "b = 4 \r\n",
        "if a and b:\r\n",
        "  print(\"true\")\r\n",
        "else:\r\n",
        "  print('false')"
      ],
      "execution_count": 60,
      "outputs": [
        {
          "output_type": "stream",
          "text": [
            "true\n"
          ],
          "name": "stdout"
        }
      ]
    },
    {
      "cell_type": "code",
      "metadata": {
        "colab": {
          "base_uri": "https://localhost:8080/"
        },
        "id": "Fa0ZnePfMIep",
        "outputId": "7c00169c-7f55-4e30-9cc4-a52c9fea4bf5"
      },
      "source": [
        "a = 0\r\n",
        "b = 4 \r\n",
        "if a or b:\r\n",
        "  print(\"true\")\r\n",
        "else:\r\n",
        "  print('false')"
      ],
      "execution_count": 61,
      "outputs": [
        {
          "output_type": "stream",
          "text": [
            "true\n"
          ],
          "name": "stdout"
        }
      ]
    },
    {
      "cell_type": "code",
      "metadata": {
        "colab": {
          "base_uri": "https://localhost:8080/"
        },
        "id": "iD2sHucUMLp-",
        "outputId": "c915839a-b40f-4f06-d741-6544ba7bb02a"
      },
      "source": [
        "a = 0\r\n",
        "b = 4 \r\n",
        "if a and b:\r\n",
        "  print(\"true\")\r\n",
        "else:\r\n",
        "  print('false')"
      ],
      "execution_count": 62,
      "outputs": [
        {
          "output_type": "stream",
          "text": [
            "false\n"
          ],
          "name": "stdout"
        }
      ]
    },
    {
      "cell_type": "markdown",
      "metadata": {
        "id": "LyL_-HqSIR5p"
      },
      "source": [
        "**WAP to print largest element in a list**"
      ]
    },
    {
      "cell_type": "code",
      "metadata": {
        "id": "6eW14OMmzxJH",
        "colab": {
          "base_uri": "https://localhost:8080/"
        },
        "outputId": "5ec8b30b-c9eb-463b-fea2-e2b516d63704"
      },
      "source": [
        "list1 = [10, 20, 4, 45, 99] \r\n",
        "\r\n",
        "list1.sort() \r\n",
        "  \r\n",
        "print(\"Largest element is:\", list1[-1])"
      ],
      "execution_count": null,
      "outputs": [
        {
          "output_type": "stream",
          "text": [
            "Largest element is: 99\n"
          ],
          "name": "stdout"
        }
      ]
    },
    {
      "cell_type": "markdown",
      "metadata": {
        "id": "jBVdRO-PIm0J"
      },
      "source": [
        "**WAP to print second largest element in a list**"
      ]
    },
    {
      "cell_type": "code",
      "metadata": {
        "colab": {
          "base_uri": "https://localhost:8080/"
        },
        "id": "02ybJj4i3BM6",
        "outputId": "6fa1e00b-ea11-4a88-9750-50c9d4a4af12"
      },
      "source": [
        "list1 = [10, 20, 4, 45, 99]\r\n",
        " \r\n",
        "list1.sort()\r\n",
        " \r\n",
        "print(\"Second largest element is:\", list1[-2])"
      ],
      "execution_count": null,
      "outputs": [
        {
          "output_type": "stream",
          "text": [
            "Second largest element is: 45\n"
          ],
          "name": "stdout"
        }
      ]
    },
    {
      "cell_type": "markdown",
      "metadata": {
        "id": "Ad9eqnh6IrZs"
      },
      "source": [
        "**WAP to accept two list and print even and odd two different list**"
      ]
    },
    {
      "cell_type": "code",
      "metadata": {
        "colab": {
          "base_uri": "https://localhost:8080/"
        },
        "id": "0edb4lw13Gtw",
        "outputId": "de3e70ed-fede-4fac-f251-1065ec9582ed"
      },
      "source": [
        "a=[]\r\n",
        "n=int(input(\"Enter number of elements:\"))\r\n",
        "for i in range(1,n+1):\r\n",
        "    b=int(input(\"Enter element:\"))\r\n",
        "    a.append(b)\r\n",
        "even=[]\r\n",
        "odd=[]\r\n",
        "for j in a:\r\n",
        "    if(j%2==0):\r\n",
        "        even.append(j)\r\n",
        "    else:\r\n",
        "        odd.append(j)\r\n",
        "\r\n",
        "print(\"The even list\",even)\r\n",
        "print(\"The odd list\",odd)\r\n"
      ],
      "execution_count": null,
      "outputs": [
        {
          "output_type": "stream",
          "text": [
            "Enter number of elements:5\n",
            "Enter element:3\n",
            "Enter element:4\n",
            "Enter element:6\n",
            "Enter element:7\n",
            "Enter element:12\n",
            "The even list [4, 6, 12]\n",
            "The odd list [3, 7]\n"
          ],
          "name": "stdout"
        }
      ]
    },
    {
      "cell_type": "markdown",
      "metadata": {
        "id": "gegHrUgAIyF6"
      },
      "source": [
        "**WAP to accept two list and sort the list using merge sort**"
      ]
    },
    {
      "cell_type": "code",
      "metadata": {
        "colab": {
          "base_uri": "https://localhost:8080/"
        },
        "id": "wwzeKk9h3QVD",
        "outputId": "c35fc8bb-f73a-4a07-d258-6755d508d90b"
      },
      "source": [
        "a=[]\r\n",
        "c=[]\r\n",
        "n1=int(input(\"Enter number of elements:\"))\r\n",
        "for i in range(1,n1+1):\r\n",
        "    b=int(input(\"Enter element:\"))\r\n",
        "    a.append(b)\r\n",
        "n2=int(input(\"Enter number of elements:\"))\r\n",
        "for i in range(1,n2+1):\r\n",
        "    d=int(input(\"Enter element:\"))\r\n",
        "    c.append(d)\r\n",
        "new=a+c\r\n",
        "new.sort()\r\n",
        "print(\"Sorted list is:\",new)"
      ],
      "execution_count": null,
      "outputs": [
        {
          "output_type": "stream",
          "text": [
            "Enter number of elements:5\n",
            "Enter element:23\n",
            "Enter element:45\n",
            "Enter element:67\n",
            "Enter element:78\n",
            "Enter element:34\n",
            "Enter number of elements:3\n",
            "Enter element:23\n",
            "Enter element:1\n",
            "Enter element:0\n",
            "Sorted list is: [0, 1, 23, 23, 34, 45, 67, 78]\n"
          ],
          "name": "stdout"
        }
      ]
    },
    {
      "cell_type": "markdown",
      "metadata": {
        "id": "lQkHHvlLJUPS"
      },
      "source": [
        "**WAP to print the elements according to the length of the list**"
      ]
    },
    {
      "cell_type": "code",
      "metadata": {
        "colab": {
          "base_uri": "https://localhost:8080/"
        },
        "id": "j_zufPaJ3R-9",
        "outputId": "427efde5-0fbe-42b1-b2b1-c3050a8795ba"
      },
      "source": [
        "lst = ['ab','xyz','hello','ab'] \r\n",
        "lst.sort(key=len)\r\n",
        "print(lst)"
      ],
      "execution_count": 9,
      "outputs": [
        {
          "output_type": "stream",
          "text": [
            "['ab', 'ab', 'xyz', 'hello']\n"
          ],
          "name": "stdout"
        }
      ]
    },
    {
      "cell_type": "markdown",
      "metadata": {
        "id": "8-ZB0nWi6F62"
      },
      "source": [
        "**While loop**"
      ]
    },
    {
      "cell_type": "code",
      "metadata": {
        "id": "bfpvX4zx3x7b",
        "colab": {
          "base_uri": "https://localhost:8080/"
        },
        "outputId": "4f6200e9-d277-4078-e2eb-90bf218fbe02"
      },
      "source": [
        "x=0\r\n",
        "while x<10:\r\n",
        "  print('x is currently:',x)\r\n",
        "  x+=1\r\n",
        "  if x==3:\r\n",
        "    print('x==3')\r\n",
        "  else:\r\n",
        "      print('Continuing..')\r\n",
        "      continue"
      ],
      "execution_count": 12,
      "outputs": [
        {
          "output_type": "stream",
          "text": [
            "x is currently: 0\n",
            "Continuing..\n",
            "x is currently: 1\n",
            "Continuing..\n",
            "x is currently: 2\n",
            "x==3\n",
            "x is currently: 3\n",
            "Continuing..\n",
            "x is currently: 4\n",
            "Continuing..\n",
            "x is currently: 5\n",
            "Continuing..\n",
            "x is currently: 6\n",
            "Continuing..\n",
            "x is currently: 7\n",
            "Continuing..\n",
            "x is currently: 8\n",
            "Continuing..\n",
            "x is currently: 9\n",
            "Continuing..\n"
          ],
          "name": "stdout"
        }
      ]
    },
    {
      "cell_type": "code",
      "metadata": {
        "colab": {
          "base_uri": "https://localhost:8080/"
        },
        "id": "laWsEW-i4zF_",
        "outputId": "e965fcc3-b9af-4faf-eb66-fb62cf1af69f"
      },
      "source": [
        "x=0\r\n",
        "while x<10:\r\n",
        "  print(x)\r\n",
        "  x+=1\r\n",
        "  if x==3:\r\n",
        "    print('Breaking because x==3')\r\n",
        "  else:\r\n",
        "      print('Continuing..')\r\n",
        "      continue\r\n",
        "else:\r\n",
        "    print('Else is executed')"
      ],
      "execution_count": 15,
      "outputs": [
        {
          "output_type": "stream",
          "text": [
            "0\n",
            "Continuing..\n",
            "1\n",
            "Continuing..\n",
            "2\n",
            "Breaking because x==3\n",
            "3\n",
            "Continuing..\n",
            "4\n",
            "Continuing..\n",
            "5\n",
            "Continuing..\n",
            "6\n",
            "Continuing..\n",
            "7\n",
            "Continuing..\n",
            "8\n",
            "Continuing..\n",
            "9\n",
            "Continuing..\n",
            "Else is executed\n"
          ],
          "name": "stdout"
        }
      ]
    },
    {
      "cell_type": "markdown",
      "metadata": {
        "id": "fbGBhxS96ZQC"
      },
      "source": [
        "**Map/Lambda()**"
      ]
    },
    {
      "cell_type": "code",
      "metadata": {
        "id": "-P9t-nSK6c0q"
      },
      "source": [
        "def fahrenheit(celsius):\r\n",
        "  return(9/5)*celsius +32\r\n",
        "  temps = [0,22.5,40,100]"
      ],
      "execution_count": 20,
      "outputs": []
    },
    {
      "cell_type": "code",
      "metadata": {
        "id": "LKRnau2U7JcZ"
      },
      "source": [
        "y= lambda x,z : x*2+z*3"
      ],
      "execution_count": 28,
      "outputs": []
    },
    {
      "cell_type": "code",
      "metadata": {
        "colab": {
          "base_uri": "https://localhost:8080/"
        },
        "id": "Y8FC2gxa7Y27",
        "outputId": "05887f26-b928-4739-c7c5-f55cc3bf2cbb"
      },
      "source": [
        "y(5,8)"
      ],
      "execution_count": 29,
      "outputs": [
        {
          "output_type": "execute_result",
          "data": {
            "text/plain": [
              "34"
            ]
          },
          "metadata": {
            "tags": []
          },
          "execution_count": 29
        }
      ]
    },
    {
      "cell_type": "code",
      "metadata": {
        "id": "-8X7eQx68Cnr"
      },
      "source": [
        "lst=[2,3,4,5,6]"
      ],
      "execution_count": 30,
      "outputs": []
    },
    {
      "cell_type": "code",
      "metadata": {
        "id": "OuIbNOVK8Dn0"
      },
      "source": [
        "lst_new = map(y,lst)"
      ],
      "execution_count": 34,
      "outputs": []
    },
    {
      "cell_type": "code",
      "metadata": {
        "colab": {
          "base_uri": "https://localhost:8080/",
          "height": 162
        },
        "id": "x_kgexoU8Pxl",
        "outputId": "b6b4cc48-d039-40ee-f0a9-88802bc7a5b3"
      },
      "source": [
        "list (lst_new)"
      ],
      "execution_count": 37,
      "outputs": [
        {
          "output_type": "error",
          "ename": "TypeError",
          "evalue": "ignored",
          "traceback": [
            "\u001b[0;31m---------------------------------------------------------------------------\u001b[0m",
            "\u001b[0;31mTypeError\u001b[0m                                 Traceback (most recent call last)",
            "\u001b[0;32m<ipython-input-37-b7051bd8e533>\u001b[0m in \u001b[0;36m<module>\u001b[0;34m()\u001b[0m\n\u001b[0;32m----> 1\u001b[0;31m \u001b[0mlist\u001b[0m \u001b[0;34m(\u001b[0m\u001b[0mlst_new\u001b[0m\u001b[0;34m)\u001b[0m\u001b[0;34m\u001b[0m\u001b[0;34m\u001b[0m\u001b[0m\n\u001b[0m",
            "\u001b[0;31mTypeError\u001b[0m: <lambda>() missing 1 required positional argument: 'z'"
          ]
        }
      ]
    },
    {
      "cell_type": "code",
      "metadata": {
        "colab": {
          "base_uri": "https://localhost:8080/"
        },
        "id": "JHfwnxjw8sdW",
        "outputId": "12040f9a-45c1-4f46-d433-1d6c12e0418e"
      },
      "source": [
        "a = [1,2,3,4]\r\n",
        "b = [5,6,7,8]\r\n",
        "c = [9,10,11,12]\r\n",
        "\r\n",
        "list  (map(    lambda x,y:x+y         ,a  ,  b))"
      ],
      "execution_count": 41,
      "outputs": [
        {
          "output_type": "execute_result",
          "data": {
            "text/plain": [
              "[6, 8, 10, 12]"
            ]
          },
          "metadata": {
            "tags": []
          },
          "execution_count": 41
        }
      ]
    },
    {
      "cell_type": "code",
      "metadata": {
        "colab": {
          "base_uri": "https://localhost:8080/"
        },
        "id": "Q1U0uwqo9St1",
        "outputId": "b0bfc52a-ca9e-4a63-9184-9d8d49e410eb"
      },
      "source": [
        "list(map(lambda x,y,z:x+y+z,a,b,c))"
      ],
      "execution_count": 39,
      "outputs": [
        {
          "output_type": "execute_result",
          "data": {
            "text/plain": [
              "[15, 18, 21, 24]"
            ]
          },
          "metadata": {
            "tags": []
          },
          "execution_count": 39
        }
      ]
    },
    {
      "cell_type": "markdown",
      "metadata": {
        "id": "L513HzJc9mDT"
      },
      "source": [
        "**Reduce()**"
      ]
    },
    {
      "cell_type": "code",
      "metadata": {
        "colab": {
          "base_uri": "https://localhost:8080/"
        },
        "id": "NnCqHcnP9olq",
        "outputId": "260b9759-d746-4547-9232-c1bdfaaee39e"
      },
      "source": [
        "from functools import reduce\r\n",
        "\r\n",
        "lst=[1,2,3,4]\r\n",
        "reduce(lambda x,y: x+y,lst)     #reduce (fun task, list of collection/seq)"
      ],
      "execution_count": 44,
      "outputs": [
        {
          "output_type": "execute_result",
          "data": {
            "text/plain": [
              "10"
            ]
          },
          "metadata": {
            "tags": []
          },
          "execution_count": 44
        }
      ]
    },
    {
      "cell_type": "markdown",
      "metadata": {
        "id": "lkYUS6kF-MIE"
      },
      "source": [
        "**Filter**"
      ]
    },
    {
      "cell_type": "code",
      "metadata": {
        "id": "cNadXpjf-QJC"
      },
      "source": [
        "def even_check(num):\r\n",
        "  if num%2==0:\r\n",
        "    return True"
      ],
      "execution_count": 45,
      "outputs": []
    },
    {
      "cell_type": "code",
      "metadata": {
        "colab": {
          "base_uri": "https://localhost:8080/"
        },
        "id": "ru7mgkxF-akw",
        "outputId": "8b3eb354-4a72-4765-f5a2-0caa11c6c458"
      },
      "source": [
        "lst = range(20)\r\n",
        "\r\n",
        "list(filter(even_check,lst))"
      ],
      "execution_count": 46,
      "outputs": [
        {
          "output_type": "execute_result",
          "data": {
            "text/plain": [
              "[0, 2, 4, 6, 8, 10, 12, 14, 16, 18]"
            ]
          },
          "metadata": {
            "tags": []
          },
          "execution_count": 46
        }
      ]
    },
    {
      "cell_type": "markdown",
      "metadata": {
        "id": "r9I1v0vP-vWB"
      },
      "source": [
        "**Zip()**"
      ]
    },
    {
      "cell_type": "code",
      "metadata": {
        "colab": {
          "base_uri": "https://localhost:8080/"
        },
        "id": "yUt9KbDH-xEw",
        "outputId": "c8f00177-4faa-4296-f578-f6269cdd243b"
      },
      "source": [
        "x=[1,2,3]\r\n",
        "y=[4,5,6]\r\n",
        "\r\n",
        "list(zip(x,y))"
      ],
      "execution_count": 47,
      "outputs": [
        {
          "output_type": "execute_result",
          "data": {
            "text/plain": [
              "[(1, 4), (2, 5), (3, 6)]"
            ]
          },
          "metadata": {
            "tags": []
          },
          "execution_count": 47
        }
      ]
    },
    {
      "cell_type": "markdown",
      "metadata": {
        "id": "XzsgVy6J-_Mk"
      },
      "source": [
        "**Enumerate()**"
      ]
    },
    {
      "cell_type": "code",
      "metadata": {
        "colab": {
          "base_uri": "https://localhost:8080/"
        },
        "id": "IzJ0b3p8-_XC",
        "outputId": "a4e448f4-388e-4456-92bc-9a5e37f1589d"
      },
      "source": [
        "lst=['a','b','c','d']\r\n",
        "\r\n",
        "for number,item in enumerate(lst):\r\n",
        "  print(number,end=' ')\r\n",
        "  print(item)"
      ],
      "execution_count": 49,
      "outputs": [
        {
          "output_type": "stream",
          "text": [
            "0 a\n",
            "1 b\n",
            "2 c\n",
            "3 d\n"
          ],
          "name": "stdout"
        }
      ]
    },
    {
      "cell_type": "markdown",
      "metadata": {
        "id": "gH0LKeD3_kr8"
      },
      "source": [
        "**All()/Any()**"
      ]
    },
    {
      "cell_type": "code",
      "metadata": {
        "id": "roxmCQC0_k1V"
      },
      "source": [
        "lst=[True,True,False,True,False]"
      ],
      "execution_count": 50,
      "outputs": []
    },
    {
      "cell_type": "code",
      "metadata": {
        "colab": {
          "base_uri": "https://localhost:8080/"
        },
        "id": "nUBMhmJq_3sa",
        "outputId": "c5f68c45-32e4-4cb5-f299-e6dbc576498e"
      },
      "source": [
        "all(lst)"
      ],
      "execution_count": 51,
      "outputs": [
        {
          "output_type": "execute_result",
          "data": {
            "text/plain": [
              "False"
            ]
          },
          "metadata": {
            "tags": []
          },
          "execution_count": 51
        }
      ]
    },
    {
      "cell_type": "code",
      "metadata": {
        "colab": {
          "base_uri": "https://localhost:8080/"
        },
        "id": "9Ba2tEsr_6Kv",
        "outputId": "673bf4ba-e949-4d68-f8b1-3ceae0c94341"
      },
      "source": [
        "any(lst)"
      ],
      "execution_count": 52,
      "outputs": [
        {
          "output_type": "execute_result",
          "data": {
            "text/plain": [
              "True"
            ]
          },
          "metadata": {
            "tags": []
          },
          "execution_count": 52
        }
      ]
    },
    {
      "cell_type": "markdown",
      "metadata": {
        "id": "u20RZKNbCpf0"
      },
      "source": [
        "**WAP to form a new list with square of existing list using lambda and map function**"
      ]
    },
    {
      "cell_type": "code",
      "metadata": {
        "colab": {
          "base_uri": "https://localhost:8080/"
        },
        "id": "MAEAxo8JCqKG",
        "outputId": "086d199a-3178-409d-837c-62d5245bc839"
      },
      "source": [
        "nums = [1, 2, 3, 4, 5, 6]\r\n",
        "print(nums)\r\n",
        "square_nums = list(map(lambda x: x ** 2, nums))\r\n",
        "print(square_nums)"
      ],
      "execution_count": 53,
      "outputs": [
        {
          "output_type": "stream",
          "text": [
            "[1, 2, 3, 4, 5, 6]\n",
            "[1, 4, 9, 16, 25, 36]\n"
          ],
          "name": "stdout"
        }
      ]
    },
    {
      "cell_type": "markdown",
      "metadata": {
        "id": "mPsGdaAm9TiC"
      },
      "source": [
        "**WAP to count spaces, no of characters, numbers and special characters using dictionary**"
      ]
    },
    {
      "cell_type": "code",
      "metadata": {
        "colab": {
          "base_uri": "https://localhost:8080/",
          "height": 246
        },
        "id": "P547EpmuDc0c",
        "outputId": "8db9cd6e-e546-4a71-a721-031fb0a21da6"
      },
      "source": [
        "my_string = \"In addition to sequence operations and list methods, Python includes a more advanced operation called a list comprehension.List comprehensions allow us to build out lists using a different notation. You can think of it as essentially a one line for loop built inside of brackets. For a simple example:\"\r\n",
        "\r\n",
        "d={'space':0,'alphabets':0,'numbers':0,'special':0}\r\n",
        "\r\n",
        "for i in range(len(my_string)):\r\n",
        "    if(my_string[i].isalpha()): \r\n",
        "        alphabets = alphabets + 1\r\n",
        "    elif(my_string[i].isdigit()):\r\n",
        "        numbers = numbers + 1\r\n",
        "    elif(my_string[i].isspace()):\r\n",
        "        space = space + 1\r\n",
        "    else: \r\n",
        "       special = special + 1\r\n",
        "\r\n",
        "print('Total characters: ',alphabets)\r\n",
        "print('Total number of numbers: ',numbers)\r\n",
        "print('Total number of spaces: ',space)\r\n",
        "print('Total number od special char: ',special)\r\n",
        "print(len(my_string))\r\n"
      ],
      "execution_count": 23,
      "outputs": [
        {
          "output_type": "stream",
          "text": [
            "Total characters:  1736\n"
          ],
          "name": "stdout"
        },
        {
          "output_type": "error",
          "ename": "NameError",
          "evalue": "ignored",
          "traceback": [
            "\u001b[0;31m---------------------------------------------------------------------------\u001b[0m",
            "\u001b[0;31mNameError\u001b[0m                                 Traceback (most recent call last)",
            "\u001b[0;32m<ipython-input-23-9f7fdf34b662>\u001b[0m in \u001b[0;36m<module>\u001b[0;34m()\u001b[0m\n\u001b[1;32m     14\u001b[0m \u001b[0;34m\u001b[0m\u001b[0m\n\u001b[1;32m     15\u001b[0m \u001b[0mprint\u001b[0m\u001b[0;34m(\u001b[0m\u001b[0;34m'Total characters: '\u001b[0m\u001b[0;34m,\u001b[0m\u001b[0malphabets\u001b[0m\u001b[0;34m)\u001b[0m\u001b[0;34m\u001b[0m\u001b[0;34m\u001b[0m\u001b[0m\n\u001b[0;32m---> 16\u001b[0;31m \u001b[0mprint\u001b[0m\u001b[0;34m(\u001b[0m\u001b[0;34m'Total number of numbers: '\u001b[0m\u001b[0;34m,\u001b[0m\u001b[0mnumbers\u001b[0m\u001b[0;34m)\u001b[0m\u001b[0;34m\u001b[0m\u001b[0;34m\u001b[0m\u001b[0m\n\u001b[0m\u001b[1;32m     17\u001b[0m \u001b[0mprint\u001b[0m\u001b[0;34m(\u001b[0m\u001b[0;34m'Total number of spaces: '\u001b[0m\u001b[0;34m,\u001b[0m\u001b[0mspace\u001b[0m\u001b[0;34m)\u001b[0m\u001b[0;34m\u001b[0m\u001b[0;34m\u001b[0m\u001b[0m\n\u001b[1;32m     18\u001b[0m \u001b[0mprint\u001b[0m\u001b[0;34m(\u001b[0m\u001b[0;34m'Total number od special char: '\u001b[0m\u001b[0;34m,\u001b[0m\u001b[0mspecial\u001b[0m\u001b[0;34m)\u001b[0m\u001b[0;34m\u001b[0m\u001b[0;34m\u001b[0m\u001b[0m\n",
            "\u001b[0;31mNameError\u001b[0m: name 'numbers' is not defined"
          ]
        }
      ]
    },
    {
      "cell_type": "markdown",
      "metadata": {
        "id": "ikx2OGyHJklw"
      },
      "source": [
        "**WAP to print the frequency of the elements in the list**"
      ]
    },
    {
      "cell_type": "code",
      "metadata": {
        "colab": {
          "base_uri": "https://localhost:8080/"
        },
        "id": "q3jKVitiJraG",
        "outputId": "e806c0b8-d444-47fc-9d73-0c70917f328f"
      },
      "source": [
        "def freq(str): \r\n",
        "\r\n",
        "\tstr = str.split()\t\t \r\n",
        "\tstr2 = [] \r\n",
        "\r\n",
        "\tfor i in str:\t\t\t \r\n",
        "\r\n",
        "\t\tif i not in str2: \r\n",
        "\r\n",
        "\t\t\tstr2.append(i) \r\n",
        "\t\t\t\r\n",
        "\tfor i in range(0, len(str2)): \r\n",
        "\r\n",
        "\t\r\n",
        "\t\tprint('Frequency of', str2[i], 'is :', str.count(str2[i]))\t \r\n",
        "\r\n",
        "def main(): \r\n",
        "\tstr ='In addition to sequence operations and list methods, Python includes a more advanced operation called a list comprehension List comprehensions allow us to build out lists using a different notation. You can think of it as essentially a one line for loop built inside of brackets. For a simple example'\r\n",
        "\tfreq(str)\t\t\t\t\t \r\n",
        "\r\n",
        "if __name__==\"__main__\": \r\n",
        "\tmain()\t\t\t "
      ],
      "execution_count": 24,
      "outputs": [
        {
          "output_type": "stream",
          "text": [
            "Frequency of In is : 1\n",
            "Frequency of addition is : 1\n",
            "Frequency of to is : 2\n",
            "Frequency of sequence is : 1\n",
            "Frequency of operations is : 1\n",
            "Frequency of and is : 1\n",
            "Frequency of list is : 2\n",
            "Frequency of methods, is : 1\n",
            "Frequency of Python is : 1\n",
            "Frequency of includes is : 1\n",
            "Frequency of a is : 5\n",
            "Frequency of more is : 1\n",
            "Frequency of advanced is : 1\n",
            "Frequency of operation is : 1\n",
            "Frequency of called is : 1\n",
            "Frequency of comprehension is : 1\n",
            "Frequency of List is : 1\n",
            "Frequency of comprehensions is : 1\n",
            "Frequency of allow is : 1\n",
            "Frequency of us is : 1\n",
            "Frequency of build is : 1\n",
            "Frequency of out is : 1\n",
            "Frequency of lists is : 1\n",
            "Frequency of using is : 1\n",
            "Frequency of different is : 1\n",
            "Frequency of notation. is : 1\n",
            "Frequency of You is : 1\n",
            "Frequency of can is : 1\n",
            "Frequency of think is : 1\n",
            "Frequency of of is : 2\n",
            "Frequency of it is : 1\n",
            "Frequency of as is : 1\n",
            "Frequency of essentially is : 1\n",
            "Frequency of one is : 1\n",
            "Frequency of line is : 1\n",
            "Frequency of for is : 1\n",
            "Frequency of loop is : 1\n",
            "Frequency of built is : 1\n",
            "Frequency of inside is : 1\n",
            "Frequency of brackets. is : 1\n",
            "Frequency of For is : 1\n",
            "Frequency of simple is : 1\n",
            "Frequency of example is : 1\n"
          ],
          "name": "stdout"
        }
      ]
    },
    {
      "cell_type": "code",
      "metadata": {
        "colab": {
          "base_uri": "https://localhost:8080/"
        },
        "id": "KdLdiqImOsc2",
        "outputId": "dc052100-6219-4a1a-9c71-1ea35cd134a3"
      },
      "source": [
        "x='In addition to sequence operations and list methods, Python includes a more advanced operation called a list comprehension List comprehensions allow us to build out lists using a different notation. You can think of it as essentially a one line for loop built inside of brackets. For a simple example:'\r\n",
        "\r\n",
        "s1=set(x)\r\n",
        "d={};\r\n",
        "for ele in s1:\r\n",
        "  x.count(ele)\r\n",
        "  d[ele]=x.count(ele)\r\n",
        "print(s1)"
      ],
      "execution_count": 64,
      "outputs": [
        {
          "output_type": "stream",
          "text": [
            "{'r', 'b', 'I', 'q', 'x', 'd', 't', 'y', 'L', 'F', 'v', 'n', '.', 'w', 'g', ',', 'e', 'f', 'P', 'Y', ':', 'p', 'a', ' ', 'k', 'i', 'h', 's', 'c', 'o', 'm', 'u', 'l'}\n"
          ],
          "name": "stdout"
        }
      ]
    }
  ]
}
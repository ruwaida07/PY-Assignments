{
  "nbformat": 4,
  "nbformat_minor": 0,
  "metadata": {
    "colab": {
      "name": "ZENSAR DAY2.ipynb",
      "provenance": [],
      "collapsed_sections": []
    },
    "kernelspec": {
      "name": "python3",
      "display_name": "Python 3"
    }
  },
  "cells": [
    {
      "cell_type": "markdown",
      "metadata": {
        "id": "0Tidmb54973Z"
      },
      "source": [
        "**Print Value from 1-10**"
      ]
    },
    {
      "cell_type": "code",
      "metadata": {
        "colab": {
          "base_uri": "https://localhost:8080/"
        },
        "id": "eMJ8uXdu-BWY",
        "outputId": "12bb96ef-4292-4a83-b9c1-8287bc976026"
      },
      "source": [
        "for i in range(0,11):\r\n",
        "  print(i)"
      ],
      "execution_count": 1,
      "outputs": [
        {
          "output_type": "stream",
          "text": [
            "0\n",
            "1\n",
            "2\n",
            "3\n",
            "4\n",
            "5\n",
            "6\n",
            "7\n",
            "8\n",
            "9\n",
            "10\n"
          ],
          "name": "stdout"
        }
      ]
    },
    {
      "cell_type": "markdown",
      "metadata": {
        "id": "eFxQcvms-NTx"
      },
      "source": [
        "**Greater or less than equal to**"
      ]
    },
    {
      "cell_type": "code",
      "metadata": {
        "colab": {
          "base_uri": "https://localhost:8080/"
        },
        "id": "SVg9xA5w-QSS",
        "outputId": "82571c8f-0b02-41bd-9227-c3af434f48cf"
      },
      "source": [
        "x=5\r\n",
        "if x>10:\r\n",
        "  print(\"x is greater than 10\")\r\n",
        "else:\r\n",
        "  print(\"x is less than or equal to 10\")"
      ],
      "execution_count": 2,
      "outputs": [
        {
          "output_type": "stream",
          "text": [
            "x is less than or equal to 10\n"
          ],
          "name": "stdout"
        }
      ]
    },
    {
      "cell_type": "markdown",
      "metadata": {
        "id": "OAOL36ML-Ulc"
      },
      "source": [
        "**Reverse Print**"
      ]
    },
    {
      "cell_type": "code",
      "metadata": {
        "colab": {
          "base_uri": "https://localhost:8080/"
        },
        "id": "VLTwZd6Z-Y2A",
        "outputId": "46c39aa9-fcf3-4411-c733-7c4092f1e61f"
      },
      "source": [
        "print(list(range(10,0,-1)))"
      ],
      "execution_count": 3,
      "outputs": [
        {
          "output_type": "stream",
          "text": [
            "[10, 9, 8, 7, 6, 5, 4, 3, 2, 1]\n"
          ],
          "name": "stdout"
        }
      ]
    },
    {
      "cell_type": "markdown",
      "metadata": {
        "id": "-sHKuYGK-bx7"
      },
      "source": [
        "**WAP to print factorial of a no**"
      ]
    },
    {
      "cell_type": "code",
      "metadata": {
        "colab": {
          "base_uri": "https://localhost:8080/"
        },
        "id": "YF0bRWbS-jbD",
        "outputId": "9afdf4c7-40ba-41db-acb0-ce3264fb4afc"
      },
      "source": [
        "num=int(input('Enter a no:'))\r\n",
        "f=1\r\n",
        "for i in range(1,num+1):\r\n",
        "      f=f*i\r\n",
        "print('Factorial of',num,'=',f)"
      ],
      "execution_count": 7,
      "outputs": [
        {
          "output_type": "stream",
          "text": [
            "Enter a no:6\n",
            "Factorial of 6 = 720\n"
          ],
          "name": "stdout"
        }
      ]
    },
    {
      "cell_type": "markdown",
      "metadata": {
        "id": "MyrBNL6L_lQE"
      },
      "source": [
        "**Split no into digits**"
      ]
    },
    {
      "cell_type": "code",
      "metadata": {
        "colab": {
          "base_uri": "https://localhost:8080/"
        },
        "id": "WTke-SHO_rgp",
        "outputId": "08dbf6bc-f178-47ab-9b49-c01eca7c92db"
      },
      "source": [
        " n = 520\r\n",
        "[int(d) for d in str(n)]"
      ],
      "execution_count": 8,
      "outputs": [
        {
          "output_type": "execute_result",
          "data": {
            "text/plain": [
              "[5, 2, 0]"
            ]
          },
          "metadata": {
            "tags": []
          },
          "execution_count": 8
        }
      ]
    },
    {
      "cell_type": "markdown",
      "metadata": {
        "id": "dnG00c6S_w8h"
      },
      "source": [
        "**WAP to print if the given no is palindrome or not**"
      ]
    },
    {
      "cell_type": "code",
      "metadata": {
        "colab": {
          "base_uri": "https://localhost:8080/"
        },
        "id": "pfGveO1t_14n",
        "outputId": "06d2dc0f-863b-49e7-b2f5-f6763a4cda1a"
      },
      "source": [
        "num=int(input(\"Enter a number:\"))\r\n",
        "temp=num\r\n",
        "rev=0\r\n",
        "while(num>0):\r\n",
        "    dig=num%10\r\n",
        "    rev=rev*10+dig\r\n",
        "    num=num//10\r\n",
        "if(temp==rev):\r\n",
        "    print(\"The number is palindrome!\")\r\n",
        "else:\r\n",
        "    print(\"Not a palindrome!\")"
      ],
      "execution_count": 9,
      "outputs": [
        {
          "output_type": "stream",
          "text": [
            "Enter a number:153\n",
            "Not a palindrome!\n"
          ],
          "name": "stdout"
        }
      ]
    },
    {
      "cell_type": "markdown",
      "metadata": {
        "id": "2Rz7FV0KADvE"
      },
      "source": [
        "**WAP to print if the given no is prime or not**"
      ]
    },
    {
      "cell_type": "code",
      "metadata": {
        "colab": {
          "base_uri": "https://localhost:8080/"
        },
        "id": "QyoeG7CnAGMR",
        "outputId": "22d70ca0-d16e-40fc-dcaf-6e30ad6d2f01"
      },
      "source": [
        "num = int(input(\"Enter the number \"))\r\n",
        "if num > 1:\r\n",
        "   for i in range(2,num):\r\n",
        "       if (num % i) == 0:\r\n",
        "           print(num,\"is not a prime number\")\r\n",
        "           break\r\n",
        "   else:\r\n",
        "       print(num,\"is a prime number\")"
      ],
      "execution_count": 12,
      "outputs": [
        {
          "output_type": "stream",
          "text": [
            "Enter the number 6\n",
            "6 is not a prime number\n"
          ],
          "name": "stdout"
        }
      ]
    },
    {
      "cell_type": "markdown",
      "metadata": {
        "id": "7mAYsyA5AUsp"
      },
      "source": [
        "**String**"
      ]
    },
    {
      "cell_type": "markdown",
      "metadata": {
        "id": "hjIADFuhAZb9"
      },
      "source": [
        "**Print string using len and for loop**"
      ]
    },
    {
      "cell_type": "code",
      "metadata": {
        "colab": {
          "base_uri": "https://localhost:8080/"
        },
        "id": "fqjGorxCA-6Y",
        "outputId": "6d85b4ad-1a7b-4af4-f4aa-3a3baa14eee4"
      },
      "source": [
        "str=\"HELLO\"\r\n",
        "len(str)\r\n",
        "\r\n",
        "#using for\r\n",
        "\"\"\"for i in str:\r\n",
        "  print(i)\"\"\"\r\n",
        "\r\n",
        "for i in range(len(str)):\r\n",
        "  print(str[i])"
      ],
      "execution_count": 13,
      "outputs": [
        {
          "output_type": "stream",
          "text": [
            "H\n",
            "E\n",
            "L\n",
            "L\n",
            "O\n"
          ],
          "name": "stdout"
        }
      ]
    },
    {
      "cell_type": "code",
      "metadata": {
        "id": "Y4qXMJonBBUk"
      },
      "source": [
        "#assign as a string\r\n",
        "s='Hello World'"
      ],
      "execution_count": 15,
      "outputs": []
    },
    {
      "cell_type": "code",
      "metadata": {
        "colab": {
          "base_uri": "https://localhost:8080/",
          "height": 35
        },
        "id": "9-n8ssz0BIiy",
        "outputId": "3a4ca575-c209-41a3-befa-f6d5bd101f8f"
      },
      "source": [
        "#check\r\n",
        "s"
      ],
      "execution_count": 16,
      "outputs": [
        {
          "output_type": "execute_result",
          "data": {
            "application/vnd.google.colaboratory.intrinsic+json": {
              "type": "string"
            },
            "text/plain": [
              "'Hello World'"
            ]
          },
          "metadata": {
            "tags": []
          },
          "execution_count": 16
        }
      ]
    },
    {
      "cell_type": "code",
      "metadata": {
        "colab": {
          "base_uri": "https://localhost:8080/"
        },
        "id": "FZoiOlCdBPxY",
        "outputId": "532416be-070f-45ea-815a-a20bbf1e13b3"
      },
      "source": [
        "#print the object\r\n",
        "print(s)"
      ],
      "execution_count": 17,
      "outputs": [
        {
          "output_type": "stream",
          "text": [
            "Hello World\n"
          ],
          "name": "stdout"
        }
      ]
    },
    {
      "cell_type": "code",
      "metadata": {
        "colab": {
          "base_uri": "https://localhost:8080/",
          "height": 35
        },
        "id": "vj8l6cyyBSxO",
        "outputId": "fdddda8a-c26f-4b47-f4df-fbbf9c2449ce"
      },
      "source": [
        "#reverse\r\n",
        "s[: :-1]"
      ],
      "execution_count": 18,
      "outputs": [
        {
          "output_type": "execute_result",
          "data": {
            "application/vnd.google.colaboratory.intrinsic+json": {
              "type": "string"
            },
            "text/plain": [
              "'dlroW olleH'"
            ]
          },
          "metadata": {
            "tags": []
          },
          "execution_count": 18
        }
      ]
    },
    {
      "cell_type": "code",
      "metadata": {
        "colab": {
          "base_uri": "https://localhost:8080/",
          "height": 35
        },
        "id": "p1ctC0w8BUxF",
        "outputId": "fcb4ba30-edcd-4f85-fae1-b1c4cce71e26"
      },
      "source": [
        "s[-1]"
      ],
      "execution_count": 19,
      "outputs": [
        {
          "output_type": "execute_result",
          "data": {
            "application/vnd.google.colaboratory.intrinsic+json": {
              "type": "string"
            },
            "text/plain": [
              "'d'"
            ]
          },
          "metadata": {
            "tags": []
          },
          "execution_count": 19
        }
      ]
    },
    {
      "cell_type": "code",
      "metadata": {
        "colab": {
          "base_uri": "https://localhost:8080/",
          "height": 35
        },
        "id": "A4XiaYNgBZX-",
        "outputId": "5c31f872-261c-487e-e974-05723ba0f94c"
      },
      "source": [
        "s[0]"
      ],
      "execution_count": 20,
      "outputs": [
        {
          "output_type": "execute_result",
          "data": {
            "application/vnd.google.colaboratory.intrinsic+json": {
              "type": "string"
            },
            "text/plain": [
              "'H'"
            ]
          },
          "metadata": {
            "tags": []
          },
          "execution_count": 20
        }
      ]
    },
    {
      "cell_type": "code",
      "metadata": {
        "colab": {
          "base_uri": "https://localhost:8080/"
        },
        "id": "XoKZ7zWHBbYp",
        "outputId": "c3acc26d-7772-4c8d-e36b-4b08e1f0f63e"
      },
      "source": [
        " #for\r\n",
        " fruit='banana'\r\n",
        " j=0\r\n",
        " for i in fruit:\r\n",
        "   j=j+1\r\n",
        "   print(i,j)"
      ],
      "execution_count": 21,
      "outputs": [
        {
          "output_type": "stream",
          "text": [
            "b 1\n",
            "a 2\n",
            "n 3\n",
            "a 4\n",
            "n 5\n",
            "a 6\n"
          ],
          "name": "stdout"
        }
      ]
    },
    {
      "cell_type": "code",
      "metadata": {
        "colab": {
          "base_uri": "https://localhost:8080/"
        },
        "id": "lhX6ORN0Bjez",
        "outputId": "43c6fc66-300d-493c-b3af-eb7d50e92ce8"
      },
      "source": [
        "#while\r\n",
        "fruit ='banana'\r\n",
        "n= 0\r\n",
        "while n < len(fruit):\r\n",
        "  letter = fruit[n]\r\n",
        "  print(n,letter)\r\n",
        "  n = n + 1"
      ],
      "execution_count": 22,
      "outputs": [
        {
          "output_type": "stream",
          "text": [
            "0 b\n",
            "1 a\n",
            "2 n\n",
            "3 a\n",
            "4 n\n",
            "5 a\n"
          ],
          "name": "stdout"
        }
      ]
    },
    {
      "cell_type": "code",
      "metadata": {
        "id": "019DlG9-BxfC"
      },
      "source": [
        "st='Hello World'"
      ],
      "execution_count": 23,
      "outputs": []
    },
    {
      "cell_type": "code",
      "metadata": {
        "colab": {
          "base_uri": "https://localhost:8080/",
          "height": 35
        },
        "id": "tYEwmwIcB3Nm",
        "outputId": "7c5cd6c6-003a-458c-8ac0-16684c8d12e7"
      },
      "source": [
        "st.upper()"
      ],
      "execution_count": 24,
      "outputs": [
        {
          "output_type": "execute_result",
          "data": {
            "application/vnd.google.colaboratory.intrinsic+json": {
              "type": "string"
            },
            "text/plain": [
              "'HELLO WORLD'"
            ]
          },
          "metadata": {
            "tags": []
          },
          "execution_count": 24
        }
      ]
    },
    {
      "cell_type": "code",
      "metadata": {
        "colab": {
          "base_uri": "https://localhost:8080/",
          "height": 35
        },
        "id": "NegQ3CeSCBJj",
        "outputId": "5825245f-be20-4986-e027-963b87820dd2"
      },
      "source": [
        "st.lower()"
      ],
      "execution_count": 25,
      "outputs": [
        {
          "output_type": "execute_result",
          "data": {
            "application/vnd.google.colaboratory.intrinsic+json": {
              "type": "string"
            },
            "text/plain": [
              "'hello world'"
            ]
          },
          "metadata": {
            "tags": []
          },
          "execution_count": 25
        }
      ]
    },
    {
      "cell_type": "code",
      "metadata": {
        "colab": {
          "base_uri": "https://localhost:8080/"
        },
        "id": "_XPKGKdLCDxG",
        "outputId": "00367c3b-9e48-4c78-ed26-64234024cfe2"
      },
      "source": [
        "st.find('m')"
      ],
      "execution_count": 26,
      "outputs": [
        {
          "output_type": "execute_result",
          "data": {
            "text/plain": [
              "-1"
            ]
          },
          "metadata": {
            "tags": []
          },
          "execution_count": 26
        }
      ]
    },
    {
      "cell_type": "markdown",
      "metadata": {
        "id": "3HFc9DqcCcRZ"
      },
      "source": [
        "**WAP to count the given character occurence**"
      ]
    },
    {
      "cell_type": "code",
      "metadata": {
        "colab": {
          "base_uri": "https://localhost:8080/"
        },
        "id": "-_oIx0H7Csm9",
        "outputId": "cb2003da-2a37-4d04-b609-5083a6c11f24"
      },
      "source": [
        "string = input(\"Enter String:\")\r\n",
        "char = input(\"Enter the character:\")\r\n",
        "count = 0\r\n",
        "for i in range(len(string)):\r\n",
        "    if(string[i] == char):\r\n",
        "        count = count + 1\r\n",
        "print(\"The Number of Times \", char, \" has Occurred = \" , count)"
      ],
      "execution_count": 27,
      "outputs": [
        {
          "output_type": "stream",
          "text": [
            "Enter String:Ruwaida \n",
            "Enter the character:a\n",
            "The Number of Times  a  has Occurred =  2\n"
          ],
          "name": "stdout"
        }
      ]
    },
    {
      "cell_type": "markdown",
      "metadata": {
        "id": "sWTWhRGiC7qh"
      },
      "source": [
        "**WAP to replace a given character with another character**"
      ]
    },
    {
      "cell_type": "code",
      "metadata": {
        "colab": {
          "base_uri": "https://localhost:8080/"
        },
        "id": "Hc0sEitgDDOR",
        "outputId": "e0291260-5467-431f-e7c9-ed4d51c0ca3e"
      },
      "source": [
        "str1 = input(\"Enter String:\")\r\n",
        "ch = input(\"Enter Char:\")\r\n",
        "newch = input(\"Enter new char to replace:\")\r\n",
        "str2 = str1.replace(ch, newch)\r\n",
        "print(\"\\nOriginal String :  \", str1)\r\n",
        "print(\"New String :  \", str2)\r\n"
      ],
      "execution_count": 28,
      "outputs": [
        {
          "output_type": "stream",
          "text": [
            "Enter String:Helloooo\n",
            "Enter Char:o\n",
            "Enter new char to replace:e\n",
            "\n",
            "Original String :   Helloooo\n",
            "New String :   Helleeee\n"
          ],
          "name": "stdout"
        }
      ]
    },
    {
      "cell_type": "code",
      "metadata": {
        "colab": {
          "base_uri": "https://localhost:8080/"
        },
        "id": "FfY6NnAoDMlq",
        "outputId": "e9dbb0c8-f8c6-461c-f9a5-0702b88a2802"
      },
      "source": [
        "x=\"hello world\"\r\n",
        "ch1='l'\r\n",
        "ch2='c'\r\n",
        "result=\"\"\r\n",
        "for i in x:\r\n",
        "  if i==ch1:\r\n",
        "    result=result+ch2\r\n",
        "  else:\r\n",
        "    result=result+i\r\n",
        "x=result\r\n",
        "print(x)"
      ],
      "execution_count": 29,
      "outputs": [
        {
          "output_type": "stream",
          "text": [
            "hecco worcd\n"
          ],
          "name": "stdout"
        }
      ]
    },
    {
      "cell_type": "code",
      "metadata": {
        "colab": {
          "base_uri": "https://localhost:8080/",
          "height": 35
        },
        "id": "pODL6NubDaDs",
        "outputId": "2851a061-4427-4f8c-a9fd-f07dcd26b3a8"
      },
      "source": [
        "x.capitalize()"
      ],
      "execution_count": 30,
      "outputs": [
        {
          "output_type": "execute_result",
          "data": {
            "application/vnd.google.colaboratory.intrinsic+json": {
              "type": "string"
            },
            "text/plain": [
              "'Hecco worcd'"
            ]
          },
          "metadata": {
            "tags": []
          },
          "execution_count": 30
        }
      ]
    },
    {
      "cell_type": "code",
      "metadata": {
        "colab": {
          "base_uri": "https://localhost:8080/",
          "height": 35
        },
        "id": "RDF9_f4FDcPp",
        "outputId": "ccb35a4d-8209-4276-b72f-8f11bf852895"
      },
      "source": [
        "x.center(20)"
      ],
      "execution_count": 31,
      "outputs": [
        {
          "output_type": "execute_result",
          "data": {
            "application/vnd.google.colaboratory.intrinsic+json": {
              "type": "string"
            },
            "text/plain": [
              "'    hecco worcd     '"
            ]
          },
          "metadata": {
            "tags": []
          },
          "execution_count": 31
        }
      ]
    },
    {
      "cell_type": "code",
      "metadata": {
        "colab": {
          "base_uri": "https://localhost:8080/"
        },
        "id": "mRRtWR_DDf-7",
        "outputId": "cb4c628c-fbd7-4151-9ffb-2a98454dfc5e"
      },
      "source": [
        "x.islower()"
      ],
      "execution_count": 32,
      "outputs": [
        {
          "output_type": "execute_result",
          "data": {
            "text/plain": [
              "True"
            ]
          },
          "metadata": {
            "tags": []
          },
          "execution_count": 32
        }
      ]
    },
    {
      "cell_type": "code",
      "metadata": {
        "id": "_QvcC4UPDjQa"
      },
      "source": [
        "x=\"12000\""
      ],
      "execution_count": 33,
      "outputs": []
    },
    {
      "cell_type": "code",
      "metadata": {
        "colab": {
          "base_uri": "https://localhost:8080/",
          "height": 35
        },
        "id": "BhQCQXohDohX",
        "outputId": "8d805c89-50d2-45dc-d8bd-1ac46e607f93"
      },
      "source": [
        "x.zfill(10)"
      ],
      "execution_count": 34,
      "outputs": [
        {
          "output_type": "execute_result",
          "data": {
            "application/vnd.google.colaboratory.intrinsic+json": {
              "type": "string"
            },
            "text/plain": [
              "'0000012000'"
            ]
          },
          "metadata": {
            "tags": []
          },
          "execution_count": 34
        }
      ]
    },
    {
      "cell_type": "code",
      "metadata": {
        "id": "Dwmuspm9DsE6"
      },
      "source": [
        "x=\"hello world\""
      ],
      "execution_count": 35,
      "outputs": []
    },
    {
      "cell_type": "code",
      "metadata": {
        "colab": {
          "base_uri": "https://localhost:8080/"
        },
        "id": "4KoK_xw5Dyu4",
        "outputId": "3975473d-7127-44b7-ec13-dbea48041132"
      },
      "source": [
        "x.split('o')"
      ],
      "execution_count": 36,
      "outputs": [
        {
          "output_type": "execute_result",
          "data": {
            "text/plain": [
              "['hell', ' w', 'rld']"
            ]
          },
          "metadata": {
            "tags": []
          },
          "execution_count": 36
        }
      ]
    },
    {
      "cell_type": "code",
      "metadata": {
        "colab": {
          "base_uri": "https://localhost:8080/",
          "height": 35
        },
        "id": "qE-3ebOOD1_q",
        "outputId": "9d7a7fb4-6280-4f22-aed1-89ce833f57cb"
      },
      "source": [
        "x.lstrip()"
      ],
      "execution_count": 37,
      "outputs": [
        {
          "output_type": "execute_result",
          "data": {
            "application/vnd.google.colaboratory.intrinsic+json": {
              "type": "string"
            },
            "text/plain": [
              "'hello world'"
            ]
          },
          "metadata": {
            "tags": []
          },
          "execution_count": 37
        }
      ]
    },
    {
      "cell_type": "markdown",
      "metadata": {
        "id": "J_cNjgXAFHsP"
      },
      "source": [
        "**Write a Program to count number of spaces, number of character, numberical values and number of Capital character (2020-01-28)?**"
      ]
    },
    {
      "cell_type": "code",
      "metadata": {
        "colab": {
          "base_uri": "https://localhost:8080/"
        },
        "id": "n-J13L80FMoM",
        "outputId": "1444a278-f50d-4bd5-e234-c4929605a832"
      },
      "source": [
        "def count(str):\r\n",
        "     upper_ct, lower_ct, number_ct, space = 0, 0, 0, 0\r\n",
        "     for i in range(len(str)):\r\n",
        "          if str[i] >= 'A' and str[i] <= 'Z': upper_ct += 1\r\n",
        "          elif str[i] >= 'a' and str[i] <= 'z': lower_ct += 1\r\n",
        "          elif str[i] >= '0' and str[i] <= '9': number_ct += 1\r\n",
        "          else: \r\n",
        "            #space=0\r\n",
        "            for i in str:\r\n",
        "              if(i.isspace()):\r\n",
        "                space=space+1\r\n",
        "     return upper_ct, lower_ct, number_ct, space\r\n",
        "           \r\n",
        "str = \"write a Program to  count number of spaces, number of character, numberical values and number of Capital character (2020-01-28)?\"\r\n",
        "print(\"Original Substring:\",str)\r\n",
        "u, l, n, s = count(str)\r\n",
        "print('\\nUpper case characters:',u)\r\n",
        "print('Lower case characters:',l)\r\n",
        "print('Numerical values:',n)\r\n",
        "print(\"The number of blank space is:\",s)\r\n",
        "\r\n"
      ],
      "execution_count": 38,
      "outputs": [
        {
          "output_type": "stream",
          "text": [
            "Original Substring: write a Program to  count number of spaces, number of character, numberical values and number of Capital character (2020-01-28)?\n",
            "\n",
            "Upper case characters: 2\n",
            "Lower case characters: 92\n",
            "Numerical values: 8\n",
            "The number of blank space is: 494\n"
          ],
          "name": "stdout"
        }
      ]
    }
  ]
}
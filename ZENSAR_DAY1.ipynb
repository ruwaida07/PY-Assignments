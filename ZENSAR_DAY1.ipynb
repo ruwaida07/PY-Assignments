{
  "nbformat": 4,
  "nbformat_minor": 0,
  "metadata": {
    "colab": {
      "name": "ZENSAR DAY1.ipynb",
      "provenance": [],
      "collapsed_sections": []
    },
    "kernelspec": {
      "name": "python3",
      "display_name": "Python 3"
    }
  },
  "cells": [
    {
      "cell_type": "markdown",
      "metadata": {
        "id": "L5bviJo56gkE"
      },
      "source": [
        "**Concatenate**"
      ]
    },
    {
      "cell_type": "code",
      "metadata": {
        "colab": {
          "base_uri": "https://localhost:8080/"
        },
        "id": "tNb1CV0O680E",
        "outputId": "ff5f6e2d-8e1c-4331-ca09-2eaff7a2bc0e"
      },
      "source": [
        "hello= 'Hello World!'\r\n",
        "print(hello)\r\n",
        "print('What is your name?')\r\n",
        "myName=input()\r\n",
        "print('It is good to meet you' +myName)\r\n",
        "\r\n"
      ],
      "execution_count": 6,
      "outputs": [
        {
          "output_type": "stream",
          "text": [
            "Hello World!\n",
            "What is your name?\n",
            "Ruwaida\n",
            "It is good to meet youRuwaida\n"
          ],
          "name": "stdout"
        }
      ]
    },
    {
      "cell_type": "code",
      "metadata": {
        "colab": {
          "base_uri": "https://localhost:8080/"
        },
        "id": "FkFeV_RF75PC",
        "outputId": "0cb2f212-45b7-400e-f7f0-2811d70e64cf"
      },
      "source": [
        "x=\"hello\"\r\n",
        "y=\"world\"\r\n",
        "print(x+y)\r\n"
      ],
      "execution_count": 9,
      "outputs": [
        {
          "output_type": "stream",
          "text": [
            "helloworld\n"
          ],
          "name": "stdout"
        }
      ]
    },
    {
      "cell_type": "markdown",
      "metadata": {
        "id": "b_DZNhzj7Wso"
      },
      "source": [
        "**Write a prgm to calculate area of the triangle by accepting\r\n",
        "height and breadth.**"
      ]
    },
    {
      "cell_type": "code",
      "metadata": {
        "colab": {
          "base_uri": "https://localhost:8080/"
        },
        "id": "wKFqu1Uv7eXb",
        "outputId": "0345e20d-029d-4dfa-9daf-394b1aa89f47"
      },
      "source": [
        "a =int (input('Enter height: '))\r\n",
        "b =int(input('Enter breadth: '))\r\n",
        "\r\n",
        "c=(a*b)/2\r\n",
        "\r\n",
        "print(\"The area of the triangle is:\")\r\n",
        "print(c)\r\n",
        "\r\n"
      ],
      "execution_count": 7,
      "outputs": [
        {
          "output_type": "stream",
          "text": [
            "Enter height: 6\n",
            "Enter breadth: 9\n",
            "The area of the triangle is:\n",
            "27.0\n"
          ],
          "name": "stdout"
        }
      ]
    },
    {
      "cell_type": "markdown",
      "metadata": {
        "id": "XtfzVFkp7pQk"
      },
      "source": [
        "**Print decimal**"
      ]
    },
    {
      "cell_type": "code",
      "metadata": {
        "colab": {
          "base_uri": "https://localhost:8080/"
        },
        "id": "9qEODWDW7tz_",
        "outputId": "8ed1f5eb-080d-4dac-e7b6-0afd345fd02c"
      },
      "source": [
        "x=1/3\r\n",
        "print(x)"
      ],
      "execution_count": 8,
      "outputs": [
        {
          "output_type": "stream",
          "text": [
            "0.3333333333333333\n"
          ],
          "name": "stdout"
        }
      ]
    },
    {
      "cell_type": "code",
      "metadata": {
        "colab": {
          "base_uri": "https://localhost:8080/"
        },
        "id": "mzLqIP_y8BLL",
        "outputId": "8e6b570a-4a3a-4524-f2dc-ecd30b4f8769"
      },
      "source": [
        "print ('Hello World')"
      ],
      "execution_count": 10,
      "outputs": [
        {
          "output_type": "stream",
          "text": [
            "Hello World\n"
          ],
          "name": "stdout"
        }
      ]
    },
    {
      "cell_type": "markdown",
      "metadata": {
        "id": "Cxegib608QsG"
      },
      "source": [
        "**C Prgm**"
      ]
    },
    {
      "cell_type": "code",
      "metadata": {
        "id": "_MN3l19o8VZN"
      },
      "source": [
        "#include<stdio.h>\r\n",
        "int main()\r\n",
        "{\r\n",
        "int a=4;\r\n",
        "if(a=5)\r\n",
        "{\r\n",
        "    printf(\"Hello\");\r\n",
        "}\r\n",
        "}"
      ],
      "execution_count": null,
      "outputs": []
    }
  ]
}
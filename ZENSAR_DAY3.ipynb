{
  "nbformat": 4,
  "nbformat_minor": 0,
  "metadata": {
    "colab": {
      "name": "ZENSAR DAY3.ipynb",
      "provenance": []
    },
    "kernelspec": {
      "name": "python3",
      "display_name": "Python 3"
    }
  },
  "cells": [
    {
      "cell_type": "markdown",
      "metadata": {
        "id": "icHiZhY_Z4R2"
      },
      "source": [
        "**Format and Alignment Specifier**"
      ]
    },
    {
      "cell_type": "markdown",
      "metadata": {
        "id": "zcWHlB0kY-1o"
      },
      "source": [
        "**WAP to display 5 students data in alignment format**"
      ]
    },
    {
      "cell_type": "code",
      "metadata": {
        "colab": {
          "base_uri": "https://localhost:8080/"
        },
        "id": "hMfpIPzuS04R",
        "outputId": "4bcb90b5-be70-49a2-f08e-175901c3ea9e"
      },
      "source": [
        "sr_no = [1,2,3,4,5]\r\n",
        "name = ['Aditi', 'Ruwaida', 'Chaitali', 'Chetana', 'Dhanashree'] \r\n",
        "place = ['Karnataka','Ratnagiri','Nashik','Pune','Mumbai'] \r\n",
        "percentage = [75.00,86.00,85.00,70.00,71.00] \r\n",
        "fees_paid = [21000.00, 25000.00, 22000.00, 18000.00, 19000.00] \r\n",
        "\r\n",
        "print(f\"{'Sr_no' : <10}{'Name' : ^10}{'Place' : ^10}{'Percentage' : >10}{'Fees_paid' : >20}\") \r\n",
        "  \r\n",
        "for i in range(0, 5): \r\n",
        "    print(f\"{sr_no[i] : <10}{name[i] : ^10}{place[i] : ^10}{percentage[i] : >10}{fees_paid[i] : >20}\") "
      ],
      "execution_count": 8,
      "outputs": [
        {
          "output_type": "stream",
          "text": [
            "Sr_no        Name     Place   Percentage           Fees_paid\n",
            "1           Aditi   Karnataka       75.0             21000.0\n",
            "2          Ruwaida  Ratnagiri       86.0             25000.0\n",
            "3          Chaitali   Nashik        85.0             22000.0\n",
            "4          Chetana     Pune         70.0             18000.0\n",
            "5         Dhanashree  Mumbai        71.0             19000.0\n"
          ],
          "name": "stdout"
        }
      ]
    },
    {
      "cell_type": "markdown",
      "metadata": {
        "id": "WpuU9cfRaFWO"
      },
      "source": [
        "**Lists**"
      ]
    },
    {
      "cell_type": "code",
      "metadata": {
        "id": "oIzNtMlzaKDZ"
      },
      "source": [
        "#Assign a list to an variable named my_list\r\n",
        "\r\n",
        "my_list=[1,2,3,4]\r\n",
        "\r\n",
        "lst=[]"
      ],
      "execution_count": 10,
      "outputs": []
    },
    {
      "cell_type": "code",
      "metadata": {
        "colab": {
          "base_uri": "https://localhost:8080/"
        },
        "id": "vxxYeDEebz__",
        "outputId": "f5129a73-f756-4d48-d6f2-f8fccc7b1a8a"
      },
      "source": [
        "my_list"
      ],
      "execution_count": 11,
      "outputs": [
        {
          "output_type": "execute_result",
          "data": {
            "text/plain": [
              "[1, 2, 3, 4]"
            ]
          },
          "metadata": {
            "tags": []
          },
          "execution_count": 11
        }
      ]
    },
    {
      "cell_type": "code",
      "metadata": {
        "id": "a7HJv6BUcDt6"
      },
      "source": [
        "my_list=['A string',26,89.56,'o']"
      ],
      "execution_count": 12,
      "outputs": []
    },
    {
      "cell_type": "code",
      "metadata": {
        "colab": {
          "base_uri": "https://localhost:8080/"
        },
        "id": "ydQTM8yYcml-",
        "outputId": "bd4e43ba-f0f9-4764-d072-f163fa8dd7a5"
      },
      "source": [
        "len(my_list)"
      ],
      "execution_count": 13,
      "outputs": [
        {
          "output_type": "execute_result",
          "data": {
            "text/plain": [
              "4"
            ]
          },
          "metadata": {
            "tags": []
          },
          "execution_count": 13
        }
      ]
    },
    {
      "cell_type": "markdown",
      "metadata": {
        "id": "QrEDUnlxc4l5"
      },
      "source": [
        "**Indexing and Slicing list**"
      ]
    },
    {
      "cell_type": "code",
      "metadata": {
        "id": "-u-O3ndNc7ud"
      },
      "source": [
        "my_list=['one','two','three',4,5]"
      ],
      "execution_count": 14,
      "outputs": []
    },
    {
      "cell_type": "code",
      "metadata": {
        "colab": {
          "base_uri": "https://localhost:8080/"
        },
        "id": "yeadnKvQdJ02",
        "outputId": "50583f56-cfc8-43b2-8e4e-f9837672f59b"
      },
      "source": [
        "my_list[3]"
      ],
      "execution_count": 15,
      "outputs": [
        {
          "output_type": "execute_result",
          "data": {
            "text/plain": [
              "4"
            ]
          },
          "metadata": {
            "tags": []
          },
          "execution_count": 15
        }
      ]
    },
    {
      "cell_type": "code",
      "metadata": {
        "colab": {
          "base_uri": "https://localhost:8080/"
        },
        "id": "gVQ84q11gKj8",
        "outputId": "5c838d70-6832-4162-db0c-99f3e9896800"
      },
      "source": [
        "for i in range(1,10,3):\r\n",
        "   print(i,end=' ')"
      ],
      "execution_count": 24,
      "outputs": [
        {
          "output_type": "stream",
          "text": [
            "1 4 7 "
          ],
          "name": "stdout"
        }
      ]
    },
    {
      "cell_type": "code",
      "metadata": {
        "colab": {
          "base_uri": "https://localhost:8080/"
        },
        "id": "4i2FCWn9dSYH",
        "outputId": "3a840e6f-ab27-47a4-8e79-46d70ce2040d"
      },
      "source": [
        "my_list[-1]"
      ],
      "execution_count": 16,
      "outputs": [
        {
          "output_type": "execute_result",
          "data": {
            "text/plain": [
              "5"
            ]
          },
          "metadata": {
            "tags": []
          },
          "execution_count": 16
        }
      ]
    },
    {
      "cell_type": "code",
      "metadata": {
        "colab": {
          "base_uri": "https://localhost:8080/"
        },
        "id": "6y5M3w8dg7YR",
        "outputId": "08c7a94c-016a-4900-95ce-fd1618f3083d"
      },
      "source": [
        "my_list[::-2]"
      ],
      "execution_count": 30,
      "outputs": [
        {
          "output_type": "execute_result",
          "data": {
            "text/plain": [
              "[5, 'three', 'one']"
            ]
          },
          "metadata": {
            "tags": []
          },
          "execution_count": 30
        }
      ]
    },
    {
      "cell_type": "code",
      "metadata": {
        "colab": {
          "base_uri": "https://localhost:8080/"
        },
        "id": "S6T10IhNdYjQ",
        "outputId": "df06e755-8260-4bc4-bd75-271f3acb9218"
      },
      "source": [
        "#grab index 1 and everythng past it\r\n",
        "\r\n",
        "my_list[1:]"
      ],
      "execution_count": 17,
      "outputs": [
        {
          "output_type": "execute_result",
          "data": {
            "text/plain": [
              "['two', 'three', 4, 5]"
            ]
          },
          "metadata": {
            "tags": []
          },
          "execution_count": 17
        }
      ]
    },
    {
      "cell_type": "code",
      "metadata": {
        "colab": {
          "base_uri": "https://localhost:8080/"
        },
        "id": "IVpengRpd14V",
        "outputId": "0bbe36d1-fc3a-4959-f34b-a2f5cd989239"
      },
      "source": [
        "my_list[1:3]"
      ],
      "execution_count": 18,
      "outputs": [
        {
          "output_type": "execute_result",
          "data": {
            "text/plain": [
              "['two', 'three']"
            ]
          },
          "metadata": {
            "tags": []
          },
          "execution_count": 18
        }
      ]
    },
    {
      "cell_type": "code",
      "metadata": {
        "colab": {
          "base_uri": "https://localhost:8080/"
        },
        "id": "iEb9nIJadknR",
        "outputId": "4a49cb3e-4f4f-41b2-9a83-4e97d27c9326"
      },
      "source": [
        "#grab everthng up to index 3\r\n",
        "\r\n",
        "my_list[:3]"
      ],
      "execution_count": 19,
      "outputs": [
        {
          "output_type": "execute_result",
          "data": {
            "text/plain": [
              "['one', 'two', 'three']"
            ]
          },
          "metadata": {
            "tags": []
          },
          "execution_count": 19
        }
      ]
    },
    {
      "cell_type": "markdown",
      "metadata": {
        "id": "D3JEn97wiNqo"
      },
      "source": [
        "**+ to concatenate list**"
      ]
    },
    {
      "cell_type": "code",
      "metadata": {
        "id": "vG47hhuPjuir"
      },
      "source": [
        "my_list + ['new item']"
      ],
      "execution_count": null,
      "outputs": []
    },
    {
      "cell_type": "code",
      "metadata": {
        "id": "A3r6Fq-vjzoJ"
      },
      "source": [
        "#doesn't affect original list\r\n",
        "\r\n",
        "my_list"
      ],
      "execution_count": null,
      "outputs": []
    },
    {
      "cell_type": "code",
      "metadata": {
        "colab": {
          "base_uri": "https://localhost:8080/"
        },
        "id": "fqZCSYOSizh_",
        "outputId": "11cd5c05-ffa6-4366-9075-7cf9d40d5b66"
      },
      "source": [
        "#updating list variable reassign it as variable=variable+new data\r\n",
        " \r\n",
        " my_list = my_list + ['new item']\r\n",
        "\r\n",
        "my_list"
      ],
      "execution_count": 37,
      "outputs": [
        {
          "output_type": "execute_result",
          "data": {
            "text/plain": [
              "['one', 'two', 'three', 4, 5, 'new item']"
            ]
          },
          "metadata": {
            "tags": []
          },
          "execution_count": 37
        }
      ]
    },
    {
      "cell_type": "code",
      "metadata": {
        "colab": {
          "base_uri": "https://localhost:8080/"
        },
        "id": "gu24przdjVnx",
        "outputId": "1edf808f-d595-40b0-f679-79d5f884c796"
      },
      "source": [
        "my_list * 2"
      ],
      "execution_count": 39,
      "outputs": [
        {
          "output_type": "execute_result",
          "data": {
            "text/plain": [
              "['one',\n",
              " 'two',\n",
              " 'three',\n",
              " 4,\n",
              " 5,\n",
              " 'new item',\n",
              " 'one',\n",
              " 'two',\n",
              " 'three',\n",
              " 4,\n",
              " 5,\n",
              " 'new item']"
            ]
          },
          "metadata": {
            "tags": []
          },
          "execution_count": 39
        }
      ]
    },
    {
      "cell_type": "markdown",
      "metadata": {
        "id": "5N7zArFLkBW3"
      },
      "source": [
        "**List Methods**"
      ]
    },
    {
      "cell_type": "code",
      "metadata": {
        "colab": {
          "base_uri": "https://localhost:8080/"
        },
        "id": "XEwdvySOkDs-",
        "outputId": "17db36a4-03d6-45e0-89ac-bb40cfc85912"
      },
      "source": [
        "lst =[]\r\n",
        "print(lst)"
      ],
      "execution_count": 41,
      "outputs": [
        {
          "output_type": "stream",
          "text": [
            "[]\n"
          ],
          "name": "stdout"
        }
      ]
    },
    {
      "cell_type": "code",
      "metadata": {
        "colab": {
          "base_uri": "https://localhost:8080/"
        },
        "id": "5YdGX0A5kKx0",
        "outputId": "a1d4c08e-eb82-405b-f867-827922098037"
      },
      "source": [
        "#append at last\r\n",
        "\r\n",
        "lst.append(3)\r\n",
        "print(lst)"
      ],
      "execution_count": 43,
      "outputs": [
        {
          "output_type": "stream",
          "text": [
            "[3]\n"
          ],
          "name": "stdout"
        }
      ]
    },
    {
      "cell_type": "code",
      "metadata": {
        "colab": {
          "base_uri": "https://localhost:8080/"
        },
        "id": "SB81keoxkT6b",
        "outputId": "a6a121f3-897d-40b0-eeda-cd21655e9cdd"
      },
      "source": [
        "#count\r\n",
        "\r\n",
        "lst=[1,2,3,4,5,6,3,7]\r\n",
        "print(lst.count(3))\r\n",
        "print(lst)"
      ],
      "execution_count": 53,
      "outputs": [
        {
          "output_type": "stream",
          "text": [
            "2\n",
            "[1, 2, 3, 4, 5, 6, 3, 7]\n"
          ],
          "name": "stdout"
        }
      ]
    },
    {
      "cell_type": "code",
      "metadata": {
        "colab": {
          "base_uri": "https://localhost:8080/"
        },
        "id": "BC5oTFeGk6E8",
        "outputId": "b31bbdc2-fdf9-43f8-ae59-be4d38184a6e"
      },
      "source": [
        "#print index\r\n",
        "\r\n",
        "print('Index of element 3:',lst.index(3))"
      ],
      "execution_count": 50,
      "outputs": [
        {
          "output_type": "stream",
          "text": [
            "Index of element 3: 2\n"
          ],
          "name": "stdout"
        }
      ]
    },
    {
      "cell_type": "code",
      "metadata": {
        "colab": {
          "base_uri": "https://localhost:8080/"
        },
        "id": "oBpKOsI2lMs5",
        "outputId": "9bb07664-7531-4d8e-af46-f8e8e27aea03"
      },
      "source": [
        "#sorting\r\n",
        "\r\n",
        "lst.sort()\r\n",
        "print(lst)"
      ],
      "execution_count": 52,
      "outputs": [
        {
          "output_type": "stream",
          "text": [
            "[1, 2, 3, 3, 4, 5, 6, 7]\n"
          ],
          "name": "stdout"
        }
      ]
    },
    {
      "cell_type": "code",
      "metadata": {
        "colab": {
          "base_uri": "https://localhost:8080/"
        },
        "id": "d6W99Kr5mBbl",
        "outputId": "b677aa1f-d61e-40b2-96e1-33361be528fa"
      },
      "source": [
        "#desc order\r\n",
        "\r\n",
        "lst.sort(reverse=True)\r\n",
        "print(lst)"
      ],
      "execution_count": 56,
      "outputs": [
        {
          "output_type": "stream",
          "text": [
            "[7, 6, 5, 4, 3, 3, 2, 1]\n"
          ],
          "name": "stdout"
        }
      ]
    },
    {
      "cell_type": "code",
      "metadata": {
        "colab": {
          "base_uri": "https://localhost:8080/"
        },
        "id": "t3bWX9m4mVjl",
        "outputId": "b19df910-d362-4454-e45b-a237d299ec20"
      },
      "source": [
        "#insert as per index\r\n",
        "\r\n",
        "lst.insert(2,10)\r\n",
        "print(lst)"
      ],
      "execution_count": 58,
      "outputs": [
        {
          "output_type": "stream",
          "text": [
            "[7, 6, 10, 10, 5, 4, 3, 3, 2, 1]\n"
          ],
          "name": "stdout"
        }
      ]
    },
    {
      "cell_type": "code",
      "metadata": {
        "colab": {
          "base_uri": "https://localhost:8080/"
        },
        "id": "atpKQtmAm19m",
        "outputId": "da0f2fcd-150a-4f1c-de12-f8d7e9da8688"
      },
      "source": [
        "#remove as per index\r\n",
        "\r\n",
        "lst.pop()\r\n",
        "print(lst)"
      ],
      "execution_count": 59,
      "outputs": [
        {
          "output_type": "stream",
          "text": [
            "[7, 6, 10, 10, 5, 4, 3, 3, 2]\n"
          ],
          "name": "stdout"
        }
      ]
    },
    {
      "cell_type": "code",
      "metadata": {
        "colab": {
          "base_uri": "https://localhost:8080/"
        },
        "id": "4B0jyRzgnBjZ",
        "outputId": "4a286aaf-cfa1-450e-f930-3b4304932421"
      },
      "source": [
        "#Asc order\r\n",
        "\r\n",
        "lst.sort(reverse=False)\r\n",
        "print(lst)"
      ],
      "execution_count": 60,
      "outputs": [
        {
          "output_type": "stream",
          "text": [
            "[2, 3, 3, 4, 5, 6, 7, 10, 10]\n"
          ],
          "name": "stdout"
        }
      ]
    },
    {
      "cell_type": "code",
      "metadata": {
        "colab": {
          "base_uri": "https://localhost:8080/"
        },
        "id": "oPyhwNfVnRny",
        "outputId": "681f89c3-8bb6-4de8-8ec8-b2a957ab83be"
      },
      "source": [
        "#remove as per value\r\n",
        "\r\n",
        "lst.remove(3)\r\n",
        "print(lst)"
      ],
      "execution_count": 62,
      "outputs": [
        {
          "output_type": "stream",
          "text": [
            "[2, 3, 4, 5, 6, 7, 10, 10]\n"
          ],
          "name": "stdout"
        }
      ]
    },
    {
      "cell_type": "markdown",
      "metadata": {
        "id": "gRloGRGBp1Kv"
      },
      "source": [
        "**Nesting of lists**"
      ]
    },
    {
      "cell_type": "code",
      "metadata": {
        "colab": {
          "base_uri": "https://localhost:8080/"
        },
        "id": "wHgYG2g2p3k9",
        "outputId": "0f61dcc7-a328-46e3-d4a4-f7804ff31bf4"
      },
      "source": [
        "lst=[11,12,13]\r\n",
        "print(lst)"
      ],
      "execution_count": 64,
      "outputs": [
        {
          "output_type": "stream",
          "text": [
            "[11, 12, 13]\n"
          ],
          "name": "stdout"
        }
      ]
    },
    {
      "cell_type": "code",
      "metadata": {
        "colab": {
          "base_uri": "https://localhost:8080/"
        },
        "id": "9vuOR7oiqx-X",
        "outputId": "6b8024ce-2d51-4392-cc0c-a2b86e4a7b06"
      },
      "source": [
        "lst.append([14,15,16,17])\r\n",
        "print(lst)"
      ],
      "execution_count": 66,
      "outputs": [
        {
          "output_type": "stream",
          "text": [
            "[11, 12, 13, [14, 15, 16, 17]]\n"
          ],
          "name": "stdout"
        }
      ]
    },
    {
      "cell_type": "code",
      "metadata": {
        "colab": {
          "base_uri": "https://localhost:8080/"
        },
        "id": "-5cBfWOrq_QA",
        "outputId": "36cd6998-b103-429f-f227-4a283d6933d6"
      },
      "source": [
        "lst[2]"
      ],
      "execution_count": 68,
      "outputs": [
        {
          "output_type": "execute_result",
          "data": {
            "text/plain": [
              "13"
            ]
          },
          "metadata": {
            "tags": []
          },
          "execution_count": 68
        }
      ]
    },
    {
      "cell_type": "code",
      "metadata": {
        "colab": {
          "base_uri": "https://localhost:8080/"
        },
        "id": "t9UDUo3urLEZ",
        "outputId": "06a58b7f-7fd2-4d72-a623-ac09f65dbde7"
      },
      "source": [
        "len(lst)"
      ],
      "execution_count": 69,
      "outputs": [
        {
          "output_type": "execute_result",
          "data": {
            "text/plain": [
              "4"
            ]
          },
          "metadata": {
            "tags": []
          },
          "execution_count": 69
        }
      ]
    },
    {
      "cell_type": "code",
      "metadata": {
        "colab": {
          "base_uri": "https://localhost:8080/"
        },
        "id": "x2EPwrw_rU3B",
        "outputId": "26c556f4-a7e1-4ca8-a4d3-381a77e226d3"
      },
      "source": [
        "#making matrix of list\r\n",
        "\r\n",
        "lst_1=[1,2,3]\r\n",
        "lst_2=[4,5,6]\r\n",
        "lst_3=[7,8,9]\r\n",
        "\r\n",
        "matrix=[lst_1,lst_2,lst_3]\r\n",
        "print(matrix)"
      ],
      "execution_count": 71,
      "outputs": [
        {
          "output_type": "stream",
          "text": [
            "[[1, 2, 3], [4, 5, 6], [7, 8, 9]]\n"
          ],
          "name": "stdout"
        }
      ]
    },
    {
      "cell_type": "code",
      "metadata": {
        "colab": {
          "base_uri": "https://localhost:8080/"
        },
        "id": "7ey86NYYrxum",
        "outputId": "dd763a47-42f0-476e-9807-90b2595c6164"
      },
      "source": [
        "#grab first item of the first item in the matrix object\r\n",
        "\r\n",
        "matrix[1][2]"
      ],
      "execution_count": 72,
      "outputs": [
        {
          "output_type": "execute_result",
          "data": {
            "text/plain": [
              "6"
            ]
          },
          "metadata": {
            "tags": []
          },
          "execution_count": 72
        }
      ]
    },
    {
      "cell_type": "code",
      "metadata": {
        "colab": {
          "base_uri": "https://localhost:8080/"
        },
        "id": "l5kDJ95bIA9a",
        "outputId": "09e3b8c4-58e5-48ab-b96c-665c4b8dce4f"
      },
      "source": [
        "lst=[]\r\n",
        "for i in range(1,11):\r\n",
        "     lst.append(i)\r\n",
        "print(lst)"
      ],
      "execution_count": 176,
      "outputs": [
        {
          "output_type": "stream",
          "text": [
            "[1, 2, 3, 4, 5, 6, 7, 8, 9, 10]\n"
          ],
          "name": "stdout"
        }
      ]
    },
    {
      "cell_type": "markdown",
      "metadata": {
        "id": "2bdCpjbpsA6x"
      },
      "source": [
        "**List Comprehesions**"
      ]
    },
    {
      "cell_type": "code",
      "metadata": {
        "id": "LMpvpDgxsFor"
      },
      "source": [
        "#Build a list comprehension by deconstructing a loop within a []\r\n",
        "\r\n",
        "first_col = [row[0] for row in matrix]"
      ],
      "execution_count": null,
      "outputs": []
    },
    {
      "cell_type": "code",
      "metadata": {
        "colab": {
          "base_uri": "https://localhost:8080/"
        },
        "id": "LchbqUJuw648",
        "outputId": "d85412c0-810d-4af9-8e7d-7a3f4c55969d"
      },
      "source": [
        "lst = [x for x in range(1,21)]\r\n",
        "print(lst)"
      ],
      "execution_count": 74,
      "outputs": [
        {
          "output_type": "stream",
          "text": [
            "[1, 2, 3, 4, 5, 6, 7, 8, 9, 10, 11, 12, 13, 14, 15, 16, 17, 18, 19, 20]\n"
          ],
          "name": "stdout"
        }
      ]
    },
    {
      "cell_type": "code",
      "metadata": {
        "id": "kwMss2EmxeSh"
      },
      "source": [
        "lst = [(x,y) for x in range(1,4) for y in range(1,3)]"
      ],
      "execution_count": 76,
      "outputs": []
    },
    {
      "cell_type": "code",
      "metadata": {
        "colab": {
          "base_uri": "https://localhost:8080/"
        },
        "id": "fMT4Tv-oxsgA",
        "outputId": "64749d7e-0636-4f65-e94e-94e009292e4d"
      },
      "source": [
        "lst"
      ],
      "execution_count": 77,
      "outputs": [
        {
          "output_type": "execute_result",
          "data": {
            "text/plain": [
              "[(1, 1), (1, 2), (2, 1), (2, 2), (3, 1), (3, 2)]"
            ]
          },
          "metadata": {
            "tags": []
          },
          "execution_count": 77
        }
      ]
    },
    {
      "cell_type": "markdown",
      "metadata": {
        "id": "BbHHcT46x88-"
      },
      "source": [
        "**Dictionaries**"
      ]
    },
    {
      "cell_type": "code",
      "metadata": {
        "id": "4uxKTKhZyBNP"
      },
      "source": [
        "#make a dist with {} and : to signify a key and value\r\n",
        "\r\n",
        "my_dist={'key1':'value1','key2':'value2','abc':'xyz'}"
      ],
      "execution_count": 81,
      "outputs": []
    },
    {
      "cell_type": "code",
      "metadata": {
        "colab": {
          "base_uri": "https://localhost:8080/",
          "height": 35
        },
        "id": "sAj5A1v-yjM6",
        "outputId": "fe4eec9e-8307-43f7-cfda-9d23c8b31fc2"
      },
      "source": [
        "#call values by their key\r\n",
        "\r\n",
        "my_dist['key2']"
      ],
      "execution_count": 80,
      "outputs": [
        {
          "output_type": "execute_result",
          "data": {
            "application/vnd.google.colaboratory.intrinsic+json": {
              "type": "string"
            },
            "text/plain": [
              "'value2'"
            ]
          },
          "metadata": {
            "tags": []
          },
          "execution_count": 80
        }
      ]
    },
    {
      "cell_type": "code",
      "metadata": {
        "colab": {
          "base_uri": "https://localhost:8080/",
          "height": 35
        },
        "id": "661EvtWnyuzI",
        "outputId": "cd2624d4-ed64-4edb-9433-1efce2bb015f"
      },
      "source": [
        "my_dist['abc']"
      ],
      "execution_count": 82,
      "outputs": [
        {
          "output_type": "execute_result",
          "data": {
            "application/vnd.google.colaboratory.intrinsic+json": {
              "type": "string"
            },
            "text/plain": [
              "'xyz'"
            ]
          },
          "metadata": {
            "tags": []
          },
          "execution_count": 82
        }
      ]
    },
    {
      "cell_type": "code",
      "metadata": {
        "id": "vHWmArJUy9y3"
      },
      "source": [
        "my_dict ={'key1':123,'key2':[12,1,2,5],'key3':['item1','item2','item3']}"
      ],
      "execution_count": 87,
      "outputs": []
    },
    {
      "cell_type": "code",
      "metadata": {
        "colab": {
          "base_uri": "https://localhost:8080/"
        },
        "id": "VhVGhBYZzls-",
        "outputId": "e92dfffe-ae02-4b40-b6c2-b88e0b838141"
      },
      "source": [
        "len(my_dict)"
      ],
      "execution_count": 88,
      "outputs": [
        {
          "output_type": "execute_result",
          "data": {
            "text/plain": [
              "3"
            ]
          },
          "metadata": {
            "tags": []
          },
          "execution_count": 88
        }
      ]
    },
    {
      "cell_type": "code",
      "metadata": {
        "colab": {
          "base_uri": "https://localhost:8080/",
          "height": 35
        },
        "id": "AJDtF-CDzpoD",
        "outputId": "2df2ff52-c788-4aff-c2d4-d1a660d1db29"
      },
      "source": [
        "my_dict['key3'][0]"
      ],
      "execution_count": 89,
      "outputs": [
        {
          "output_type": "execute_result",
          "data": {
            "application/vnd.google.colaboratory.intrinsic+json": {
              "type": "string"
            },
            "text/plain": [
              "'item1'"
            ]
          },
          "metadata": {
            "tags": []
          },
          "execution_count": 89
        }
      ]
    },
    {
      "cell_type": "code",
      "metadata": {
        "colab": {
          "base_uri": "https://localhost:8080/",
          "height": 35
        },
        "id": "DZukGiRYz19_",
        "outputId": "42224984-d929-4301-f452-000637c68793"
      },
      "source": [
        "my_dict['key3'][0].upper()"
      ],
      "execution_count": 90,
      "outputs": [
        {
          "output_type": "execute_result",
          "data": {
            "application/vnd.google.colaboratory.intrinsic+json": {
              "type": "string"
            },
            "text/plain": [
              "'ITEM1'"
            ]
          },
          "metadata": {
            "tags": []
          },
          "execution_count": 90
        }
      ]
    },
    {
      "cell_type": "code",
      "metadata": {
        "colab": {
          "base_uri": "https://localhost:8080/"
        },
        "id": "FNnDv8Rjz-Uc",
        "outputId": "0c66768e-76ee-4a3c-beaf-c15691e521b7"
      },
      "source": [
        "my_dict['key1']=my_dict['key1']-123\r\n",
        "my_dict['key1']"
      ],
      "execution_count": 93,
      "outputs": [
        {
          "output_type": "execute_result",
          "data": {
            "text/plain": [
              "-123"
            ]
          },
          "metadata": {
            "tags": []
          },
          "execution_count": 93
        }
      ]
    },
    {
      "cell_type": "code",
      "metadata": {
        "id": "Cr0BpMWj0eUr"
      },
      "source": [
        "d={}"
      ],
      "execution_count": 94,
      "outputs": []
    },
    {
      "cell_type": "code",
      "metadata": {
        "id": "uHJEBPbk0OZN"
      },
      "source": [
        "#create a new key through assignment\r\n",
        "\r\n",
        "d['animal']='Dog'"
      ],
      "execution_count": 95,
      "outputs": []
    },
    {
      "cell_type": "code",
      "metadata": {
        "id": "eQQpAx9A0lmV"
      },
      "source": [
        "#can do with any object\r\n",
        "\r\n",
        "d['answer']=42"
      ],
      "execution_count": 96,
      "outputs": []
    },
    {
      "cell_type": "code",
      "metadata": {
        "colab": {
          "base_uri": "https://localhost:8080/"
        },
        "id": "HkyVNlqH0svf",
        "outputId": "749b8b47-1cb0-452b-d601-d634c44969e8"
      },
      "source": [
        "d"
      ],
      "execution_count": 97,
      "outputs": [
        {
          "output_type": "execute_result",
          "data": {
            "text/plain": [
              "{'animal': 'Dog', 'answer': 42}"
            ]
          },
          "metadata": {
            "tags": []
          },
          "execution_count": 97
        }
      ]
    },
    {
      "cell_type": "markdown",
      "metadata": {
        "id": "XNTqDnxH07do"
      },
      "source": [
        "**Nesting Dictionaries**"
      ]
    },
    {
      "cell_type": "code",
      "metadata": {
        "id": "EwdLGVln0_I7"
      },
      "source": [
        "#dict nested inside a dict nested inside a dict\r\n",
        "\r\n",
        "d={'key1':{'nestkey':{'subnestkey':'value'}}}"
      ],
      "execution_count": 166,
      "outputs": []
    },
    {
      "cell_type": "code",
      "metadata": {
        "colab": {
          "base_uri": "https://localhost:8080/",
          "height": 35
        },
        "id": "YXdaq6g_GI8B",
        "outputId": "35033130-3bfb-4d9f-fe67-9f0eb7925efc"
      },
      "source": [
        "#keep calling the keys\r\n",
        "d['key1']['nestkey']['subnestkey']"
      ],
      "execution_count": 167,
      "outputs": [
        {
          "output_type": "execute_result",
          "data": {
            "application/vnd.google.colaboratory.intrinsic+json": {
              "type": "string"
            },
            "text/plain": [
              "'value'"
            ]
          },
          "metadata": {
            "tags": []
          },
          "execution_count": 167
        }
      ]
    },
    {
      "cell_type": "markdown",
      "metadata": {
        "id": "lloTo-g8GlXt"
      },
      "source": [
        "**Dict Methods**"
      ]
    },
    {
      "cell_type": "code",
      "metadata": {
        "id": "cBwsVEdNGrAU"
      },
      "source": [
        "#create a typical dictionary\r\n",
        "\r\n",
        "d={'key1':1,'key2':2,'key3':3}"
      ],
      "execution_count": 168,
      "outputs": []
    },
    {
      "cell_type": "code",
      "metadata": {
        "colab": {
          "base_uri": "https://localhost:8080/"
        },
        "id": "sfOHO-mOG7rC",
        "outputId": "d8c66abb-5ec4-49f3-af86-18aeeb90c510"
      },
      "source": [
        "#method to return a list of all keys\r\n",
        "\r\n",
        "d.keys()"
      ],
      "execution_count": 169,
      "outputs": [
        {
          "output_type": "execute_result",
          "data": {
            "text/plain": [
              "dict_keys(['key1', 'key2', 'key3'])"
            ]
          },
          "metadata": {
            "tags": []
          },
          "execution_count": 169
        }
      ]
    },
    {
      "cell_type": "code",
      "metadata": {
        "colab": {
          "base_uri": "https://localhost:8080/"
        },
        "id": "I1NI4f3uHEEc",
        "outputId": "54bf6faf-c272-4a30-ee79-bc3ee999ea5d"
      },
      "source": [
        "#method to grab all values\r\n",
        "\r\n",
        "d.values()"
      ],
      "execution_count": 170,
      "outputs": [
        {
          "output_type": "execute_result",
          "data": {
            "text/plain": [
              "dict_values([1, 2, 3])"
            ]
          },
          "metadata": {
            "tags": []
          },
          "execution_count": 170
        }
      ]
    },
    {
      "cell_type": "code",
      "metadata": {
        "colab": {
          "base_uri": "https://localhost:8080/"
        },
        "id": "mejBpAsXHUM3",
        "outputId": "6e50bb4e-52ea-4971-918c-d498558cc0b8"
      },
      "source": [
        "#method to return tuples of all items \r\n",
        "\r\n",
        "d.items()"
      ],
      "execution_count": 172,
      "outputs": [
        {
          "output_type": "execute_result",
          "data": {
            "text/plain": [
              "dict_items([('key1', 1), ('key2', 2), ('key3', 3)])"
            ]
          },
          "metadata": {
            "tags": []
          },
          "execution_count": 172
        }
      ]
    },
    {
      "cell_type": "markdown",
      "metadata": {
        "id": "DBY6vuwU4aG9"
      },
      "source": [
        "**Tuples**"
      ]
    },
    {
      "cell_type": "code",
      "metadata": {
        "id": "Pk0sULQo4cZM"
      },
      "source": [
        "#create a tuple\r\n",
        "\r\n",
        "t=(1,2,3,4)"
      ],
      "execution_count": 100,
      "outputs": []
    },
    {
      "cell_type": "code",
      "metadata": {
        "colab": {
          "base_uri": "https://localhost:8080/"
        },
        "id": "9wFxrln24pct",
        "outputId": "15862ce0-e1d7-4ee4-aa19-1290aee5c438"
      },
      "source": [
        "#check len\r\n",
        "\r\n",
        "len(t)"
      ],
      "execution_count": 101,
      "outputs": [
        {
          "output_type": "execute_result",
          "data": {
            "text/plain": [
              "4"
            ]
          },
          "metadata": {
            "tags": []
          },
          "execution_count": 101
        }
      ]
    },
    {
      "cell_type": "code",
      "metadata": {
        "colab": {
          "base_uri": "https://localhost:8080/"
        },
        "id": "TvhHqcro4uZ2",
        "outputId": "44b9a8ba-17f4-4ab7-e0a8-efbba90b0d92"
      },
      "source": [
        "#can also mix object types\r\n",
        "\r\n",
        "t=('one',5)\r\n",
        "t"
      ],
      "execution_count": 103,
      "outputs": [
        {
          "output_type": "execute_result",
          "data": {
            "text/plain": [
              "('one', 5)"
            ]
          },
          "metadata": {
            "tags": []
          },
          "execution_count": 103
        }
      ]
    },
    {
      "cell_type": "code",
      "metadata": {
        "colab": {
          "base_uri": "https://localhost:8080/"
        },
        "id": "Seriu-Bc45ZT",
        "outputId": "6d9c07ef-f17b-424a-d52f-d9da8c04c3c2"
      },
      "source": [
        "#using index just like list\r\n",
        "\r\n",
        "t[1]"
      ],
      "execution_count": 104,
      "outputs": [
        {
          "output_type": "execute_result",
          "data": {
            "text/plain": [
              "5"
            ]
          },
          "metadata": {
            "tags": []
          },
          "execution_count": 104
        }
      ]
    },
    {
      "cell_type": "code",
      "metadata": {
        "colab": {
          "base_uri": "https://localhost:8080/"
        },
        "id": "M0LmRzRI4_p2",
        "outputId": "b3ed8a30-44c8-47ff-a76b-4e2cf2f5919d"
      },
      "source": [
        "#slicing just like list\r\n",
        "\r\n",
        "t[-1]"
      ],
      "execution_count": 107,
      "outputs": [
        {
          "output_type": "execute_result",
          "data": {
            "text/plain": [
              "5"
            ]
          },
          "metadata": {
            "tags": []
          },
          "execution_count": 107
        }
      ]
    },
    {
      "cell_type": "markdown",
      "metadata": {
        "id": "7btO_YPk5Op2"
      },
      "source": [
        "**Tuple Methods**"
      ]
    },
    {
      "cell_type": "code",
      "metadata": {
        "colab": {
          "base_uri": "https://localhost:8080/"
        },
        "id": "M-r79XvF5QkC",
        "outputId": "3734a567-1eab-4f3f-a930-3a2f122ace58"
      },
      "source": [
        "t=(1,2,3,4,5,6,7,8,9)"
      ],
      "execution_count": 111,
      "outputs": [
        {
          "output_type": "stream",
          "text": [
            "(1, 2, 3, 4, 5, 6, 7, 8, 9)\n"
          ],
          "name": "stdout"
        }
      ]
    },
    {
      "cell_type": "code",
      "metadata": {
        "colab": {
          "base_uri": "https://localhost:8080/"
        },
        "id": "o1KEm5h-5rpK",
        "outputId": "b6c9950a-f391-44aa-98cd-8e02fed965ee"
      },
      "source": [
        "print(t.index(3))"
      ],
      "execution_count": 112,
      "outputs": [
        {
          "output_type": "stream",
          "text": [
            "2\n"
          ],
          "name": "stdout"
        }
      ]
    },
    {
      "cell_type": "code",
      "metadata": {
        "colab": {
          "base_uri": "https://localhost:8080/"
        },
        "id": "7O_seiaV5x-J",
        "outputId": "ba5c5df6-84c4-4388-f46f-5deb96f1d8d5"
      },
      "source": [
        "print(t.count(5))"
      ],
      "execution_count": 114,
      "outputs": [
        {
          "output_type": "stream",
          "text": [
            "1\n"
          ],
          "name": "stdout"
        }
      ]
    },
    {
      "cell_type": "code",
      "metadata": {
        "colab": {
          "base_uri": "https://localhost:8080/"
        },
        "id": "ws0wV9tl57IS",
        "outputId": "8ba9d54f-67d0-41b8-af7b-835fdd5397aa"
      },
      "source": [
        "for x in t:\r\n",
        "  print(x)"
      ],
      "execution_count": 115,
      "outputs": [
        {
          "output_type": "stream",
          "text": [
            "1\n",
            "2\n",
            "3\n",
            "4\n",
            "5\n",
            "6\n",
            "7\n",
            "8\n",
            "9\n"
          ],
          "name": "stdout"
        }
      ]
    },
    {
      "cell_type": "markdown",
      "metadata": {
        "id": "2BJfF9M-6BVB"
      },
      "source": [
        "**Immutability**"
      ]
    },
    {
      "cell_type": "code",
      "metadata": {
        "colab": {
          "base_uri": "https://localhost:8080/"
        },
        "id": "n0AVRaIv6Dux",
        "outputId": "5d8582bf-9526-4151-f108-525420509157"
      },
      "source": [
        "t"
      ],
      "execution_count": 116,
      "outputs": [
        {
          "output_type": "execute_result",
          "data": {
            "text/plain": [
              "(1, 2, 3, 4, 5, 6, 7, 8, 9)"
            ]
          },
          "metadata": {
            "tags": []
          },
          "execution_count": 116
        }
      ]
    },
    {
      "cell_type": "code",
      "metadata": {
        "colab": {
          "base_uri": "https://localhost:8080/",
          "height": 162
        },
        "id": "pGisX-Nr6Wwb",
        "outputId": "734805c4-7c49-422a-d6d4-170789a89057"
      },
      "source": [
        "t.append('nope')"
      ],
      "execution_count": 117,
      "outputs": [
        {
          "output_type": "error",
          "ename": "AttributeError",
          "evalue": "ignored",
          "traceback": [
            "\u001b[0;31m---------------------------------------------------------------------------\u001b[0m",
            "\u001b[0;31mAttributeError\u001b[0m                            Traceback (most recent call last)",
            "\u001b[0;32m<ipython-input-117-b75f5b09ac19>\u001b[0m in \u001b[0;36m<module>\u001b[0;34m()\u001b[0m\n\u001b[0;32m----> 1\u001b[0;31m \u001b[0mt\u001b[0m\u001b[0;34m.\u001b[0m\u001b[0mappend\u001b[0m\u001b[0;34m(\u001b[0m\u001b[0;34m'nope'\u001b[0m\u001b[0;34m)\u001b[0m\u001b[0;34m\u001b[0m\u001b[0;34m\u001b[0m\u001b[0m\n\u001b[0m",
            "\u001b[0;31mAttributeError\u001b[0m: 'tuple' object has no attribute 'append'"
          ]
        }
      ]
    },
    {
      "cell_type": "markdown",
      "metadata": {
        "id": "TKX-yvsA6dqC"
      },
      "source": [
        "**Set**"
      ]
    },
    {
      "cell_type": "code",
      "metadata": {
        "colab": {
          "base_uri": "https://localhost:8080/"
        },
        "id": "zyD1jbRu6fvu",
        "outputId": "863eaba6-7a45-426b-9c49-83fbcd8b0ac8"
      },
      "source": [
        "s=set()\r\n",
        "print(s)"
      ],
      "execution_count": 118,
      "outputs": [
        {
          "output_type": "stream",
          "text": [
            "set()\n"
          ],
          "name": "stdout"
        }
      ]
    },
    {
      "cell_type": "code",
      "metadata": {
        "id": "1ijseaJu8Bzi"
      },
      "source": [
        "x=set()"
      ],
      "execution_count": 120,
      "outputs": []
    },
    {
      "cell_type": "code",
      "metadata": {
        "colab": {
          "base_uri": "https://localhost:8080/"
        },
        "id": "4mCnBXk78FN6",
        "outputId": "b70c3b85-f277-4336-8fbd-0d14d9a02cab"
      },
      "source": [
        "x.add(1)\r\n",
        "x.add(2)\r\n",
        "x.add(2)\r\n",
        "\r\n",
        "x"
      ],
      "execution_count": 122,
      "outputs": [
        {
          "output_type": "execute_result",
          "data": {
            "text/plain": [
              "{1, 2}"
            ]
          },
          "metadata": {
            "tags": []
          },
          "execution_count": 122
        }
      ]
    },
    {
      "cell_type": "code",
      "metadata": {
        "id": "XuKeutNe8Nbs"
      },
      "source": [
        "#create a list with repeated values\r\n",
        "\r\n",
        "a=[1,2,3,4,5,6,6,7,8,9,1]"
      ],
      "execution_count": 163,
      "outputs": []
    },
    {
      "cell_type": "code",
      "metadata": {
        "colab": {
          "base_uri": "https://localhost:8080/"
        },
        "id": "sAmcHkMHDxQI",
        "outputId": "5980afa9-95dd-44b0-d27b-ff259d283621"
      },
      "source": [
        "a"
      ],
      "execution_count": 164,
      "outputs": [
        {
          "output_type": "execute_result",
          "data": {
            "text/plain": [
              "[1, 2, 3, 4, 5, 6, 6, 7, 8, 9, 1]"
            ]
          },
          "metadata": {
            "tags": []
          },
          "execution_count": 164
        }
      ]
    },
    {
      "cell_type": "markdown",
      "metadata": {
        "id": "7dDYDKhx-JOj"
      },
      "source": [
        "**WAP to create tuple by accepting 10 numbers by user and convert it into a set and find the length of set**"
      ]
    },
    {
      "cell_type": "code",
      "metadata": {
        "id": "3ujDb7tvEtFl"
      },
      "source": [
        "tuple=input(\"Enter 10 numbers\")\r\n",
        "print(\"Tuple :\",(tuple))\r\n",
        "s=set(tuple)\r\n",
        "print(\"Converted to set : \",(s))\r\n",
        "print(\"Length is :\",len(s))\r\n"
      ],
      "execution_count": null,
      "outputs": []
    },
    {
      "cell_type": "code",
      "metadata": {
        "id": "0xaNLly6AP13"
      },
      "source": [
        "lst=[]\r\n",
        "lst1=[1,2,3,4,5,6]\r\n",
        "lst.extend(lst1)"
      ],
      "execution_count": 139,
      "outputs": []
    },
    {
      "cell_type": "code",
      "metadata": {
        "colab": {
          "base_uri": "https://localhost:8080/"
        },
        "id": "CZiVUFoJApdH",
        "outputId": "533b4020-90ff-4ad6-eccf-70d8c6044499"
      },
      "source": [
        "lst"
      ],
      "execution_count": 140,
      "outputs": [
        {
          "output_type": "execute_result",
          "data": {
            "text/plain": [
              "[1, 2, 3, 4, 5, 6]"
            ]
          },
          "metadata": {
            "tags": []
          },
          "execution_count": 140
        }
      ]
    },
    {
      "cell_type": "code",
      "metadata": {
        "id": "_pH90Hn7Ar2R"
      },
      "source": [
        "lst2=[7,8,9]"
      ],
      "execution_count": 143,
      "outputs": []
    },
    {
      "cell_type": "code",
      "metadata": {
        "id": "2sCxTKmUAvfu"
      },
      "source": [
        "lst.extend(lst2)"
      ],
      "execution_count": 144,
      "outputs": []
    },
    {
      "cell_type": "code",
      "metadata": {
        "colab": {
          "base_uri": "https://localhost:8080/"
        },
        "id": "CkvyyswmA0Bm",
        "outputId": "a028b839-1fbf-4ced-9122-7a7eef82f323"
      },
      "source": [
        "lst"
      ],
      "execution_count": 145,
      "outputs": [
        {
          "output_type": "execute_result",
          "data": {
            "text/plain": [
              "[1, 2, 3, 4, 5, 6, 7, 8, 9]"
            ]
          },
          "metadata": {
            "tags": []
          },
          "execution_count": 145
        }
      ]
    },
    {
      "cell_type": "code",
      "metadata": {
        "id": "Ol1gYFlCBQGV"
      },
      "source": [
        "lst.remove(5)"
      ],
      "execution_count": 147,
      "outputs": []
    },
    {
      "cell_type": "code",
      "metadata": {
        "colab": {
          "base_uri": "https://localhost:8080/"
        },
        "id": "k__mOFMOBWkz",
        "outputId": "0be77194-ac68-4b40-f4c2-451498799fc9"
      },
      "source": [
        "lst.pop()"
      ],
      "execution_count": 148,
      "outputs": [
        {
          "output_type": "execute_result",
          "data": {
            "text/plain": [
              "9"
            ]
          },
          "metadata": {
            "tags": []
          },
          "execution_count": 148
        }
      ]
    },
    {
      "cell_type": "code",
      "metadata": {
        "id": "Dey8y-y0BaxG"
      },
      "source": [
        "lst.insert(3,100)"
      ],
      "execution_count": 149,
      "outputs": []
    },
    {
      "cell_type": "code",
      "metadata": {
        "colab": {
          "base_uri": "https://localhost:8080/"
        },
        "id": "tu4TETgMBe6H",
        "outputId": "5611e33f-7787-4e8f-8497-dac9ef6e4e3a"
      },
      "source": [
        "lst"
      ],
      "execution_count": 150,
      "outputs": [
        {
          "output_type": "execute_result",
          "data": {
            "text/plain": [
              "[1, 2, 3, 100, 4, 6, 7, 8]"
            ]
          },
          "metadata": {
            "tags": []
          },
          "execution_count": 150
        }
      ]
    },
    {
      "cell_type": "code",
      "metadata": {
        "colab": {
          "base_uri": "https://localhost:8080/",
          "height": 162
        },
        "id": "-PZRj1m_ByHj",
        "outputId": "fd878ec0-4512-4c69-80b8-e340b8b30b20"
      },
      "source": [
        "t= tuple(lst) "
      ],
      "execution_count": 154,
      "outputs": [
        {
          "output_type": "error",
          "ename": "TypeError",
          "evalue": "ignored",
          "traceback": [
            "\u001b[0;31m---------------------------------------------------------------------------\u001b[0m",
            "\u001b[0;31mTypeError\u001b[0m                                 Traceback (most recent call last)",
            "\u001b[0;32m<ipython-input-154-5fc1675f6c9c>\u001b[0m in \u001b[0;36m<module>\u001b[0;34m()\u001b[0m\n\u001b[0;32m----> 1\u001b[0;31m \u001b[0mt\u001b[0m\u001b[0;34m=\u001b[0m \u001b[0mtuple\u001b[0m\u001b[0;34m(\u001b[0m\u001b[0mlst\u001b[0m\u001b[0;34m)\u001b[0m\u001b[0;34m\u001b[0m\u001b[0;34m\u001b[0m\u001b[0m\n\u001b[0m",
            "\u001b[0;31mTypeError\u001b[0m: 'str' object is not callable"
          ]
        }
      ]
    }
  ]
}
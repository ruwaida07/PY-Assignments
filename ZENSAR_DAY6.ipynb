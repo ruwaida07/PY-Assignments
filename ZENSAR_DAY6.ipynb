{
  "nbformat": 4,
  "nbformat_minor": 0,
  "metadata": {
    "colab": {
      "name": "ZENSAR DAY6.ipynb",
      "provenance": [],
      "collapsed_sections": []
    },
    "kernelspec": {
      "name": "python3",
      "display_name": "Python 3"
    }
  },
  "cells": [
    {
      "cell_type": "markdown",
      "metadata": {
        "id": "Rw_i5hCd6M36"
      },
      "source": [
        "**WAP to create a class and get two data members a and b and perform arithmetic calculation**"
      ]
    },
    {
      "cell_type": "code",
      "metadata": {
        "colab": {
          "base_uri": "https://localhost:8080/"
        },
        "id": "lvzCFCMjv6vS",
        "outputId": "59e4f771-3f6f-473f-dcb5-b3b985d895cb"
      },
      "source": [
        "class cal():\r\n",
        "    def __init__(self,a,b):\r\n",
        "        self.a=a\r\n",
        "        self.b=b\r\n",
        "    def add(self):\r\n",
        "        return self.a+self.b\r\n",
        "    def mul(self):\r\n",
        "        return self.a*self.b\r\n",
        "    def div(self):\r\n",
        "        return self.a/self.b\r\n",
        "    def sub(self):\r\n",
        "        return self.a-self.b\r\n",
        "a=int(input(\"Enter first num: \"))\r\n",
        "b=int(input(\"Enter second num: \"))\r\n",
        "obj=cal(a,b)\r\n",
        "\r\n",
        "print(\"Addition is:\",obj.add())\r\n",
        "print(\"Subtarction is:\",obj.sub())\r\n",
        "print(\"Multiplication is:\",obj.mul())\r\n",
        "print(\"Division is:\",round(obj.div(),2))\r\n",
        "\r\n",
        "\r\n"
      ],
      "execution_count": 9,
      "outputs": [
        {
          "output_type": "stream",
          "text": [
            "Enter first num: 5\n",
            "Enter second num: 2\n",
            "Addition is: 7\n",
            "Subtarction is: 3\n",
            "Multiplication is: 10\n",
            "Division is: 2.5\n"
          ],
          "name": "stdout"
        }
      ]
    },
    {
      "cell_type": "markdown",
      "metadata": {
        "id": "ThuabvTs743p"
      },
      "source": [
        "**WAP for student information such as name address phone stream adm year**"
      ]
    },
    {
      "cell_type": "code",
      "metadata": {
        "colab": {
          "base_uri": "https://localhost:8080/"
        },
        "id": "ryzpS-OG5Vwh",
        "outputId": "b8007b69-a9ea-4705-a8f8-5e50f0d14d19"
      },
      "source": [
        "class Stud:\r\n",
        "    def getData(self, name, add, phone, stream ,year):\r\n",
        "        Stud.name = name\r\n",
        "        Stud.add = add\r\n",
        "        Stud.phone = phone\r\n",
        "        Stud.stream = stream\r\n",
        "        Stud.year = year\r\n",
        "\r\n",
        "        \r\n",
        "    def displayData(self):\r\n",
        "        print(\"Name is:\", Stud.name)\r\n",
        "        print(\"Address is:\", Stud.add)\r\n",
        "        print(\"Phone no is:\", Stud.phone)\r\n",
        "        print(\"Stream is:\", Stud.stream)\r\n",
        "        print(\"Admission year is:\", Stud.year)\r\n",
        "\r\n",
        "    \r\n",
        "    \r\n",
        "name = input(\"Enter the name: \")\r\n",
        "add = input(\"Enter the address: \")\r\n",
        "ph = int (input(\"Enter the phone no: \"))\r\n",
        "s = input(\"Enter the stream: \")\r\n",
        "ay = int(input(\"Enter the admission year: \"))\r\n",
        "\r\n",
        "s1 = Stud()\r\n",
        "s1.getData(name, add, ph, s, ay)\r\n",
        "s1.displayData()"
      ],
      "execution_count": 25,
      "outputs": [
        {
          "output_type": "stream",
          "text": [
            "Enter the name: Ruwaida\n",
            "Enter the address: Kondhwa\n",
            "Enter the phone no: 9876564326\n",
            "Enter the stream: COMP\n",
            "Enter the admission year: 2020\n",
            "Name is: Ruwaida\n",
            "Address is: Kondhwa\n",
            "Phone no is: 9876564326\n",
            "Stream is: COMP\n",
            "Admission year is: 2020\n"
          ],
          "name": "stdout"
        }
      ]
    },
    {
      "cell_type": "code",
      "metadata": {
        "id": "gCBEHKvOGaHf"
      },
      "source": [
        "class info:\r\n",
        "    def _init_(self, a, b, c, d, e):\r\n",
        "        self._name = a\r\n",
        "        self._address = b\r\n",
        "        self._phone = c\r\n",
        "        self._stream = d\r\n",
        "        self._admyr = e\r\n",
        "\r\n",
        "    def get_name(self):\r\n",
        "        return self._name\r\n",
        "\r\n",
        "    def get_address(self):\r\n",
        "        return self._address\r\n",
        "\r\n",
        "    def get_phone(self):\r\n",
        "        return self._phone\r\n",
        "\r\n",
        "    def get_stream(self):\r\n",
        "        return self._stream\r\n",
        "\r\n",
        "    def get_admyr(self):\r\n",
        "        return self._admyr\r\n",
        "\r\n",
        "    def set_name(self, x):\r\n",
        "        self._name = x\r\n",
        "\r\n",
        "    def set_address(self, x):\r\n",
        "        self._address = x\r\n",
        "\r\n",
        "    def set_phone(self, x):\r\n",
        "        self._phone = x\r\n",
        "\r\n",
        "    def set_stream(self, x):\r\n",
        "        self._stream = x\r\n",
        "\r\n",
        "    def set_admyr(self, x):\r\n",
        "        self._admyr = x\r\n",
        "\r\n",
        "    def _str_(self):\r\n",
        "         return \"Name:\"+self.get_name()+ \"\\nAddress: \" +self.get_address()+\"\\nPhone: \"+self.get_phone()+\" \\nStream: \"+self.get_stream()+\"\\nAdmission Year :\"+self.get_admyr()\r\n",
        "\r\n",
        "obj = info(1, 2, 3, 4, 5)\r\n",
        "obj.set_name(input(\"enter name: \"))\r\n",
        "obj.set_address(input(\"enter address: \"))\r\n",
        "obj.set_p\r\n",
        "\r\n",
        "\r\n",
        "obj.set_phone(input(\"enter phone: \"))\r\n",
        "obj.set_address(input(\"enter address: \"))\r\n",
        "obj.set_stream(input(\"enter stream: \"))\r\n",
        "obj.set_admyr(input(\"enter year: \"))"
      ],
      "execution_count": null,
      "outputs": []
    },
    {
      "cell_type": "markdown",
      "metadata": {
        "id": "3HBw2HTZE8Bx"
      },
      "source": [
        "**Class Attributes and Instance Attributes**"
      ]
    },
    {
      "cell_type": "code",
      "metadata": {
        "colab": {
          "base_uri": "https://localhost:8080/"
        },
        "id": "uDgezNPjE73q",
        "outputId": "e98b1780-87c7-4bcc-bbd4-8cae56e1fb74"
      },
      "source": [
        "class MyClass:\r\n",
        "  age=10\r\n",
        "  def __init__(self):\r\n",
        "    self.a=0\r\n",
        "\r\n",
        "\r\n",
        "my=MyClass()             #instance variable\r\n",
        "my1=MyClass()\r\n",
        "\r\n",
        "\r\n",
        "MyClass.age=12\r\n",
        "my.a=12\r\n",
        "\r\n",
        "MyClass.age=14\r\n",
        "my1.a=14\r\n",
        "\r\n",
        "\r\n",
        "print(my.age)\r\n",
        "print(my.a)\r\n",
        "print(my1.age)\r\n",
        "print(my1.a)"
      ],
      "execution_count": 41,
      "outputs": [
        {
          "output_type": "stream",
          "text": [
            "14\n",
            "12\n",
            "14\n",
            "14\n"
          ],
          "name": "stdout"
        }
      ]
    },
    {
      "cell_type": "code",
      "metadata": {
        "colab": {
          "base_uri": "https://localhost:8080/"
        },
        "id": "LmlsrmGHILSH",
        "outputId": "58c9d134-de55-4a49-faa5-86871945c49a"
      },
      "source": [
        "print(MyClass.__dict__)"
      ],
      "execution_count": 42,
      "outputs": [
        {
          "output_type": "stream",
          "text": [
            "{'__module__': '__main__', 'age': 14, '__init__': <function MyClass.__init__ at 0x7fdf670ff598>, '__dict__': <attribute '__dict__' of 'MyClass' objects>, '__weakref__': <attribute '__weakref__' of 'MyClass' objects>, '__doc__': None}\n"
          ],
          "name": "stdout"
        }
      ]
    },
    {
      "cell_type": "code",
      "metadata": {
        "id": "bWujryxAGzdO"
      },
      "source": [
        "class MyClass:\r\n",
        "  age=21"
      ],
      "execution_count": 33,
      "outputs": []
    },
    {
      "cell_type": "code",
      "metadata": {
        "colab": {
          "base_uri": "https://localhost:8080/"
        },
        "id": "c-wnhHylG5e0",
        "outputId": "fcdd2e5e-dcde-4c3b-9e96-0a40614db30b"
      },
      "source": [
        "#class attributes\r\n",
        "\r\n",
        "x = MyClass()   \r\n",
        "MyClass.age"
      ],
      "execution_count": 34,
      "outputs": [
        {
          "output_type": "execute_result",
          "data": {
            "text/plain": [
              "21"
            ]
          },
          "metadata": {
            "tags": []
          },
          "execution_count": 34
        }
      ]
    },
    {
      "cell_type": "code",
      "metadata": {
        "colab": {
          "base_uri": "https://localhost:8080/"
        },
        "id": "lsQmIjxBG9zb",
        "outputId": "a0081e0d-dcc4-4a85-fb16-197bb8ced07d"
      },
      "source": [
        "#instance attributes\r\n",
        "\r\n",
        "x = MyClass()\r\n",
        "print(x.age)"
      ],
      "execution_count": 35,
      "outputs": [
        {
          "output_type": "stream",
          "text": [
            "21\n"
          ],
          "name": "stdout"
        }
      ]
    },
    {
      "cell_type": "code",
      "metadata": {
        "id": "6sB8vwBfHC_I"
      },
      "source": [
        "MyClass.age=32"
      ],
      "execution_count": 36,
      "outputs": []
    },
    {
      "cell_type": "code",
      "metadata": {
        "colab": {
          "base_uri": "https://localhost:8080/"
        },
        "id": "ckVvynp7HG69",
        "outputId": "a47ae27b-c892-42ce-ff47-795f62dc96b9"
      },
      "source": [
        "print(x.age)"
      ],
      "execution_count": 37,
      "outputs": [
        {
          "output_type": "stream",
          "text": [
            "32\n"
          ],
          "name": "stdout"
        }
      ]
    },
    {
      "cell_type": "markdown",
      "metadata": {
        "id": "GamCfLQ6Hxjy"
      },
      "source": [
        "**Example for class info using some methods kind of reflection**"
      ]
    },
    {
      "cell_type": "code",
      "metadata": {
        "id": "cqkDVq79Hwl0"
      },
      "source": [
        "class collors:\r\n",
        "\r\n",
        "  'This is a simple class called collors..'\r\n",
        "  a='Hii'\r\n",
        "  b=123\r\n",
        "  def __init__(self):\r\n",
        "    self.a=0\r\n",
        "    self.b=0"
      ],
      "execution_count": 43,
      "outputs": []
    },
    {
      "cell_type": "code",
      "metadata": {
        "colab": {
          "base_uri": "https://localhost:8080/"
        },
        "id": "MVpxMKZoI82a",
        "outputId": "6d8269e9-a0f4-43c3-be8a-ed6b87029d40"
      },
      "source": [
        "print(collors.__dict__)"
      ],
      "execution_count": 44,
      "outputs": [
        {
          "output_type": "stream",
          "text": [
            "{'__module__': '__main__', '__doc__': 'This is a simple class called collors..', 'a': 'Hii', 'b': 123, '__init__': <function collors.__init__ at 0x7fdf670ffae8>, '__dict__': <attribute '__dict__' of 'collors' objects>, '__weakref__': <attribute '__weakref__' of 'collors' objects>}\n"
          ],
          "name": "stdout"
        }
      ]
    },
    {
      "cell_type": "code",
      "metadata": {
        "colab": {
          "base_uri": "https://localhost:8080/"
        },
        "id": "GM6TXplQJEcY",
        "outputId": "4e5ad71a-a12a-4ea5-f351-4d4c52f38533"
      },
      "source": [
        "print(collors.__dict__['__doc__'])"
      ],
      "execution_count": 45,
      "outputs": [
        {
          "output_type": "stream",
          "text": [
            "This is a simple class called collors..\n"
          ],
          "name": "stdout"
        }
      ]
    },
    {
      "cell_type": "code",
      "metadata": {
        "colab": {
          "base_uri": "https://localhost:8080/"
        },
        "id": "tVOP38__JNTA",
        "outputId": "8646a086-ae03-4a76-c234-b169988d74ef"
      },
      "source": [
        "class abc:\r\n",
        "\r\n",
        "  'This is a sample class called abc'\r\n",
        "\r\n",
        "  abcCount=0\r\n",
        "  def __init__(self,red,yellow):\r\n",
        "    self.red= Apple\r\n",
        "    self.yellow= lemon\r\n",
        "    abcCount+=1\r\n",
        "    def displayCount(self):\r\n",
        "      print(\"Total abcCount %d\" %abc.abcCount)\r\n",
        "    def displayFruit(self):\r\n",
        "      print(\"Red:\",self,red,\"Yellow:\",self.yellow)\r\n",
        "\r\n",
        "print(\"abc.__doc__:\",abc.__doc__)\r\n",
        "print(\"abc.__name__:\",abc.__name__)\r\n",
        "print(\"abc.__module__:\",abc.__module__)\r\n",
        "print(\"abc.__bases__:\",abc.__bases__)\r\n",
        "print(\"abc.__dict__:\",abc.__dict__)"
      ],
      "execution_count": 46,
      "outputs": [
        {
          "output_type": "stream",
          "text": [
            "abc.__doc__: This is a sample class called abc\n",
            "abc.__name__: abc\n",
            "abc.__module__: __main__\n",
            "abc.__bases__: (<class 'object'>,)\n",
            "abc.__dict__: {'__module__': '__main__', '__doc__': 'This is a sample class called abc', 'abcCount': 0, '__init__': <function abc.__init__ at 0x7fdf670a8d08>, '__dict__': <attribute '__dict__' of 'abc' objects>, '__weakref__': <attribute '__weakref__' of 'abc' objects>}\n"
          ],
          "name": "stdout"
        }
      ]
    },
    {
      "cell_type": "markdown",
      "metadata": {
        "id": "7GXR7MopMMUF"
      },
      "source": [
        "**WAP to perform Linear Search using class**"
      ]
    },
    {
      "cell_type": "code",
      "metadata": {
        "colab": {
          "base_uri": "https://localhost:8080/"
        },
        "id": "gMd-i3J7MMbw",
        "outputId": "5bdcdb04-254a-49fb-8881-cc6b37ccc457"
      },
      "source": [
        "class linear:\r\n",
        "    def __init__(self, arr, x):\r\n",
        "        self.lst = arr\r\n",
        "        self.x = x\r\n",
        "   \r\n",
        "arr = [1,2,3,5,6,21,67,11]\r\n",
        "print(\"Elements in the list is\", arr)\r\n",
        " \r\n",
        "x = int(input(\"Enter item to be search:\"))\r\n",
        "\r\n",
        "i=flag=0\r\n",
        "\r\n",
        "while i < len(arr):\r\n",
        "\tif arr[i] == x:\r\n",
        "\t\tflag = 1\r\n",
        "\t\tbreak\r\n",
        " \r\n",
        "\ti = i + 1\r\n",
        " \r\n",
        "if flag == 1:\r\n",
        "\tprint(\"Element found at position:\", i + 1)\r\n",
        "else:\r\n",
        "\tprint(\"Element not found\",-1)"
      ],
      "execution_count": 60,
      "outputs": [
        {
          "output_type": "stream",
          "text": [
            "Elements in the list is [1, 2, 3, 5, 6, 21, 67, 11]\n",
            "Enter item to be search:5\n",
            "Element found at position: 4\n"
          ],
          "name": "stdout"
        }
      ]
    },
    {
      "cell_type": "markdown",
      "metadata": {
        "id": "bu1iNCdecTYb"
      },
      "source": [
        "**WAP to implement stack operation**"
      ]
    },
    {
      "cell_type": "code",
      "metadata": {
        "colab": {
          "base_uri": "https://localhost:8080/"
        },
        "id": "_JvkdnfVWZEp",
        "outputId": "b0f8d1cd-7131-4aeb-8dcf-ac0d6b2a721c"
      },
      "source": [
        "class Stack:\r\n",
        "     def __init__(self):\r\n",
        "         self.ele = []\r\n",
        "         self.top = -1\r\n",
        "\r\n",
        "     def display(self):\r\n",
        "         for x in self.ele:\r\n",
        "           print(x,end= ' ')\r\n",
        "         pass\r\n",
        "\r\n",
        "     def __str__():\r\n",
        "        return ' '.join(str(self.ele))\r\n",
        "\r\n",
        "     def push(self, item):\r\n",
        "         if self.top == 100:\r\n",
        "           print(\"Stack is overflow\")\r\n",
        "         else:\r\n",
        "           self.top = self.top+1\r\n",
        "           self.ele.append(item)\r\n",
        "\r\n",
        "     def pop(self):\r\n",
        "         if self.top == -1:\r\n",
        "           print(\"Stack is underflow\")\r\n",
        "         else:\r\n",
        "           x= self.ele[self.top]\r\n",
        "           self.ele.pop()\r\n",
        "           self.top=self.top-1\r\n",
        "           return x\r\n",
        "\r\n",
        "\r\n",
        "s= Stack()\r\n",
        "s.push(4)\r\n",
        "s.push(6)\r\n",
        "s.push(10)\r\n",
        "s.push(28)\r\n",
        "s.display()\r\n",
        "\r\n",
        "print('\\n')\r\n",
        "s.pop()\r\n",
        "s.display()"
      ],
      "execution_count": 88,
      "outputs": [
        {
          "output_type": "stream",
          "text": [
            "4 6 10 28 \n",
            "\n",
            "4 6 10 "
          ],
          "name": "stdout"
        }
      ]
    },
    {
      "cell_type": "markdown",
      "metadata": {
        "id": "ccsjP45IdXbT"
      },
      "source": [
        "**WAP to print patterns**"
      ]
    },
    {
      "cell_type": "code",
      "metadata": {
        "colab": {
          "base_uri": "https://localhost:8080/"
        },
        "id": "6BrN1OiOdXLO",
        "outputId": "fdd96f76-00ad-4e28-b04d-51c2a883a10a"
      },
      "source": [
        "rows = 5\r\n",
        "for row in range(1, rows+1):\r\n",
        "    for column in range(1, row + 1):\r\n",
        "        print(column, end=' ')\r\n",
        "    print(\"\")"
      ],
      "execution_count": 91,
      "outputs": [
        {
          "output_type": "stream",
          "text": [
            "1 \n",
            "1 2 \n",
            "1 2 3 \n",
            "1 2 3 4 \n",
            "1 2 3 4 5 \n"
          ],
          "name": "stdout"
        }
      ]
    },
    {
      "cell_type": "code",
      "metadata": {
        "colab": {
          "base_uri": "https://localhost:8080/"
        },
        "id": "MDdbemFDdxaH",
        "outputId": "f0ef637d-c5e4-42c1-cd84-5d2af6ff9fe0"
      },
      "source": [
        "n = int(input(\"Enter the number of rows: \"))  \r\n",
        "m = (2 * n) - 2  \r\n",
        "for i in range(0, n):  \r\n",
        "    for j in range(0, m):  \r\n",
        "        print(end=\" \")  \r\n",
        "    m = m - 1   \r\n",
        "    for j in range(0, i + 1):  \r\n",
        "        print(\"* \", end=' ')  \r\n",
        "    print(\" \")  "
      ],
      "execution_count": 94,
      "outputs": [
        {
          "output_type": "stream",
          "text": [
            "Enter the number of rows: 6\n",
            "          *   \n",
            "         *  *   \n",
            "        *  *  *   \n",
            "       *  *  *  *   \n",
            "      *  *  *  *  *   \n",
            "     *  *  *  *  *  *   \n"
          ],
          "name": "stdout"
        }
      ]
    },
    {
      "cell_type": "code",
      "metadata": {
        "colab": {
          "base_uri": "https://localhost:8080/"
        },
        "id": "fQjibMYgegAO",
        "outputId": "28fb151d-62a6-4587-8a41-922f832d6c04"
      },
      "source": [
        "def triangle(n):\r\n",
        "\tk = n - 1\r\n",
        "\tfor i in range(0, n):\r\n",
        "\t\r\n",
        "\t\tfor j in range(0, k):\r\n",
        "\t\t\tprint(end=\" \")\r\n",
        "\t\r\n",
        "\t\tk = k - 1\r\n",
        "\t\r\n",
        "\t\tfor j in range(0, i+1):\r\n",
        "\t\t\r\n",
        "\t\t\tprint(\"* \", end=\"\")\r\n",
        "\t\r\n",
        "\t\tprint(\"\\r\")\r\n",
        "\r\n",
        "n = 8\r\n",
        "triangle(n)\r\n",
        "\r\n"
      ],
      "execution_count": 96,
      "outputs": [
        {
          "output_type": "stream",
          "text": [
            "       * \r\n",
            "      * * \r\n",
            "     * * * \r\n",
            "    * * * * \r\n",
            "   * * * * * \r\n",
            "  * * * * * * \r\n",
            " * * * * * * * \r\n",
            "* * * * * * * * \r\n"
          ],
          "name": "stdout"
        }
      ]
    },
    {
      "cell_type": "markdown",
      "metadata": {
        "id": "Hg6qUl7XewLU"
      },
      "source": [
        "**Counting the no of objects created**"
      ]
    },
    {
      "cell_type": "code",
      "metadata": {
        "colab": {
          "base_uri": "https://localhost:8080/"
        },
        "id": "Cbsl4aa_e7uM",
        "outputId": "66626b45-184a-4c5c-8a13-4759dcc3ab19"
      },
      "source": [
        "class InstanceCounter(object):\r\n",
        "  count = 0\r\n",
        "\r\n",
        "  def __init__(self, val):\r\n",
        "    self.val=val\r\n",
        "    InstanceCounter.count+=1\r\n",
        "\r\n",
        "  def set_val(self, newval):\r\n",
        "    self.val=newval\r\n",
        "\r\n",
        "  def get_val(self):\r\n",
        "    return self.val\r\n",
        "\r\n",
        "  def get_count(self):\r\n",
        "    return InstanceCounter.get_count\r\n",
        "\r\n",
        "\r\n",
        "a = InstanceCounter(7)\r\n",
        "b = InstanceCounter(4)\r\n",
        "c = InstanceCounter(5)\r\n",
        "\r\n",
        "for obj in (a,b,c):\r\n",
        "  print(\"Val of obj: %s\" %(obj.get_val()))\r\n",
        "\r\n"
      ],
      "execution_count": 134,
      "outputs": [
        {
          "output_type": "stream",
          "text": [
            "Val of obj: 7\n",
            "Val of obj: 4\n",
            "Val of obj: 5\n"
          ],
          "name": "stdout"
        }
      ]
    },
    {
      "cell_type": "markdown",
      "metadata": {
        "id": "b6Ov9R9Og3tB"
      },
      "source": [
        "**Method Overloading**"
      ]
    },
    {
      "cell_type": "code",
      "metadata": {
        "colab": {
          "base_uri": "https://localhost:8080/"
        },
        "id": "GxEoefaFgt4J",
        "outputId": "04bff599-2e1b-4a2c-d677-fcd4d2a5d342"
      },
      "source": [
        "class Human:\r\n",
        "\r\n",
        "  def sayHello(self, name=None,x=12):\r\n",
        "\r\n",
        "    if name is not None:\r\n",
        "      print(\"Hello \"+ name)\r\n",
        "\r\n",
        "    else:\r\n",
        "\r\n",
        "      print(\"Hello\")\r\n",
        "\r\n",
        "obj = Human()\r\n",
        "\r\n",
        "obj.sayHello()\r\n",
        "\r\n",
        "obj.sayHello(\"Rahul\")\r\n",
        "obj.sayHello(\"Raj\")\r\n"
      ],
      "execution_count": 137,
      "outputs": [
        {
          "output_type": "stream",
          "text": [
            "Hello\n",
            "Hello Rahul\n",
            "Hello Raj\n"
          ],
          "name": "stdout"
        }
      ]
    },
    {
      "cell_type": "markdown",
      "metadata": {
        "id": "J640TVkrhKw_"
      },
      "source": [
        "**Default arguments (fun/obj)**"
      ]
    },
    {
      "cell_type": "code",
      "metadata": {
        "id": "kcn3lZ8yhQLH"
      },
      "source": [
        "#every fun in a python is an object\r\n",
        "\r\n",
        "def my_func():\r\n",
        "  print(\"My function is called\")\r\n",
        "  my_func.description = \"A silly function\"\r\n",
        "\r\n",
        "\r\n",
        "def my_func1():\r\n",
        "  print(\"My second function is called\")\r\n",
        "  my_func1.description = \"One more silly function\"\r\n",
        "\r\n"
      ],
      "execution_count": 114,
      "outputs": []
    },
    {
      "cell_type": "code",
      "metadata": {
        "colab": {
          "base_uri": "https://localhost:8080/"
        },
        "id": "xnDeK5tyihEG",
        "outputId": "e6c51183-c056-48f1-bfe6-845644d00674"
      },
      "source": [
        "my_func()"
      ],
      "execution_count": 105,
      "outputs": [
        {
          "output_type": "stream",
          "text": [
            "My function is called\n"
          ],
          "name": "stdout"
        }
      ]
    },
    {
      "cell_type": "code",
      "metadata": {
        "colab": {
          "base_uri": "https://localhost:8080/"
        },
        "id": "YetS3ZpzikMd",
        "outputId": "d5f24aa5-b18a-4475-f64d-1eff6f6c4a8c"
      },
      "source": [
        "my_func1()"
      ],
      "execution_count": 108,
      "outputs": [
        {
          "output_type": "stream",
          "text": [
            "My second function is called\n"
          ],
          "name": "stdout"
        }
      ]
    },
    {
      "cell_type": "code",
      "metadata": {
        "colab": {
          "base_uri": "https://localhost:8080/"
        },
        "id": "yNQY7hLQinP2",
        "outputId": "c3bc8dde-2f9c-4035-c50a-dfd2708356eb"
      },
      "source": [
        "print(my_func1.__dict__)"
      ],
      "execution_count": 113,
      "outputs": [
        {
          "output_type": "stream",
          "text": [
            "{'description': 'One more silly function'}\n"
          ],
          "name": "stdout"
        }
      ]
    },
    {
      "cell_type": "markdown",
      "metadata": {
        "id": "wS61orQ0jz3v"
      },
      "source": [
        "**Inheritance and Polymorphism**"
      ]
    },
    {
      "cell_type": "code",
      "metadata": {
        "id": "0jSd7btbj4RL"
      },
      "source": [
        "#syntax\r\n",
        "\r\n",
        "#class <class name> (list of base class separared by comma):\r\n",
        "\r\n"
      ],
      "execution_count": 119,
      "outputs": []
    },
    {
      "cell_type": "code",
      "metadata": {
        "colab": {
          "base_uri": "https://localhost:8080/"
        },
        "id": "2MG27tYJkZR0",
        "outputId": "963897d1-275d-4f74-ac05-334387f5b78b"
      },
      "source": [
        "class Date:\r\n",
        "    def get_date(self):\r\n",
        "        return '2021-02-01'\r\n",
        "\r\n",
        "class Time(Date):\r\n",
        "    def get_time(self):\r\n",
        "        return '09:09:00'\r\n",
        "\r\n",
        "dt=Date()\r\n",
        "\r\n",
        "\r\n",
        "print(\"get date from the Date class\",dt.get_date())"
      ],
      "execution_count": 123,
      "outputs": [
        {
          "output_type": "stream",
          "text": [
            "get date from the Date class 2021-02-01\n"
          ],
          "name": "stdout"
        }
      ]
    },
    {
      "cell_type": "code",
      "metadata": {
        "colab": {
          "base_uri": "https://localhost:8080/"
        },
        "id": "ifavVMkfk5el",
        "outputId": "baac0e43-46e0-4f16-fbe6-85562555e363"
      },
      "source": [
        "tm=Time()\r\n",
        "\r\n",
        "print(tm.get_time())\r\n",
        "\r\n",
        "print(tm.get_date())"
      ],
      "execution_count": 125,
      "outputs": [
        {
          "output_type": "stream",
          "text": [
            "09:09:00\n",
            "2021-02-01\n"
          ],
          "name": "stdout"
        }
      ]
    },
    {
      "cell_type": "markdown",
      "metadata": {
        "id": "aoizq3B-pq9K"
      },
      "source": [
        "**Sequence the object searches for methods**\r\n",
        "\r\n",
        "\r\n",
        "1.   The instance\r\n",
        "2.   The class\r\n",
        "3.   Any class from which this class inherits\r\n",
        "\r\n",
        "\r\n",
        "\r\n"
      ]
    },
    {
      "cell_type": "code",
      "metadata": {
        "colab": {
          "base_uri": "https://localhost:8080/"
        },
        "id": "5UXp-KvimkS0",
        "outputId": "a80a38e1-c8a2-4b60-89b5-fdffeea4c03b"
      },
      "source": [
        "class Animal:\r\n",
        "    def __init__(self,name):\r\n",
        "        self.name= name\r\n",
        "\r\n",
        "    def eat(self,food):\r\n",
        "        print(\"%s eats the food %s\" % (self.name,food))\r\n",
        "\r\n",
        "\r\n",
        "\r\n",
        "class Dog(Animal):\r\n",
        "    def __init__(self, n):\r\n",
        "         super(Dog, self).__init__(n)\r\n",
        "\r\n",
        "    def sound(self):\r\n",
        "        print(\"%s barks/woof \" % self.name)\r\n",
        "\r\n",
        "class Cat(Animal):\r\n",
        "    def __init__(self,n):\r\n",
        "        super(Cat, self).__init__(n)\r\n",
        "        \r\n",
        "    def sound(self):\r\n",
        "        print(\"%s meows\" % self.name)\r\n",
        "\r\n",
        "\r\n",
        "cat=Cat('Ruby')\r\n",
        "cat.sound()\r\n",
        "\r\n",
        "cat.eat('bread')  # inherited from base class\r\n",
        "\r\n",
        "dog=Dog('Bruno')\r\n",
        "dog.sound()\r\n",
        "dog.eat('Animal food')  # inherited from base class"
      ],
      "execution_count": 133,
      "outputs": [
        {
          "output_type": "stream",
          "text": [
            "Ruby meows\n",
            "Ruby eats the food bread\n",
            "Bruno barks/woof \n",
            "Bruno eats the food Animal food\n"
          ],
          "name": "stdout"
        }
      ]
    },
    {
      "cell_type": "markdown",
      "metadata": {
        "id": "coJjMYJQm5-P"
      },
      "source": [
        "**Multiple Inheritance**"
      ]
    },
    {
      "cell_type": "code",
      "metadata": {
        "colab": {
          "base_uri": "https://localhost:8080/"
        },
        "id": "VpyD2HORm-Aa",
        "outputId": "870eb97c-7f7d-4f28-8c98-4c5d7b07c4dc"
      },
      "source": [
        "class A(object):\r\n",
        "    def dothis(self):\r\n",
        "      print('Doing in A')\r\n",
        "\r\n",
        "class B(A):\r\n",
        "    pass\r\n",
        "\r\n",
        "class C(object):\r\n",
        "    def dothis(self):\r\n",
        "      print('Do this in C')\r\n",
        "\r\n",
        "class D(B,C):\r\n",
        "    pass\r\n",
        "\r\n",
        "d_instance = D()\r\n",
        "d_instance.dothis()\r\n",
        "\r\n",
        "print(D.mro())   #method resolution order"
      ],
      "execution_count": 129,
      "outputs": [
        {
          "output_type": "stream",
          "text": [
            "Doing in A\n",
            "[<class '__main__.D'>, <class '__main__.B'>, <class '__main__.A'>, <class '__main__.C'>, <class 'object'>]\n"
          ],
          "name": "stdout"
        }
      ]
    }
  ]
}
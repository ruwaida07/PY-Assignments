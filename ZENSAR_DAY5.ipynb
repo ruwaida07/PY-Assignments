{
  "nbformat": 4,
  "nbformat_minor": 0,
  "metadata": {
    "colab": {
      "name": "ZENSAR DAY5.ipynb",
      "provenance": []
    },
    "kernelspec": {
      "name": "python3",
      "display_name": "Python 3"
    }
  },
  "cells": [
    {
      "cell_type": "markdown",
      "metadata": {
        "id": "5lOdS9k7qj4w"
      },
      "source": [
        "**Functions**"
      ]
    },
    {
      "cell_type": "code",
      "metadata": {
        "id": "t9QL7VFypE0X"
      },
      "source": [
        "#syntax\r\n",
        "#def <fun name> (<list of arguments>):\r\n",
        "#<statement>"
      ],
      "execution_count": null,
      "outputs": []
    },
    {
      "cell_type": "code",
      "metadata": {
        "id": "m2u30oypsRIR"
      },
      "source": [
        "#eg:\r\n",
        "\r\n",
        "def display():     #fun definition\r\n",
        "  print(\"=\"*44)\r\n",
        "  print(\"Trinity College of Engineering and Research\")\r\n",
        "  print(\"=\"*44);"
      ],
      "execution_count": 9,
      "outputs": []
    },
    {
      "cell_type": "code",
      "metadata": {
        "colab": {
          "base_uri": "https://localhost:8080/"
        },
        "id": "KbU82mAps0Oq",
        "outputId": "6abe0183-1235-43c9-d026-4473d956024f"
      },
      "source": [
        "display()    #fun call"
      ],
      "execution_count": 10,
      "outputs": [
        {
          "output_type": "stream",
          "text": [
            "============================================\n",
            "Trinity College of Engineering and Research\n",
            "============================================\n"
          ],
          "name": "stdout"
        }
      ]
    },
    {
      "cell_type": "code",
      "metadata": {
        "colab": {
          "base_uri": "https://localhost:8080/"
        },
        "id": "DTqTsx28tvEM",
        "outputId": "ceadf2ff-51d8-46de-c970-e8b918845f7f"
      },
      "source": [
        "#fun for adding two elements\r\n",
        "\r\n",
        "def add( x , y):\r\n",
        "  return x + y\r\n",
        "\r\n",
        "a=5\r\n",
        "b=3\r\n",
        "result = add( a , b)\r\n",
        "print(result)"
      ],
      "execution_count": 26,
      "outputs": [
        {
          "output_type": "stream",
          "text": [
            "8\n"
          ],
          "name": "stdout"
        }
      ]
    },
    {
      "cell_type": "markdown",
      "metadata": {
        "id": "rrRtHf3wyDDu"
      },
      "source": [
        "**Default arguments**"
      ]
    },
    {
      "cell_type": "code",
      "metadata": {
        "colab": {
          "base_uri": "https://localhost:8080/"
        },
        "id": "EJLuDrYBt02q",
        "outputId": "bbe3d439-9242-4413-800e-8edf31c9d634"
      },
      "source": [
        "#fun for default arguments\r\n",
        "\r\n",
        "def add( x , y=2):\r\n",
        "  return x + y\r\n",
        "\r\n",
        "a=5\r\n",
        "b=3\r\n",
        "result = add( a )\r\n",
        "print(result)"
      ],
      "execution_count": 27,
      "outputs": [
        {
          "output_type": "stream",
          "text": [
            "7\n"
          ],
          "name": "stdout"
        }
      ]
    },
    {
      "cell_type": "code",
      "metadata": {
        "colab": {
          "base_uri": "https://localhost:8080/"
        },
        "id": "UJv3vzEtwQYI",
        "outputId": "f8b2b9c6-c127-4d3e-d683-1514d8800c29"
      },
      "source": [
        "def add( x , y=2, z=10):  \r\n",
        "  return x + y + z\r\n",
        "\r\n",
        "a=5\r\n",
        "b=3\r\n",
        "result = add(x, 7, 8 )\r\n",
        "print(result)"
      ],
      "execution_count": 28,
      "outputs": [
        {
          "output_type": "stream",
          "text": [
            "20\n"
          ],
          "name": "stdout"
        }
      ]
    },
    {
      "cell_type": "code",
      "metadata": {
        "colab": {
          "base_uri": "https://localhost:8080/"
        },
        "id": "RJucaRt0w9xn",
        "outputId": "c5cfe04c-c298-403c-de4a-bee75d2cd48d"
      },
      "source": [
        "def add( x , y=2, z=10, a=9):  #right to left if right most variable not given values\r\n",
        "  return x + y + z\r\n",
        "\r\n",
        "a=5\r\n",
        "b=3\r\n",
        "#result = add()\r\n",
        "result = add(x)\r\n",
        "result = add(x,y)\r\n",
        "result = add(x,y,23)\r\n",
        "result = add(x,y,10,20)\r\n",
        "print(result)"
      ],
      "execution_count": 34,
      "outputs": [
        {
          "output_type": "stream",
          "text": [
            "18\n"
          ],
          "name": "stdout"
        }
      ]
    },
    {
      "cell_type": "markdown",
      "metadata": {
        "id": "4MxFKjHSx8kh"
      },
      "source": [
        "**Keyword Arguments**"
      ]
    },
    {
      "cell_type": "code",
      "metadata": {
        "colab": {
          "base_uri": "https://localhost:8080/"
        },
        "id": "QCqnj1e7yBfV",
        "outputId": "15eaee32-8714-4dfc-a81b-b0b6b8c6cd54"
      },
      "source": [
        "#last arguments can be given as keywords\r\n",
        "\r\n",
        "def parrot(voltage, state='a stiff', action='voom', type='Norwegian blue'):\r\n",
        "  print(\"-- This parrot wouldn't\", action)\r\n",
        "  print(\"If you put\", voltage, \"Volts through it.\")\r\n",
        "  print(\"Lovely plumage, the \", type)\r\n",
        "  print(\"-- It's\", state, \"!\")\r\n",
        "\r\n",
        "parrot(1000)\r\n",
        "parrot(action=\"VOOOM\",voltage=100000)"
      ],
      "execution_count": 135,
      "outputs": [
        {
          "output_type": "stream",
          "text": [
            "-- This parrot wouldn't voom\n",
            "If you put 1000 Volts through it.\n",
            "Lovely plumage, the  Norwegian blue\n",
            "-- It's a stiff !\n",
            "-- This parrot wouldn't VOOOM\n",
            "If you put 100000 Volts through it.\n",
            "Lovely plumage, the  Norwegian blue\n",
            "-- It's a stiff !\n"
          ],
          "name": "stdout"
        }
      ]
    },
    {
      "cell_type": "markdown",
      "metadata": {
        "id": "QoeDxKDHzYtT"
      },
      "source": [
        "**Lambda Forms**"
      ]
    },
    {
      "cell_type": "code",
      "metadata": {
        "id": "W5zK-GMhzb_q"
      },
      "source": [
        "def make_increment(n):\r\n",
        "  return lambda x: x + n\r\n",
        "  f = make_increment(42)\r\n",
        "  f(0)\r\n",
        "  f(1)"
      ],
      "execution_count": 35,
      "outputs": []
    },
    {
      "cell_type": "markdown",
      "metadata": {
        "id": "7zUhGV9E0c1a"
      },
      "source": [
        "**WAP to perform arithmrntic operations using function**"
      ]
    },
    {
      "cell_type": "code",
      "metadata": {
        "colab": {
          "base_uri": "https://localhost:8080/"
        },
        "id": "OXfx034H0dC2",
        "outputId": "ea0dda2f-aee2-49fc-a37e-9756c7d17195"
      },
      "source": [
        "def add(a,b):\r\n",
        "   sum = a + b\r\n",
        "   return sum\r\n",
        "num1 = 5\r\n",
        "num2 = 3\r\n",
        "addition = add(a,b)\r\n",
        "print(addition)\r\n",
        "\r\n",
        "def sub(a,b):\r\n",
        "   s = a - b\r\n",
        "   return s\r\n",
        "num1 = 5\r\n",
        "num2 = 3\r\n",
        "subt = sub(a,b)\r\n",
        "print(subt)\r\n",
        "\r\n",
        "def mul(a,b):\r\n",
        "   m = a * b\r\n",
        "   return m\r\n",
        "num1 = 5\r\n",
        "num2 = 3\r\n",
        "multiplication = mul(a,b)\r\n",
        "print(multiplication)\r\n",
        "\r\n",
        "def div(a,b):\r\n",
        "   d = a / b\r\n",
        "   return d\r\n",
        "num1 = 5\r\n",
        "num2 = 3\r\n",
        "division = div(a,b)\r\n",
        "print(division)"
      ],
      "execution_count": 42,
      "outputs": [
        {
          "output_type": "stream",
          "text": [
            "8\n",
            "2\n",
            "15\n",
            "1.6666666666666667\n"
          ],
          "name": "stdout"
        }
      ]
    },
    {
      "cell_type": "markdown",
      "metadata": {
        "id": "TR5tsvoL33DQ"
      },
      "source": [
        "**WAP to display list element by function**"
      ]
    },
    {
      "cell_type": "code",
      "metadata": {
        "colab": {
          "base_uri": "https://localhost:8080/"
        },
        "id": "-jRuY0m53DfH",
        "outputId": "f267d6d6-6f03-44a1-8a82-15caca869f87"
      },
      "source": [
        "def display_list(lst):\r\n",
        "  for i in lst:\r\n",
        "      print(i)\r\n",
        "pass\r\n",
        "lst=[1,2,3,4,5,6,7]\r\n",
        "display_list(lst)"
      ],
      "execution_count": 48,
      "outputs": [
        {
          "output_type": "stream",
          "text": [
            "1\n",
            "2\n",
            "3\n",
            "4\n",
            "5\n",
            "6\n",
            "7\n"
          ],
          "name": "stdout"
        }
      ]
    },
    {
      "cell_type": "markdown",
      "metadata": {
        "id": "A2GB-JhF5Nlt"
      },
      "source": [
        "**WAP to form list of all odd numbers from other list using filter function**"
      ]
    },
    {
      "cell_type": "code",
      "metadata": {
        "colab": {
          "base_uri": "https://localhost:8080/"
        },
        "id": "UaFvVwuH36e_",
        "outputId": "be599080-4e29-45ea-cd97-4e9d711fe1f6"
      },
      "source": [
        "def odd_list(lst):\r\n",
        "  pass\r\n",
        "lis1 = [1,2,3,4,5] \r\n",
        "is_odd = lambda x: x % 2 != 0\r\n",
        "lis2 = list(filter(is_odd, lis1)) \r\n",
        "print(lis2) "
      ],
      "execution_count": 54,
      "outputs": [
        {
          "output_type": "stream",
          "text": [
            "[1, 3, 5]\n"
          ],
          "name": "stdout"
        }
      ]
    },
    {
      "cell_type": "markdown",
      "metadata": {
        "id": "77-eFbRm6xJs"
      },
      "source": [
        "**Variable**"
      ]
    },
    {
      "cell_type": "code",
      "metadata": {
        "id": "IoNSFXoM609T"
      },
      "source": [
        "x=10;\r\n",
        "def fun():\r\n",
        "  print(x)"
      ],
      "execution_count": 57,
      "outputs": []
    },
    {
      "cell_type": "code",
      "metadata": {
        "colab": {
          "base_uri": "https://localhost:8080/"
        },
        "id": "tiXxeAh_7JXw",
        "outputId": "643dc5b7-671a-4f80-915b-045b1654570c"
      },
      "source": [
        "fun()"
      ],
      "execution_count": 58,
      "outputs": [
        {
          "output_type": "stream",
          "text": [
            "10\n"
          ],
          "name": "stdout"
        }
      ]
    },
    {
      "cell_type": "code",
      "metadata": {
        "colab": {
          "base_uri": "https://localhost:8080/"
        },
        "id": "N-0LmnO57Ubi",
        "outputId": "a8a28e79-3426-4f6f-ce31-6fdaaa5453b2"
      },
      "source": [
        "x=10;\r\n",
        "def fun():\r\n",
        "  #print(x)\r\n",
        "  x=12\r\n",
        "  print(x);\r\n",
        "  def fun1():\r\n",
        "    print('Hello')\r\n",
        "  fun1();\r\n",
        "\r\n",
        "fun();\r\n",
        "print(x)"
      ],
      "execution_count": 67,
      "outputs": [
        {
          "output_type": "stream",
          "text": [
            "12\n",
            "Hello\n",
            "10\n"
          ],
          "name": "stdout"
        }
      ]
    },
    {
      "cell_type": "code",
      "metadata": {
        "colab": {
          "base_uri": "https://localhost:8080/"
        },
        "id": "9wnsoQsk-dEW",
        "outputId": "db6d45db-122a-4d0a-f8b8-594da519da6a"
      },
      "source": [
        "def outer():\r\n",
        "  x = \"local\"\r\n",
        "  def inner():\r\n",
        "    nonlocal x\r\n",
        "    x = \"nonlocal\"\r\n",
        "    print(x)\r\n",
        "  print(\"inner:\",x)\r\n",
        "  inner()\r\n",
        " \r\n",
        "print(\"outer:\",x)\r\n",
        "outer()"
      ],
      "execution_count": 80,
      "outputs": [
        {
          "output_type": "stream",
          "text": [
            "outer: 10\n",
            "inner: local\n",
            "nonlocal\n"
          ],
          "name": "stdout"
        }
      ]
    },
    {
      "cell_type": "markdown",
      "metadata": {
        "id": "lNcHv323B4qH"
      },
      "source": [
        "**WAP to find factorial of a given number using recursion**"
      ]
    },
    {
      "cell_type": "code",
      "metadata": {
        "colab": {
          "base_uri": "https://localhost:8080/"
        },
        "id": "zO1mnEd5-7Xc",
        "outputId": "e2b73eb5-54c4-4c60-cc59-ff2a06153392"
      },
      "source": [
        "def recur_fact(n):\r\n",
        "   if n == 1:\r\n",
        "       return n\r\n",
        "   else:\r\n",
        "       return n*recur_fact(n-1)\r\n",
        "num = 5\r\n",
        "if num == 0:\r\n",
        "   print(\"The factorial of 0 is 1\")\r\n",
        "else:\r\n",
        "   print(\"The factorial of\", num, \"is\", recur_fact(num))"
      ],
      "execution_count": 82,
      "outputs": [
        {
          "output_type": "stream",
          "text": [
            "The factorial of 5 is 120\n"
          ],
          "name": "stdout"
        }
      ]
    },
    {
      "cell_type": "markdown",
      "metadata": {
        "id": "5ZbtruSUE9Km"
      },
      "source": [
        "**WAP to multiply two numbers using recursion**"
      ]
    },
    {
      "cell_type": "code",
      "metadata": {
        "colab": {
          "base_uri": "https://localhost:8080/"
        },
        "id": "_08sHwBfEs1Q",
        "outputId": "1c941f46-b411-42c2-a2da-2d8b22e26cd1"
      },
      "source": [
        "def mul( x , y ):  \r\n",
        "    if x < y: \r\n",
        "        return mul(y, x) \r\n",
        "    elif y != 0: \r\n",
        "        return (x + mul(x, y - 1)) \r\n",
        "    else: \r\n",
        "        return 0\r\n",
        "  \r\n",
        "x = 2\r\n",
        "y = 6\r\n",
        "print( mul(x, y)) \r\n",
        "  "
      ],
      "execution_count": 83,
      "outputs": [
        {
          "output_type": "stream",
          "text": [
            "12\n"
          ],
          "name": "stdout"
        }
      ]
    },
    {
      "cell_type": "markdown",
      "metadata": {
        "id": "tK5wNmyGHMVD"
      },
      "source": [
        "**WAP to print list element in reverse using recursion**"
      ]
    },
    {
      "cell_type": "code",
      "metadata": {
        "colab": {
          "base_uri": "https://localhost:8080/"
        },
        "id": "LzRAHhqBGPC9",
        "outputId": "707961a4-65e4-46ce-c180-0585bd9e02cf"
      },
      "source": [
        "def Reverse(lst):\r\n",
        "    if not lst: \r\n",
        "        return lst\r\n",
        "    return lst[-1:] + Reverse(lst[:-1])\r\n",
        "print(Reverse([1,2,3,4,5,6,7])) "
      ],
      "execution_count": 86,
      "outputs": [
        {
          "output_type": "stream",
          "text": [
            "[7, 6, 5, 4, 3, 2, 1]\n"
          ],
          "name": "stdout"
        }
      ]
    },
    {
      "cell_type": "markdown",
      "metadata": {
        "id": "PXvIT1KZJ5sV"
      },
      "source": [
        "**Classes/Objects**"
      ]
    },
    {
      "cell_type": "code",
      "metadata": {
        "colab": {
          "base_uri": "https://localhost:8080/"
        },
        "id": "nS8zbPjNJ-zt",
        "outputId": "d66b4eb0-6b3b-4eac-e649-cf79470238b4"
      },
      "source": [
        "#syntax\r\n",
        "\r\n",
        "#class <class name>\r\n",
        "#<statement-1>\r\n",
        "#.\r\n",
        "#.\r\n",
        "#.\r\n",
        "#<statement-N>\r\n",
        "\r\n",
        "class ABC:\r\n",
        "  def display(self):\r\n",
        "   print(\"Hello\") \r\n",
        " \r\n",
        "a=ABC()\r\n",
        "a.display();\r\n"
      ],
      "execution_count": 89,
      "outputs": [
        {
          "output_type": "stream",
          "text": [
            "Hello\n"
          ],
          "name": "stdout"
        }
      ]
    },
    {
      "cell_type": "markdown",
      "metadata": {
        "id": "AZX339McZqqU"
      },
      "source": [
        "**Classes with constructor**"
      ]
    },
    {
      "cell_type": "code",
      "metadata": {
        "colab": {
          "base_uri": "https://localhost:8080/"
        },
        "id": "u11antYUSyez",
        "outputId": "1a6edf14-29fa-4579-997c-4e2695a6b1ae"
      },
      "source": [
        "class ABC:\r\n",
        "  def __init__(self,n):   #constructor\r\n",
        "    self.x=n;             #data member \r\n",
        "    print(\"Constructor called\")\r\n",
        "    pass\r\n",
        "  def display(self):     #member fun\r\n",
        "   print(\"Hello\",self.x) \r\n",
        " \r\n",
        "a=ABC(5)\r\n",
        "a.display();"
      ],
      "execution_count": 93,
      "outputs": [
        {
          "output_type": "stream",
          "text": [
            "Constructor called\n",
            "Hello 5\n"
          ],
          "name": "stdout"
        }
      ]
    },
    {
      "cell_type": "markdown",
      "metadata": {
        "id": "cOmtOLTeXlPZ"
      },
      "source": [
        "**WAP to create a class student and display the details**"
      ]
    },
    {
      "cell_type": "code",
      "metadata": {
        "colab": {
          "base_uri": "https://localhost:8080/"
        },
        "id": "uHd3I3B_Tj1J",
        "outputId": "a3f3c435-a8a5-4145-9218-df40c7db8e0e"
      },
      "source": [
        "class Student:\r\n",
        "\tdef __init__(self, r, n, c):\r\n",
        "\t\tself.rollno = r\r\n",
        "\t\tself.name = n\r\n",
        "\t\tself.s_class = c\r\n",
        "\tdef display(self):\r\n",
        "\t\tprint(\"SName: \",self.name)\r\n",
        "\t\tprint(\" Roll Number: \",self.rollno)\r\n",
        "\t\tprint(\" Class: \",self.s_class)\r\n",
        "\r\n",
        "d = Student(67, 'Ruwaida', 'TY')\r\n",
        "d.display()\r\n",
        "\r\n"
      ],
      "execution_count": 124,
      "outputs": [
        {
          "output_type": "stream",
          "text": [
            "SName:  Ruwaida\n",
            " Roll Number:  67\n",
            " Class:  TY\n"
          ],
          "name": "stdout"
        }
      ]
    },
    {
      "cell_type": "code",
      "metadata": {
        "colab": {
          "base_uri": "https://localhost:8080/"
        },
        "id": "_KyMIKNOa_3h",
        "outputId": "18145ac7-662d-48fb-884a-b807e15473f8"
      },
      "source": [
        "class student:\r\n",
        "    def __init__(self , r , n , c):\r\n",
        "            self.rollno = r;\r\n",
        "            self.name = n;\r\n",
        "            self.sclass = c;\r\n",
        "            \r\n",
        "    def display(self):\r\n",
        "        print(\"Sname: \",self.name)\r\n",
        "        print(\"Roll no:\",self.rollno)\r\n",
        "        print(\"Class:\",self.sclass)\r\n",
        "    \r\n",
        "    def __repr__(self):\r\n",
        "        return \"Student information: \" +str(self.rollno) + \" \" +self.name+ \" \" +self.sclass;\r\n",
        "s = student(67,'Ruwaida', 'TY')\r\n",
        "a = student(67,'Ruwaida', 'TY')\r\n",
        "print(s)\r\n",
        "print(a)"
      ],
      "execution_count": 125,
      "outputs": [
        {
          "output_type": "stream",
          "text": [
            "Student information: 67 Ruwaida TY\n",
            "Student information: 67 Ruwaida TY\n"
          ],
          "name": "stdout"
        }
      ]
    },
    {
      "cell_type": "code",
      "metadata": {
        "colab": {
          "base_uri": "https://localhost:8080/"
        },
        "id": "YeaqIc0NcfvH",
        "outputId": "5d40772e-1149-4eb9-adaf-c5774c3e85df"
      },
      "source": [
        "class MyComplex:\r\n",
        "  def __init__(self,r,i):\r\n",
        "    self.real=r;\r\n",
        "    self.img=i;\r\n",
        "  def __add__(self,other):\r\n",
        "    return MyComplex(self.real + other.real,self.img + other.img)\r\n",
        "  def __str__(self):\r\n",
        "    return \"MyComplex object data values:\"+ str(self.real)+ \" + \"+str(self.img)+ \" j \";\r\n",
        "\r\n",
        "a=MyComplex(4,5)\r\n",
        "b=MyComplex(5,4)\r\n",
        "\r\n",
        "c=a+b;\r\n",
        "print(a)\r\n",
        "print(b)\r\n",
        "print(c)\r\n"
      ],
      "execution_count": 130,
      "outputs": [
        {
          "output_type": "stream",
          "text": [
            "MyComplex object data values:4 + 5 j \n",
            "MyComplex object data values:5 + 4 j \n",
            "MyComplex object data values:9 + 9 j \n"
          ],
          "name": "stdout"
        }
      ]
    }
  ]
}